{
 "cells": [
  {
   "cell_type": "markdown",
   "metadata": {
    "application/vnd.databricks.v1+cell": {
     "cellMetadata": {},
     "inputWidgets": {},
     "nuid": "ff72b197-866e-4795-b557-0bd687865146",
     "showTitle": false,
     "tableResultSettingsMap": {},
     "title": ""
    }
   },
   "source": [
    "### **Pipeline de aprendizaje automático con pyspark, gestión del ciclo de vida del proyecto de machine learning con MLflow y despliegue del modelo como servicio REST usando MLflow en Databricks**\n",
    "### \n"
   ]
  },
  {
   "cell_type": "markdown",
   "metadata": {
    "application/vnd.databricks.v1+cell": {
     "cellMetadata": {},
     "inputWidgets": {},
     "nuid": "470070e4-641c-4f91-a532-f0904f2debe2",
     "showTitle": false,
     "tableResultSettingsMap": {},
     "title": ""
    }
   },
   "source": [
    "En función al informe anual sobre el comportamiento de cliente en [E-commerce](https://dianagarcesportilla.github.io/Flexdashboard/#correlaciones) de ropa mujer 2023. se encuentra una correlación lineal positiva fuerte entre los años de membresía del cliente (corr: 0.809) y el gasto anual en compras online. Adicionalmente, una correlación lineal media con la duración de la sesión en la app y el tiempo de exposición en general al sitio (0.499 y 0.355 respectivamente) en minutos.\n",
    "\n",
    "Por lo tanto, se plantea un modelo de regresión múltiple con las tres variables anteriores como regresoras para predecir el gasto anual del cliente. \n",
    "\n",
    "Se define un pipeline con el vector de características (corresponde a las variables regresoras o independientes) y la línea de regresión. se crea la grilla de hiperparámetros y la validación cruzada k-fold para el entrenamiento del modelo.\n",
    "\n",
    "Luego con MLflow: 1. se registra el experimento en Databricks, 2. se realiza el empaquetamiento del mejor modelo, 3. se predice el gasto con los datos de prueba haciendo uso del mejor modelo y se evalua con las métricas rsme y r2, 4. se consulta las ejecuciones del modelo, 5. se carga el modelo guardado y 6. se despliega como servicio REST para realizar predicciones con nuevos datos."
   ]
  },
  {
   "cell_type": "markdown",
   "metadata": {
    "application/vnd.databricks.v1+cell": {
     "cellMetadata": {},
     "inputWidgets": {},
     "nuid": "20e28e38-aeda-4b39-869a-9a9a41675287",
     "showTitle": false,
     "tableResultSettingsMap": {},
     "title": ""
    }
   },
   "source": [
    "**I. Leer archivo desde Azure Blob Storage en Databricks**"
   ]
  },
  {
   "cell_type": "markdown",
   "metadata": {
    "application/vnd.databricks.v1+cell": {
     "cellMetadata": {},
     "inputWidgets": {},
     "nuid": "461639fa-9060-49f1-89e7-8b9a8a064388",
     "showTitle": false,
     "tableResultSettingsMap": {},
     "title": ""
    }
   },
   "source": [
    "Conectar databricks con la cuenta de almacenamiento. Se hace uso de [Key value de Azure](https://learn.microsoft.com/es-es/azure/key-vault/general/basic-concepts) para no ingresar la clave almacenamiento en el código."
   ]
  },
  {
   "cell_type": "code",
   "execution_count": 0,
   "metadata": {
    "application/vnd.databricks.v1+cell": {
     "cellMetadata": {
      "byteLimit": 2048000,
      "rowLimit": 10000
     },
     "inputWidgets": {},
     "nuid": "0bb097b6-2547-431b-aed4-f3e927a1b69a",
     "showTitle": false,
     "tableResultSettingsMap": {},
     "title": ""
    }
   },
   "outputs": [],
   "source": [
    "spark.conf.set(\n",
    "  \"fs.azure.account.key.storagedc1.blob.core.windows.net\",\n",
    "  dbutils.secrets.get(scope = \"kv-scope\", key = \"storage-key\")\n",
    ")"
   ]
  },
  {
   "cell_type": "markdown",
   "metadata": {
    "application/vnd.databricks.v1+cell": {
     "cellMetadata": {},
     "inputWidgets": {},
     "nuid": "7530c744-e5ac-4d9d-ae8b-b2887062bfd3",
     "showTitle": false,
     "tableResultSettingsMap": {},
     "title": ""
    }
   },
   "source": [
    "Leer desde el contenedor de Blob Storage los datos."
   ]
  },
  {
   "cell_type": "code",
   "execution_count": 0,
   "metadata": {
    "application/vnd.databricks.v1+cell": {
     "cellMetadata": {
      "byteLimit": 2048000,
      "rowLimit": 10000
     },
     "inputWidgets": {},
     "nuid": "69784347-bad9-4191-9d5c-a6f4e5efc533",
     "showTitle": false,
     "tableResultSettingsMap": {
      "0": {
       "dataGridStateBlob": "{\"version\":1,\"tableState\":{\"columnPinning\":{\"left\":[\"#row_number#\"],\"right\":[]},\"columnSizing\":{},\"columnVisibility\":{}},\"settings\":{\"columns\":{}},\"syncTimestamp\":1751994380555}",
       "filterBlob": null,
       "queryPlanFiltersBlob": null,
       "tableResultIndex": 0
      }
     },
     "title": ""
    }
   },
   "outputs": [],
   "source": [
    "df = spark.read.format(\"csv\")\\\n",
    "     .option(\"header\", \"true\")\\\n",
    "     .option(\"inferSchema\", \"true\") \\\n",
    "     .option(\"delimiter\", \";\") \\\n",
    "     .load(\"wasbs://dataempresarial@storagedc1.blob.core.windows.net/Ecommerce01.csv\")\n",
    "df.display()"
   ]
  },
  {
   "cell_type": "code",
   "execution_count": 0,
   "metadata": {
    "application/vnd.databricks.v1+cell": {
     "cellMetadata": {
      "byteLimit": 2048000,
      "rowLimit": 10000
     },
     "inputWidgets": {},
     "nuid": "517fe946-8da0-440e-9dcd-ccf0f66baeab",
     "showTitle": false,
     "tableResultSettingsMap": {},
     "title": ""
    }
   },
   "outputs": [
    {
     "output_type": "stream",
     "name": "stdout",
     "output_type": "stream",
     "text": [
      "root\n |-- Id_cliente: integer (nullable = true)\n |-- min_promedio_sesion: double (nullable = true)\n |-- min_en_app: double (nullable = true)\n |-- min_en_web: double (nullable = true)\n |-- anos_miembro: double (nullable = true)\n |-- valor_compras_anuales_cop: integer (nullable = true)\n\n"
     ]
    }
   ],
   "source": [
    "df.printSchema()"
   ]
  },
  {
   "cell_type": "markdown",
   "metadata": {
    "application/vnd.databricks.v1+cell": {
     "cellMetadata": {},
     "inputWidgets": {},
     "nuid": "8edec08b-97f0-4c04-9797-b530c91c9aaf",
     "showTitle": false,
     "tableResultSettingsMap": {},
     "title": ""
    }
   },
   "source": [
    "**II. Entrenamiento del modelo de regresión múltiple, evaluación y seguimiento (tracking) con MLflow**"
   ]
  },
  {
   "cell_type": "code",
   "execution_count": 0,
   "metadata": {
    "application/vnd.databricks.v1+cell": {
     "cellMetadata": {
      "byteLimit": 2048000,
      "rowLimit": 10000
     },
     "inputWidgets": {},
     "nuid": "898b4bea-de13-4f77-a737-565841cc3454",
     "showTitle": false,
     "tableResultSettingsMap": {},
     "title": ""
    }
   },
   "outputs": [],
   "source": [
    "#Dividir la data en datos de entrenamiento y de prueba\n",
    "trainDF, testDF = df.randomSplit([0.8, 0.2], seed=42)"
   ]
  },
  {
   "cell_type": "code",
   "execution_count": 0,
   "metadata": {
    "application/vnd.databricks.v1+cell": {
     "cellMetadata": {
      "byteLimit": 2048000,
      "rowLimit": 10000
     },
     "inputWidgets": {},
     "nuid": "dd521509-58b3-4f0f-ba68-ed840f2a0b7c",
     "showTitle": false,
     "tableResultSettingsMap": {},
     "title": ""
    }
   },
   "outputs": [],
   "source": [
    "from pyspark.ml import Pipeline\n",
    "from pyspark.ml.feature import VectorAssembler\n",
    "from pyspark.ml.regression import LinearRegression\n",
    "\n",
    "#Crear el vector de caracterísicas que contiene las variables independientes\n",
    "featureCols = [\"anos_miembro\", \"min_promedio_sesion\", \"min_en_app\"]\n",
    "assembler = VectorAssembler(inputCols=featureCols, outputCol=\"features\")\n",
    "\n",
    "#Definir el modelo de regresión lineal\n",
    "lr = LinearRegression(featuresCol=\"features\", labelCol=\"valor_compras_anuales_cop\")\n",
    "\n",
    "#Pipeline\n",
    "pipeline = Pipeline(stages = [assembler, lr])"
   ]
  },
  {
   "cell_type": "code",
   "execution_count": 0,
   "metadata": {
    "application/vnd.databricks.v1+cell": {
     "cellMetadata": {
      "byteLimit": 2048000,
      "rowLimit": 10000
     },
     "inputWidgets": {},
     "nuid": "c63c498b-9e49-4b07-9ca3-c107bd5ace36",
     "showTitle": false,
     "tableResultSettingsMap": {},
     "title": ""
    }
   },
   "outputs": [],
   "source": [
    "from pyspark.ml.tuning import ParamGridBuilder\n",
    "\n",
    "#Grid de hiperparámetros\n",
    "paramGrid = (ParamGridBuilder()\n",
    "  .addGrid(lr.maxIter, [1, 10, 100]) #numero de iteraciones\n",
    "  .addGrid(lr.fitIntercept, [True, False]) #con o sin intercepto  \n",
    "  .addGrid(lr.standardization, [True, False]) #con o sin estandariación de variables\n",
    "  .build()\n",
    ")"
   ]
  },
  {
   "cell_type": "code",
   "execution_count": 0,
   "metadata": {
    "application/vnd.databricks.v1+cell": {
     "cellMetadata": {
      "byteLimit": 2048000,
      "rowLimit": 10000
     },
     "inputWidgets": {},
     "nuid": "bb3ad69a-7168-428f-af56-8eaf033e3409",
     "showTitle": false,
     "tableResultSettingsMap": {},
     "title": ""
    }
   },
   "outputs": [],
   "source": [
    "from pyspark.ml.evaluation import RegressionEvaluator\n",
    "from pyspark.ml.tuning import CrossValidator\n",
    "\n",
    "#Evaluador\n",
    "evaluator = RegressionEvaluator(\n",
    "  labelCol = \"valor_compras_anuales_cop\",\n",
    "  predictionCol = \"prediction\"\n",
    ")\n",
    "\n",
    "#Validación cruzada\n",
    "cv = CrossValidator(\n",
    "  estimator = pipeline,             \n",
    "  estimatorParamMaps = paramGrid,   \n",
    "  evaluator=evaluator,              \n",
    "  numFolds = 3,                     \n",
    "  seed = 42                         \n",
    ")"
   ]
  },
  {
   "cell_type": "code",
   "execution_count": 0,
   "metadata": {
    "application/vnd.databricks.v1+cell": {
     "cellMetadata": {
      "byteLimit": 2048000,
      "rowLimit": 10000
     },
     "inputWidgets": {},
     "nuid": "f2da96a9-09f0-4a4c-93b7-baf40dc72aa4",
     "showTitle": false,
     "tableResultSettingsMap": {},
     "title": ""
    }
   },
   "outputs": [
    {
     "output_type": "stream",
     "name": "stderr",
     "output_type": "stream",
     "text": [
      "/databricks/python/lib/python3.11/site-packages/mlflow/types/utils.py:394: UserWarning: Hint: Inferred schema contains integer column(s). Integer columns in Python cannot represent missing values. If your input data contains missing values at inference time, it will be encoded as floats and will cause a schema enforcement error. The best way to avoid this problem is to infer the model schema based on a realistic data sample (training dataset) that includes missing values. Alternatively, you can declare integer columns as doubles (float64) whenever these columns may have missing values. See `Handling Integers With Missing Values <https://www.mlflow.org/docs/latest/models.html#handling-integers-with-missing-values>`_ for more details.\n  warnings.warn(\n2025/07/10 20:21:08 INFO mlflow.spark: Inferring pip requirements by reloading the logged model from the databricks artifact repository, which can be time-consuming. To speed up, explicitly specify the conda_env or pip_requirements when calling log_model().\n"
     ]
    },
    {
     "output_type": "display_data",
     "data": {
      "application/vnd.jupyter.widget-view+json": {
       "model_id": "b4da7426d5a34d0ebfc5b32781d298f3",
       "version_major": 2,
       "version_minor": 0
      },
      "text/plain": [
       "Downloading artifacts:   0%|          | 0/20 [00:00<?, ?it/s]"
      ]
     },
     "metadata": {},
     "output_type": "display_data"
    },
    {
     "output_type": "stream",
     "name": "stderr",
     "output_type": "stream",
     "text": [
      "2025/07/10 20:21:32 WARNING mlflow.utils.environment: Encountered an unexpected error while inferring pip requirements (model URI: dbfs:/databricks/mlflow-tracking/1032021877304985/9b38ab83863f4a97b1d0ecafdd2934fc/artifacts/lrmodel_ecommerce/sparkml, flavor: spark). Fall back to return ['pyspark==3.5.0']. Set logging level to DEBUG to see the full traceback. \n/databricks/python/lib/python3.11/site-packages/_distutils_hack/__init__.py:33: UserWarning: Setuptools is replacing distutils.\n  warnings.warn(\"Setuptools is replacing distutils.\")\n"
     ]
    },
    {
     "output_type": "display_data",
     "data": {
      "application/vnd.jupyter.widget-view+json": {
       "model_id": "514e10485c0845bd92655c8725fe7f7a",
       "version_major": 2,
       "version_minor": 0
      },
      "text/plain": [
       "Uploading artifacts:   0%|          | 0/5 [00:00<?, ?it/s]"
      ]
     },
     "metadata": {},
     "output_type": "display_data"
    },
    {
     "output_type": "stream",
     "name": "stderr",
     "output_type": "stream",
     "text": [
      "Registered model 'modelo_regresion_ecommerce' already exists. Creating a new version of this model...\n"
     ]
    },
    {
     "output_type": "display_data",
     "data": {
      "application/vnd.jupyter.widget-view+json": {
       "model_id": "802932edaf9848078747e7cbbe107dc1",
       "version_major": 2,
       "version_minor": 0
      },
      "text/plain": [
       "Downloading artifacts:   0%|          | 0/25 [00:00<?, ?it/s]"
      ]
     },
     "metadata": {},
     "output_type": "display_data"
    },
    {
     "output_type": "display_data",
     "data": {
      "application/vnd.jupyter.widget-view+json": {
       "model_id": "6117bfd3d7dd41298d6be18d2a5caa69",
       "version_major": 2,
       "version_minor": 0
      },
      "text/plain": [
       "Uploading artifacts:   0%|          | 0/25 [00:00<?, ?it/s]"
      ]
     },
     "metadata": {},
     "output_type": "display_data"
    },
    {
     "output_type": "stream",
     "name": "stderr",
     "output_type": "stream",
     "text": [
      "Created version '1' of model 'databricks_dc_diana.default.modelo_regresion_ecommerce'.\n"
     ]
    }
   ],
   "source": [
    "import mlflow         #MLflow para el tracking de experimentos.\n",
    "import mlflow.spark   #registrar modelo Spark directamente (como PipelineModel, LinearRegressionModel, etc.).\n",
    "from mlflow.models.signature import infer_signature\n",
    "\n",
    "# Finalizar ejecución anterior si existe\n",
    "if mlflow.active_run():\n",
    "    mlflow.end_run()\n",
    "\n",
    "mlflow.set_experiment(f\"/Users/diseno360.com@outlook.com/mrecommerce-mlflow\") #en que experimento guardar ejecución.\n",
    "\n",
    "with mlflow.start_run(run_name=\"LR-ecommerce\") as run: #inicia una nueva ejecución de mlflow con nombre LR-ecommerce\n",
    "    \n",
    "    # Entrenar con CrossValidator\n",
    "    cvModel = cv.fit(trainDF)\n",
    "\n",
    "    # Obtener mejor modelo\n",
    "    best_Model = cvModel.bestModel #mejor modelo completo (pipeline) que fue entrenado durante la validación cruzada.\n",
    "    lrModel = best_Model.stages[-1]  #accede directamente a la última etapa del pipeline, en este caso el modelo  \n",
    "                                     #LinearRegression. se usa para acceder a los coeficientes, intercepto o #hiperparámetros\n",
    "    # Registro de parámetros\n",
    "    mlflow.log_param(\"label\", \"valor_compras_anuales_cop\")\n",
    "    mlflow.log_param(\"features\", \"anos_miembro, min_promedio_sesion, min_en_app\")\n",
    "    mlflow.log_param(\"model_type\", \"LinearRegression\")\n",
    "\n",
    "    # Lista de hiperparámetros que se desean registrar\n",
    "    params_interes = {\"fitIntercept\", \"maxIter\", \"standardization\"}\n",
    "\n",
    "    for param, value in lrModel.extractParamMap().items():\n",
    "        name = param.name\n",
    "        if name in params_interes:\n",
    "            mlflow.log_param(name, value)\n",
    "\n",
    "    # Registrar intercepto\n",
    "    mlflow.log_param(\"intercept\", lrModel.intercept)\n",
    "    \n",
    "    # Registrar coeficientes como string\n",
    "    coef_str = \", \".join([f\"{v:.6f}\" for v in lrModel.coefficients])\n",
    "    mlflow.log_param(\"coefficients\", coef_str)\n",
    "\n",
    "\n",
    "    # Firma del modelo\n",
    "    sample_input_pdf = trainDF.limit(20).toPandas()\n",
    "    sample_output_pdf = best_Model.transform(trainDF.limit(20)).select(\"prediction\").toPandas()\n",
    "    signature = infer_signature(sample_input_pdf, sample_output_pdf)\n",
    "    \n",
    "   \n",
    "    #Registrar el modelo con firma y ejemplo, para desplegarlo como API REST\n",
    "    mlflow.spark.log_model(\n",
    "        spark_model=best_Model,\n",
    "        artifact_path=\"lrmodel_ecommerce\",\n",
    "        registered_model_name=\"modelo_regresion_ecommerce\",\n",
    "        signature=signature,\n",
    "        input_example=sample_input_pdf\n",
    "    )\n",
    "\n",
    "    # Predecir y evaluar\n",
    "    predictions = best_Model.transform(testDF) #Aplica el pipeline completo al conjunto de prueba.\n",
    "    regressionEvaluator = RegressionEvaluator(predictionCol=\"prediction\", labelCol=\"valor_compras_anuales_cop\")\n",
    "    mse = regressionEvaluator.setMetricName(\"mse\").evaluate(predictions)\n",
    "    rmse = regressionEvaluator.setMetricName(\"rmse\").evaluate(predictions)\n",
    "    r2 = regressionEvaluator.setMetricName(\"r2\").evaluate(predictions)\n",
    "\n",
    "    # Metricas\n",
    "    mlflow.log_metric(\"mse\", mse) #registra la métrica error cuadrático medio\n",
    "    mlflow.log_metric(\"rmse\", rmse) #registra la métrica la raíz del error cuadrático medio\n",
    "    mlflow.log_metric(\"r2\", r2) #registra la métrica R² (coeficiente de determinación)"
   ]
  },
  {
   "cell_type": "markdown",
   "metadata": {
    "application/vnd.databricks.v1+cell": {
     "cellMetadata": {},
     "inputWidgets": {},
     "nuid": "1a359807-87da-4c00-8d24-82f04e28ba38",
     "showTitle": false,
     "tableResultSettingsMap": {},
     "title": ""
    }
   },
   "source": [
    "Consulta de ejecuciones del experimento"
   ]
  },
  {
   "cell_type": "code",
   "execution_count": 0,
   "metadata": {
    "application/vnd.databricks.v1+cell": {
     "cellMetadata": {
      "byteLimit": 2048000,
      "rowLimit": 10000
     },
     "inputWidgets": {},
     "nuid": "5fbeb5a3-85a9-4d46-ba1d-6a6e7f5ea59b",
     "showTitle": false,
     "tableResultSettingsMap": {},
     "title": ""
    }
   },
   "outputs": [],
   "source": [
    "from mlflow.tracking import MlflowClient\n",
    "\n",
    "client = MlflowClient()"
   ]
  },
  {
   "cell_type": "code",
   "execution_count": 0,
   "metadata": {
    "application/vnd.databricks.v1+cell": {
     "cellMetadata": {
      "byteLimit": 2048000,
      "rowLimit": 10000
     },
     "inputWidgets": {},
     "nuid": "bc5698ac-b8fd-4517-8af0-de338990dc7d",
     "showTitle": false,
     "tableResultSettingsMap": {},
     "title": ""
    }
   },
   "outputs": [
    {
     "output_type": "execute_result",
     "data": {
      "text/plain": [
       "[<Experiment: artifact_location='dbfs:/databricks/mlflow-tracking/1032021877304985', creation_time=1752017421539, experiment_id='1032021877304985', last_update_time=1752178838366, lifecycle_stage='active', name='/Users/diseno360.com@outlook.com/mrecommerce-mlflow', tags={'mlflow.experiment.sourceName': '/Users/diseno360.com@outlook.com/mrecommerce-mlflow',\n",
       "  'mlflow.experimentKind': 'custom_model_development',\n",
       "  'mlflow.experimentType': 'MLFLOW_EXPERIMENT',\n",
       "  'mlflow.ownerEmail': 'diseno360.com@outlook.com',\n",
       "  'mlflow.ownerId': '993783110248991'}>]"
      ]
     },
     "execution_count": 10,
     "metadata": {},
     "output_type": "execute_result"
    }
   ],
   "source": [
    "#Datos generales del experimento como su localización, id, datos del propietario.\n",
    "client.search_experiments()"
   ]
  },
  {
   "cell_type": "code",
   "execution_count": 0,
   "metadata": {
    "application/vnd.databricks.v1+cell": {
     "cellMetadata": {
      "byteLimit": 2048000,
      "rowLimit": 10000
     },
     "inputWidgets": {},
     "nuid": "53af8648-70e3-4eb9-839d-83757368be00",
     "showTitle": false,
     "tableResultSettingsMap": {},
     "title": ""
    }
   },
   "outputs": [
    {
     "output_type": "display_data",
     "data": {
      "text/html": [
       "<style scoped>\n",
       "  .table-result-container {\n",
       "    max-height: 300px;\n",
       "    overflow: auto;\n",
       "  }\n",
       "  table, th, td {\n",
       "    border: 1px solid black;\n",
       "    border-collapse: collapse;\n",
       "  }\n",
       "  th, td {\n",
       "    padding: 5px;\n",
       "  }\n",
       "  th {\n",
       "    text-align: left;\n",
       "  }\n",
       "</style><div class='table-result-container'><table class='table-result'><thead style='background-color: white'><tr><th>run_id</th><th>experiment_id</th><th>status</th><th>artifact_uri</th><th>start_time</th><th>end_time</th><th>metrics.r2</th><th>metrics.rmse</th><th>metrics.mse</th><th>params.coefficients</th><th>params.fitIntercept</th><th>params.features</th><th>params.maxIter</th><th>params.model_type</th><th>params.label</th><th>params.intercept</th><th>params.standardization</th><th>tags.mlflow.databricks.cluster.info</th><th>tags.mlflow.source.name</th><th>tags.mlflow.user</th><th>tags.mlflow.runName</th><th>tags.mlflow.runColor</th><th>tags.mlflow.databricks.notebook.commandID</th><th>tags.mlflow.databricks.workspaceURL</th><th>tags.mlflow.databricks.notebookRevisionID</th><th>tags.sparkDatasourceInfo</th><th>tags.mlflow.log-model.history</th><th>tags.mlflow.databricks.cluster.libraries</th><th>tags.mlflow.databricks.cluster.id</th><th>tags.mlflow.databricks.notebookID</th><th>tags.mlflow.databricks.notebookPath</th><th>tags.mlflow.databricks.workspaceID</th><th>tags.mlflow.databricks.webappURL</th><th>tags.mlflow.source.type</th></tr></thead><tbody><tr><td>9b38ab83863f4a97b1d0ecafdd2934fc</td><td>1032021877304985</td><td>FINISHED</td><td>dbfs:/databricks/mlflow-tracking/1032021877304985/9b38ab83863f4a97b1d0ecafdd2934fc/artifacts</td><td>2025-07-10T20:20:38.366Z</td><td>2025-07-10T20:21:39.986Z</td><td>0.9849821343285992</td><td>39415.907132078806</td><td>1.5536137350446608E9</td><td>244869.514915, 103504.062769, 154945.782813</td><td>True</td><td>anos_miembro, min_promedio_sesion, min_en_app</td><td>1</td><td>LinearRegression</td><td>valor_compras_anuales_cop</td><td>-4155482.040576044</td><td>True</td><td>{\"cluster_name\":\"Cluster_ml\",\"spark_version\":\"15.4.x-scala2.12\",\"node_type_id\":\"Standard_D4ds_v5\",\"driver_node_type_id\":\"Standard_D4ds_v5\",\"autotermination_minutes\":120,\"disk_spec\":{},\"num_workers\":0}</td><td>/Users/diseno360.com@outlook.com/ml_Ecommerce</td><td>diseno360.com@outlook.com</td><td>LR-ecommerce</td><td>#7d54b2</td><td>1752178229566_6027425010260375499_3958ccaaffdc431b9d2d9d1ee12ca45e</td><td>adb-747824624093415.15.azuredatabricks.net</td><td>1752178900186</td><td>path=wasbs:REDACTED_LOCAL_PART@storagedc1.blob.core.windows.net/Ecommerce01.csv,format=csv</td><td>[{\"artifact_path\":\"lrmodel_ecommerce\",\"flavors\":{\"spark\":{\"pyspark_version\":\"3.5.0\",\"model_data\":\"sparkml\",\"code\":null,\"model_class\":\"pyspark.ml.pipeline.PipelineModel\"},\"python_function\":{\"loader_module\":\"mlflow.spark\",\"python_version\":\"3.11.11\",\"data\":\"sparkml\",\"env\":{\"conda\":\"conda.yaml\",\"virtualenv\":\"python_env.yaml\"}}},\"utc_time_created\":\"2025-07-10 20:21:08.706675\"}]</td><td>{\"installable\":[],\"redacted\":[]}</td><td>0707-151051-ckdive9m</td><td>4225194139691762</td><td>/Users/diseno360.com@outlook.com/ml_Ecommerce</td><td>747824624093415</td><td>https://centralus-c2.azuredatabricks.net</td><td>NOTEBOOK</td></tr><tr><td>a69f797e0e0448f5962eb22167edc5d1</td><td>1032021877304985</td><td>FINISHED</td><td>dbfs:/databricks/mlflow-tracking/1032021877304985/a69f797e0e0448f5962eb22167edc5d1/artifacts</td><td>2025-07-10T16:42:36.202Z</td><td>2025-07-10T16:43:39.066Z</td><td>0.9849821343285992</td><td>39415.907132078806</td><td>1.5536137350446608E9</td><td>244869.514915, 103504.062769, 154945.782813</td><td>True</td><td>anos_miembro, min_promedio_sesion, min_en_app</td><td>1</td><td>LinearRegression</td><td>valor_compras_anuales_cop</td><td>-4155482.040576044</td><td>True</td><td>{\"cluster_name\":\"Cluster_ml\",\"spark_version\":\"15.4.x-scala2.12\",\"node_type_id\":\"Standard_D4ds_v5\",\"driver_node_type_id\":\"Standard_D4ds_v5\",\"autotermination_minutes\":120,\"disk_spec\":{},\"num_workers\":0}</td><td>/Users/diseno360.com@outlook.com/ml_Ecommerce</td><td>diseno360.com@outlook.com</td><td>LR-ecommerce</td><td>#da4c4c</td><td>1752163226178_8777194128657631767_a2c7eaa6a0544b6fa296a539dac5a8ab</td><td>adb-747824624093415.15.azuredatabricks.net</td><td>1752165819287</td><td>path=wasbs:REDACTED_LOCAL_PART@storagedc1.blob.core.windows.net/Ecommerce01.csv,format=csv</td><td>[{\"artifact_path\":\"lrmodel_ecommerce\",\"flavors\":{\"spark\":{\"pyspark_version\":\"3.5.0\",\"model_data\":\"sparkml\",\"code\":null,\"model_class\":\"pyspark.ml.pipeline.PipelineModel\"},\"python_function\":{\"loader_module\":\"mlflow.spark\",\"python_version\":\"3.11.11\",\"data\":\"sparkml\",\"env\":{\"conda\":\"conda.yaml\",\"virtualenv\":\"python_env.yaml\"}}},\"utc_time_created\":\"2025-07-10 16:43:13.996082\"}]</td><td>{\"installable\":[],\"redacted\":[]}</td><td>0707-151051-ckdive9m</td><td>4225194139691762</td><td>/Users/diseno360.com@outlook.com/ml_Ecommerce</td><td>747824624093415</td><td>https://centralus-c2.azuredatabricks.net</td><td>NOTEBOOK</td></tr><tr><td>294c8bb8f1bb43688ab440ae1c2fd26b</td><td>1032021877304985</td><td>FINISHED</td><td>dbfs:/databricks/mlflow-tracking/1032021877304985/294c8bb8f1bb43688ab440ae1c2fd26b/artifacts</td><td>2025-07-09T23:27:58.243Z</td><td>2025-07-09T23:28:45.904Z</td><td>0.9849821343285992</td><td>39415.907132078806</td><td>1.5536137350446608E9</td><td>244869.514915, 103504.062769, 154945.782813</td><td>True</td><td>anos_miembro, min_promedio_sesion, min_en_app</td><td>1</td><td>LinearRegression</td><td>valor_compras_anuales_cop</td><td>-4155482.040576044</td><td>True</td><td>{\"cluster_name\":\"Cluster_ml\",\"spark_version\":\"15.4.x-scala2.12\",\"node_type_id\":\"Standard_D4ds_v5\",\"driver_node_type_id\":\"Standard_D4ds_v5\",\"autotermination_minutes\":120,\"disk_spec\":{},\"num_workers\":0}</td><td>/Users/diseno360.com@outlook.com/ml_Ecommerce</td><td>diseno360.com@outlook.com</td><td>LR-ecommerce</td><td>#5387dd</td><td>1752093593291_9115720827235219962_6ee0d7eeffb34b40b6cd42a733d83e02</td><td>adb-747824624093415.15.azuredatabricks.net</td><td>1752103726102</td><td>path=wasbs:REDACTED_LOCAL_PART@storagedc1.blob.core.windows.net/Ecommerce01.csv,format=csv</td><td>[{\"artifact_path\":\"lrmodel_ecommerce\",\"flavors\":{\"spark\":{\"pyspark_version\":\"3.5.0\",\"model_data\":\"sparkml\",\"code\":null,\"model_class\":\"pyspark.ml.pipeline.PipelineModel\"},\"python_function\":{\"loader_module\":\"mlflow.spark\",\"python_version\":\"3.11.11\",\"data\":\"sparkml\",\"env\":{\"conda\":\"conda.yaml\",\"virtualenv\":\"python_env.yaml\"}}},\"utc_time_created\":\"2025-07-09 23:28:22.327064\"}]</td><td>{\"installable\":[],\"redacted\":[]}</td><td>0707-151051-ckdive9m</td><td>4225194139691762</td><td>/Users/diseno360.com@outlook.com/ml_Ecommerce</td><td>747824624093415</td><td>https://centralus-c2.azuredatabricks.net</td><td>NOTEBOOK</td></tr></tbody></table></div>"
      ]
     },
     "metadata": {
      "application/vnd.databricks.v1+output": {
       "addedWidgets": {},
       "aggData": [],
       "aggError": "",
       "aggOverflow": false,
       "aggSchema": [],
       "aggSeriesLimitReached": false,
       "aggType": "",
       "arguments": {},
       "columnCustomDisplayInfos": {},
       "data": [
        [
         "9b38ab83863f4a97b1d0ecafdd2934fc",
         "1032021877304985",
         "FINISHED",
         "dbfs:/databricks/mlflow-tracking/1032021877304985/9b38ab83863f4a97b1d0ecafdd2934fc/artifacts",
         "2025-07-10T20:20:38.366Z",
         "2025-07-10T20:21:39.986Z",
         0.9849821343285992,
         39415.907132078806,
         1.5536137350446608E9,
         "244869.514915, 103504.062769, 154945.782813",
         "True",
         "anos_miembro, min_promedio_sesion, min_en_app",
         "1",
         "LinearRegression",
         "valor_compras_anuales_cop",
         "-4155482.040576044",
         "True",
         "{\"cluster_name\":\"Cluster_ml\",\"spark_version\":\"15.4.x-scala2.12\",\"node_type_id\":\"Standard_D4ds_v5\",\"driver_node_type_id\":\"Standard_D4ds_v5\",\"autotermination_minutes\":120,\"disk_spec\":{},\"num_workers\":0}",
         "/Users/diseno360.com@outlook.com/ml_Ecommerce",
         "diseno360.com@outlook.com",
         "LR-ecommerce",
         "#7d54b2",
         "1752178229566_6027425010260375499_3958ccaaffdc431b9d2d9d1ee12ca45e",
         "adb-747824624093415.15.azuredatabricks.net",
         "1752178900186",
         "path=wasbs:REDACTED_LOCAL_PART@storagedc1.blob.core.windows.net/Ecommerce01.csv,format=csv",
         "[{\"artifact_path\":\"lrmodel_ecommerce\",\"flavors\":{\"spark\":{\"pyspark_version\":\"3.5.0\",\"model_data\":\"sparkml\",\"code\":null,\"model_class\":\"pyspark.ml.pipeline.PipelineModel\"},\"python_function\":{\"loader_module\":\"mlflow.spark\",\"python_version\":\"3.11.11\",\"data\":\"sparkml\",\"env\":{\"conda\":\"conda.yaml\",\"virtualenv\":\"python_env.yaml\"}}},\"utc_time_created\":\"2025-07-10 20:21:08.706675\"}]",
         "{\"installable\":[],\"redacted\":[]}",
         "0707-151051-ckdive9m",
         "4225194139691762",
         "/Users/diseno360.com@outlook.com/ml_Ecommerce",
         "747824624093415",
         "https://centralus-c2.azuredatabricks.net",
         "NOTEBOOK"
        ],
        [
         "a69f797e0e0448f5962eb22167edc5d1",
         "1032021877304985",
         "FINISHED",
         "dbfs:/databricks/mlflow-tracking/1032021877304985/a69f797e0e0448f5962eb22167edc5d1/artifacts",
         "2025-07-10T16:42:36.202Z",
         "2025-07-10T16:43:39.066Z",
         0.9849821343285992,
         39415.907132078806,
         1.5536137350446608E9,
         "244869.514915, 103504.062769, 154945.782813",
         "True",
         "anos_miembro, min_promedio_sesion, min_en_app",
         "1",
         "LinearRegression",
         "valor_compras_anuales_cop",
         "-4155482.040576044",
         "True",
         "{\"cluster_name\":\"Cluster_ml\",\"spark_version\":\"15.4.x-scala2.12\",\"node_type_id\":\"Standard_D4ds_v5\",\"driver_node_type_id\":\"Standard_D4ds_v5\",\"autotermination_minutes\":120,\"disk_spec\":{},\"num_workers\":0}",
         "/Users/diseno360.com@outlook.com/ml_Ecommerce",
         "diseno360.com@outlook.com",
         "LR-ecommerce",
         "#da4c4c",
         "1752163226178_8777194128657631767_a2c7eaa6a0544b6fa296a539dac5a8ab",
         "adb-747824624093415.15.azuredatabricks.net",
         "1752165819287",
         "path=wasbs:REDACTED_LOCAL_PART@storagedc1.blob.core.windows.net/Ecommerce01.csv,format=csv",
         "[{\"artifact_path\":\"lrmodel_ecommerce\",\"flavors\":{\"spark\":{\"pyspark_version\":\"3.5.0\",\"model_data\":\"sparkml\",\"code\":null,\"model_class\":\"pyspark.ml.pipeline.PipelineModel\"},\"python_function\":{\"loader_module\":\"mlflow.spark\",\"python_version\":\"3.11.11\",\"data\":\"sparkml\",\"env\":{\"conda\":\"conda.yaml\",\"virtualenv\":\"python_env.yaml\"}}},\"utc_time_created\":\"2025-07-10 16:43:13.996082\"}]",
         "{\"installable\":[],\"redacted\":[]}",
         "0707-151051-ckdive9m",
         "4225194139691762",
         "/Users/diseno360.com@outlook.com/ml_Ecommerce",
         "747824624093415",
         "https://centralus-c2.azuredatabricks.net",
         "NOTEBOOK"
        ],
        [
         "294c8bb8f1bb43688ab440ae1c2fd26b",
         "1032021877304985",
         "FINISHED",
         "dbfs:/databricks/mlflow-tracking/1032021877304985/294c8bb8f1bb43688ab440ae1c2fd26b/artifacts",
         "2025-07-09T23:27:58.243Z",
         "2025-07-09T23:28:45.904Z",
         0.9849821343285992,
         39415.907132078806,
         1.5536137350446608E9,
         "244869.514915, 103504.062769, 154945.782813",
         "True",
         "anos_miembro, min_promedio_sesion, min_en_app",
         "1",
         "LinearRegression",
         "valor_compras_anuales_cop",
         "-4155482.040576044",
         "True",
         "{\"cluster_name\":\"Cluster_ml\",\"spark_version\":\"15.4.x-scala2.12\",\"node_type_id\":\"Standard_D4ds_v5\",\"driver_node_type_id\":\"Standard_D4ds_v5\",\"autotermination_minutes\":120,\"disk_spec\":{},\"num_workers\":0}",
         "/Users/diseno360.com@outlook.com/ml_Ecommerce",
         "diseno360.com@outlook.com",
         "LR-ecommerce",
         "#5387dd",
         "1752093593291_9115720827235219962_6ee0d7eeffb34b40b6cd42a733d83e02",
         "adb-747824624093415.15.azuredatabricks.net",
         "1752103726102",
         "path=wasbs:REDACTED_LOCAL_PART@storagedc1.blob.core.windows.net/Ecommerce01.csv,format=csv",
         "[{\"artifact_path\":\"lrmodel_ecommerce\",\"flavors\":{\"spark\":{\"pyspark_version\":\"3.5.0\",\"model_data\":\"sparkml\",\"code\":null,\"model_class\":\"pyspark.ml.pipeline.PipelineModel\"},\"python_function\":{\"loader_module\":\"mlflow.spark\",\"python_version\":\"3.11.11\",\"data\":\"sparkml\",\"env\":{\"conda\":\"conda.yaml\",\"virtualenv\":\"python_env.yaml\"}}},\"utc_time_created\":\"2025-07-09 23:28:22.327064\"}]",
         "{\"installable\":[],\"redacted\":[]}",
         "0707-151051-ckdive9m",
         "4225194139691762",
         "/Users/diseno360.com@outlook.com/ml_Ecommerce",
         "747824624093415",
         "https://centralus-c2.azuredatabricks.net",
         "NOTEBOOK"
        ]
       ],
       "datasetInfos": [],
       "dbfsResultPath": null,
       "isJsonSchema": true,
       "metadata": {},
       "overflow": false,
       "plotOptions": {
        "customPlotOptions": {},
        "displayType": "table",
        "pivotAggregation": null,
        "pivotColumns": null,
        "xColumns": null,
        "yColumns": null
       },
       "removedWidgets": [],
       "schema": [
        {
         "metadata": "{}",
         "name": "run_id",
         "type": "\"string\""
        },
        {
         "metadata": "{}",
         "name": "experiment_id",
         "type": "\"string\""
        },
        {
         "metadata": "{}",
         "name": "status",
         "type": "\"string\""
        },
        {
         "metadata": "{}",
         "name": "artifact_uri",
         "type": "\"string\""
        },
        {
         "metadata": "{}",
         "name": "start_time",
         "type": "\"timestamp\""
        },
        {
         "metadata": "{}",
         "name": "end_time",
         "type": "\"timestamp\""
        },
        {
         "metadata": "{}",
         "name": "metrics.r2",
         "type": "\"double\""
        },
        {
         "metadata": "{}",
         "name": "metrics.rmse",
         "type": "\"double\""
        },
        {
         "metadata": "{}",
         "name": "metrics.mse",
         "type": "\"double\""
        },
        {
         "metadata": "{}",
         "name": "params.coefficients",
         "type": "\"string\""
        },
        {
         "metadata": "{}",
         "name": "params.fitIntercept",
         "type": "\"string\""
        },
        {
         "metadata": "{}",
         "name": "params.features",
         "type": "\"string\""
        },
        {
         "metadata": "{}",
         "name": "params.maxIter",
         "type": "\"string\""
        },
        {
         "metadata": "{}",
         "name": "params.model_type",
         "type": "\"string\""
        },
        {
         "metadata": "{}",
         "name": "params.label",
         "type": "\"string\""
        },
        {
         "metadata": "{}",
         "name": "params.intercept",
         "type": "\"string\""
        },
        {
         "metadata": "{}",
         "name": "params.standardization",
         "type": "\"string\""
        },
        {
         "metadata": "{}",
         "name": "tags.mlflow.databricks.cluster.info",
         "type": "\"string\""
        },
        {
         "metadata": "{}",
         "name": "tags.mlflow.source.name",
         "type": "\"string\""
        },
        {
         "metadata": "{}",
         "name": "tags.mlflow.user",
         "type": "\"string\""
        },
        {
         "metadata": "{}",
         "name": "tags.mlflow.runName",
         "type": "\"string\""
        },
        {
         "metadata": "{}",
         "name": "tags.mlflow.runColor",
         "type": "\"string\""
        },
        {
         "metadata": "{}",
         "name": "tags.mlflow.databricks.notebook.commandID",
         "type": "\"string\""
        },
        {
         "metadata": "{}",
         "name": "tags.mlflow.databricks.workspaceURL",
         "type": "\"string\""
        },
        {
         "metadata": "{}",
         "name": "tags.mlflow.databricks.notebookRevisionID",
         "type": "\"string\""
        },
        {
         "metadata": "{}",
         "name": "tags.sparkDatasourceInfo",
         "type": "\"string\""
        },
        {
         "metadata": "{}",
         "name": "tags.mlflow.log-model.history",
         "type": "\"string\""
        },
        {
         "metadata": "{}",
         "name": "tags.mlflow.databricks.cluster.libraries",
         "type": "\"string\""
        },
        {
         "metadata": "{}",
         "name": "tags.mlflow.databricks.cluster.id",
         "type": "\"string\""
        },
        {
         "metadata": "{}",
         "name": "tags.mlflow.databricks.notebookID",
         "type": "\"string\""
        },
        {
         "metadata": "{}",
         "name": "tags.mlflow.databricks.notebookPath",
         "type": "\"string\""
        },
        {
         "metadata": "{}",
         "name": "tags.mlflow.databricks.workspaceID",
         "type": "\"string\""
        },
        {
         "metadata": "{}",
         "name": "tags.mlflow.databricks.webappURL",
         "type": "\"string\""
        },
        {
         "metadata": "{}",
         "name": "tags.mlflow.source.type",
         "type": "\"string\""
        }
       ],
       "type": "table"
      }
     },
     "output_type": "display_data"
    }
   ],
   "source": [
    "#información sobre las ejecuciones (runs) del experimento\n",
    "experiment_id = run.info.experiment_id\n",
    "runs_df = mlflow.search_runs(experiment_id)\n",
    "\n",
    "display(runs_df)"
   ]
  },
  {
   "cell_type": "code",
   "execution_count": 0,
   "metadata": {
    "application/vnd.databricks.v1+cell": {
     "cellMetadata": {
      "byteLimit": 2048000,
      "rowLimit": 10000
     },
     "inputWidgets": {},
     "nuid": "ad4f4ffe-9dbf-487c-b373-78b4c4365c27",
     "showTitle": false,
     "tableResultSettingsMap": {},
     "title": ""
    }
   },
   "outputs": [
    {
     "output_type": "execute_result",
     "data": {
      "text/plain": [
       "{'r2': 0.9849821343285992,\n",
       " 'mse': 1553613735.0446608,\n",
       " 'rmse': 39415.907132078806}"
      ]
     },
     "execution_count": 13,
     "metadata": {},
     "output_type": "execute_result"
    }
   ],
   "source": [
    "#Obtener la última ejecución y ver las métricas.\n",
    "runs = client.search_runs(experiment_id, order_by=[\"attributes.start_time desc\"], max_results=1)\n",
    "runs[0].data.metrics"
   ]
  },
  {
   "cell_type": "markdown",
   "metadata": {
    "application/vnd.databricks.v1+cell": {
     "cellMetadata": {},
     "inputWidgets": {},
     "nuid": "0b472859-cf68-4629-a422-20c00733d615",
     "showTitle": false,
     "tableResultSettingsMap": {},
     "title": ""
    }
   },
   "source": [
    "La raíz del error cuadrático edio es de $39.415 pesos, por lo tanto, el error entre las predicciones y los valores reales del gasto anual del cliente en el e-commerce no es significativo, teniendo en cuenta que el gasto anual se en encuentra en el rango de 1 a 3 millones de pesos.\n",
    "\n",
    "Adicionalmente,  alrededor  del 98.49 por ciento de  la  variabilidad del gasto anual del cliente en el ecommerce, es explicada por los variables independientes o regresoras años de mebresía, tiempo de navegación en la app y el tiempo de exposición en general al sitio. "
   ]
  },
  {
   "cell_type": "code",
   "execution_count": 0,
   "metadata": {
    "application/vnd.databricks.v1+cell": {
     "cellMetadata": {
      "byteLimit": 2048000,
      "rowLimit": 10000
     },
     "inputWidgets": {},
     "nuid": "9b513e84-ee56-4ece-9339-2fbf940fd6cb",
     "showTitle": false,
     "tableResultSettingsMap": {},
     "title": ""
    }
   },
   "outputs": [
    {
     "output_type": "execute_result",
     "data": {
      "text/plain": [
       "'9b38ab83863f4a97b1d0ecafdd2934fc'"
      ]
     },
     "execution_count": 14,
     "metadata": {},
     "output_type": "execute_result"
    }
   ],
   "source": [
    "#run id de la ultima ejecución del experimento\n",
    "run_id = runs[0].info.run_id\n",
    "run_id "
   ]
  },
  {
   "cell_type": "markdown",
   "metadata": {
    "application/vnd.databricks.v1+cell": {
     "cellMetadata": {},
     "inputWidgets": {},
     "nuid": "42eec9a1-8d6e-4f6c-ba76-3c5b12c12ab8",
     "showTitle": false,
     "tableResultSettingsMap": {},
     "title": ""
    }
   },
   "source": [
    "Cargar el modelo guardado"
   ]
  },
  {
   "cell_type": "code",
   "execution_count": 0,
   "metadata": {
    "application/vnd.databricks.v1+cell": {
     "cellMetadata": {
      "byteLimit": 2048000,
      "rowLimit": 10000
     },
     "inputWidgets": {},
     "nuid": "66012ad7-66ca-4289-8249-9b606b3d664c",
     "showTitle": false,
     "tableResultSettingsMap": {},
     "title": ""
    }
   },
   "outputs": [],
   "source": [
    "loaded_model = mlflow.spark.load_model(f\"runs:/{run.info.run_uuid}/lrmodel_ecommerce\")\n",
    "display(loaded_model.transform(testDF))"
   ]
  },
  {
   "cell_type": "markdown",
   "metadata": {
    "application/vnd.databricks.v1+cell": {
     "cellMetadata": {},
     "inputWidgets": {},
     "nuid": "082cc652-5c35-43bb-a93c-9b141acdf928",
     "showTitle": false,
     "tableResultSettingsMap": {},
     "title": ""
    }
   },
   "source": [
    "**III. Despliegue del modelo como servicio REST usando MLflow en Databricks.**"
   ]
  },
  {
   "cell_type": "markdown",
   "metadata": {
    "application/vnd.databricks.v1+cell": {
     "cellMetadata": {},
     "inputWidgets": {},
     "nuid": "b8b8c158-072c-43da-9223-6d42579a9caa",
     "showTitle": false,
     "tableResultSettingsMap": {},
     "title": ""
    }
   },
   "source": [
    "3.1 Activar el endpoint de Model Serving en Databricks\n",
    "\n",
    "-En el menú lateral dar clic en 'Modelos', en los modelos registrados, dar clic en 'modelo_regresion_ecommerce'.\n",
    "\n",
    "![Imagen](https://raw.githubusercontent.com/DianaGarcesPortilla//Pipeline_pyspark-MLflow-Despliegue_API/main/image01.png)"
   ]
  },
  {
   "cell_type": "markdown",
   "metadata": {
    "application/vnd.databricks.v1+cell": {
     "cellMetadata": {},
     "inputWidgets": {},
     "nuid": "8a743cda-1806-4dc1-be64-22f25dfb0d23",
     "showTitle": false,
     "tableResultSettingsMap": {},
     "title": ""
    }
   },
   "source": [
    "-Seleccionar la versión del modelo si hay más de una, en este caso solo existe la versión 1, por lo tanto, dar clic directamente en el botón superior derecho 'Servir este modelo'. Al realizar esta acción se generará un endpoint REST automático, como el que se enmarca en el recuadro verde.\n",
    "\n",
    "![Imagen](https://raw.githubusercontent.com/DianaGarcesPortilla//Pipeline_pyspark-MLflow-Despliegue_API/main/image02.png)\n",
    "\n",
    "![Imagen](https://raw.githubusercontent.com/DianaGarcesPortilla//Pipeline_pyspark-MLflow-Despliegue_API/main/image03.png)"
   ]
  },
  {
   "cell_type": "markdown",
   "metadata": {
    "application/vnd.databricks.v1+cell": {
     "cellMetadata": {},
     "inputWidgets": {},
     "nuid": "07169881-18ad-4c21-b1d8-2c987da356fa",
     "showTitle": false,
     "tableResultSettingsMap": {},
     "title": ""
    }
   },
   "source": [
    "-Antes de utilizar el modelo desplegado, haciendo uso del endpoint creado anteriormente, para realizar predicciones con nuevos datos. Se Configura la tabla de inferencia para registrar automáticamente las entradas y salidas de un modelo en producción en Databricks Model Serving con MLflow."
   ]
  },
  {
   "cell_type": "code",
   "execution_count": 0,
   "metadata": {
    "application/vnd.databricks.v1+cell": {
     "cellMetadata": {
      "byteLimit": 2048000,
      "rowLimit": 10000
     },
     "inputWidgets": {},
     "nuid": "6a11448a-1e0c-4a20-9157-cfe6c48bd947",
     "showTitle": false,
     "tableResultSettingsMap": {},
     "title": ""
    }
   },
   "outputs": [],
   "source": [
    "from pyspark.sql.types import StructType, StructField, DoubleType, StringType, TimestampType\n",
    "\n",
    "schema = StructType([\n",
    "    StructField(\"input\", StructType([\n",
    "        StructField(\"anos_miembro\", DoubleType()),\n",
    "        StructField(\"min_promedio_sesion\", DoubleType()),\n",
    "        StructField(\"min_en_app\", DoubleType())\n",
    "    ])),\n",
    "    StructField(\"prediction\", DoubleType()),\n",
    "    StructField(\"model_version\", StringType()),\n",
    "    StructField(\"timestamp\", TimestampType())\n",
    "])\n",
    "\n",
    "\n",
    "# Definir el nombre completo con catálogo, base de datos y tabla\n",
    "full_table_name = \"databricks_dc_diana.default.inferenciasmodelo_LRecommerce\"\n",
    "\n",
    "# Crear la tabla Delta en el catálogo y base de datos deseados\n",
    "spark.createDataFrame([], schema).write.format(\"delta\").mode(\"ignore\").saveAsTable(full_table_name)\n",
    "\n"
   ]
  },
  {
   "cell_type": "markdown",
   "metadata": {
    "application/vnd.databricks.v1+cell": {
     "cellMetadata": {},
     "inputWidgets": {},
     "nuid": "f3e97da5-25da-4de5-ac1a-d91dc893598f",
     "showTitle": false,
     "tableResultSettingsMap": {},
     "title": ""
    }
   },
   "source": [
    "-Llamar el modelo desplegado en Databricks vía API REST usando Python, desde un notebook de Databricks con es este caso o también desdePython externo."
   ]
  },
  {
   "cell_type": "code",
   "execution_count": 0,
   "metadata": {
    "application/vnd.databricks.v1+cell": {
     "cellMetadata": {},
     "inputWidgets": {},
     "nuid": "f155969b-4f17-4130-927d-70335f0a2c9f",
     "showTitle": false,
     "tableResultSettingsMap": {},
     "title": ""
    }
   },
   "outputs": [],
   "source": [
    "import requests\n",
    "import json\n",
    "\n",
    "#URL del endpoint de predicción\n",
    "endpoint_url = \"https://adb-747824624093415.15.azuredatabricks.net/serving-endpoints/LRecommerce/invocations\"\n",
    "\n",
    "#Token de acceso personal (PAT)\n",
    "token = \"dapi500ea75c3d5e94ab4\" \n",
    "\n",
    "#Datos de entrada (deben coincidir con las columnas del modelo)\n",
    "input_data = {\n",
    "    \"dataframe_split\": {\n",
    "        \"columns\": [\"anos_miembro\", \"min_promedio_sesion\", \"min_en_app\"],\n",
    "        \"data\": [\n",
    "            [5, 38.2, 14.0],\n",
    "            [3, 50.1, 20.5]\n",
    "        ]\n",
    "    }\n",
    "}\n",
    "\n",
    "#Cabeceras HTTP con token de autenticación\n",
    "headers = {\n",
    "    \"Authorization\": f\"Bearer {token}\",\n",
    "    \"Content-Type\": \"application/json\"\n",
    "}\n",
    "\n",
    "# Enviar solicitud POST\n",
    "response = requests.post(endpoint_url, headers=headers, json=input_data)\n",
    "\n",
    "#Mostrar la predicción\n",
    "if response.status_code == 200:\n",
    "    predictions = response.json()\n",
    "    print(\"Predicciones:\", predictions)\n",
    "else:\n",
    "    print(\"Error:\", response.status_code, response.text)\n"
   ]
  }
 ],
 "metadata": {
  "application/vnd.databricks.v1+notebook": {
   "computePreferences": null,
   "dashboards": [],
   "environmentMetadata": {
    "base_environment": "",
    "environment_version": "2"
   },
   "inputWidgetPreferences": null,
   "language": "python",
   "notebookMetadata": {
    "pythonIndentUnit": 4
   },
   "notebookName": "(Clone) ml_Ecommerce",
   "widgets": {}
  },
  "language_info": {
   "name": "python"
  }
 },
 "nbformat": 4,
 "nbformat_minor": 0
}