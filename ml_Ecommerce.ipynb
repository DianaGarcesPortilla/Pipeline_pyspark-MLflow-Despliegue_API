{
 "cells": [
  {
   "cell_type": "markdown",
   "metadata": {
    "application/vnd.databricks.v1+cell": {
     "cellMetadata": {},
     "inputWidgets": {},
     "nuid": "ff72b197-866e-4795-b557-0bd687865146",
     "showTitle": false,
     "tableResultSettingsMap": {},
     "title": ""
    }
   },
   "source": [
    "### **Pipeline de aprendizaje automático con pyspark, gestión del ciclo de vida del proyecto de machine learning con MLflow y despliegue del modelo como servicio REST usando MLflow en Databricks**\n",
    "### \n"
   ]
  },
  {
   "cell_type": "markdown",
   "metadata": {
    "application/vnd.databricks.v1+cell": {
     "cellMetadata": {},
     "inputWidgets": {},
     "nuid": "470070e4-641c-4f91-a532-f0904f2debe2",
     "showTitle": false,
     "tableResultSettingsMap": {},
     "title": ""
    }
   },
   "source": [
    "En función al informe anual sobre el comportamiento de cliente en [E-commerce](https://dianagarcesportilla.github.io/Flexdashboard/#correlaciones) de ropa mujer 2023. se encuentra una correlación lineal positiva fuerte entre los años de membresía del cliente y el gasto anual en compras online (corr: 0.809). Adicionalmente, una correlación lineal media con la duración de la sesión en la app y el tiempo de exposición en general al sitio (0.499 y 0.355 respectivamente) en minutos.\n",
    "\n",
    "Por lo tanto, se plantea un modelo de regresión múltiple con las tres variables anteriores como regresoras para predecir el gasto anual del cliente. \n",
    "\n",
    "Se define un pipeline con el vector de características (corresponde a las variables regresoras o independientes) y la línea de regresión. se crea la grilla de hiperparámetros y la validación cruzada k-fold para el entrenamiento del modelo.\n",
    "\n",
    "Luego con MLflow: 1. se registra el experimento en Databricks, 2. se realiza el empaquetamiento del mejor modelo, 3. se predice el gasto con los datos de prueba haciendo uso del mejor modelo y se evalua con las métricas rsme y r2, 4. se consulta las ejecuciones del modelo, 5. se carga el modelo guardado y 6. se despliega como servicio REST para realizar predicciones con nuevos datos."
   ]
  },
  {
   "cell_type": "markdown",
   "metadata": {
    "application/vnd.databricks.v1+cell": {
     "cellMetadata": {},
     "inputWidgets": {},
     "nuid": "20e28e38-aeda-4b39-869a-9a9a41675287",
     "showTitle": false,
     "tableResultSettingsMap": {},
     "title": ""
    }
   },
   "source": [
    "**I. Leer archivo desde Azure Blob Storage en Databricks**"
   ]
  },
  {
   "cell_type": "markdown",
   "metadata": {
    "application/vnd.databricks.v1+cell": {
     "cellMetadata": {},
     "inputWidgets": {},
     "nuid": "461639fa-9060-49f1-89e7-8b9a8a064388",
     "showTitle": false,
     "tableResultSettingsMap": {},
     "title": ""
    }
   },
   "source": [
    "Conectar databricks con la cuenta de almacenamiento. Se hace uso de [Key value de Azure](https://learn.microsoft.com/es-es/azure/key-vault/general/basic-concepts) para no ingresar la clave almacenamiento en el código."
   ]
  },
  {
   "cell_type": "code",
   "execution_count": 0,
   "metadata": {
    "application/vnd.databricks.v1+cell": {
     "cellMetadata": {
      "byteLimit": 2048000,
      "rowLimit": 10000
     },
     "inputWidgets": {},
     "nuid": "0bb097b6-2547-431b-aed4-f3e927a1b69a",
     "showTitle": false,
     "tableResultSettingsMap": {},
     "title": ""
    }
   },
   "outputs": [],
   "source": [
    "spark.conf.set(\n",
    "  \"fs.azure.account.key.storagedc1.blob.core.windows.net\",\n",
    "  dbutils.secrets.get(scope = \"kv-scope\", key = \"storage-key\")\n",
    ")"
   ]
  },
  {
   "cell_type": "markdown",
   "metadata": {
    "application/vnd.databricks.v1+cell": {
     "cellMetadata": {},
     "inputWidgets": {},
     "nuid": "7530c744-e5ac-4d9d-ae8b-b2887062bfd3",
     "showTitle": false,
     "tableResultSettingsMap": {},
     "title": ""
    }
   },
   "source": [
    "Leer desde el contenedor de Blob Storage los datos."
   ]
  },
  {
   "cell_type": "code",
   "execution_count": 0,
   "metadata": {
    "application/vnd.databricks.v1+cell": {
     "cellMetadata": {
      "byteLimit": 2048000,
      "rowLimit": 10000
     },
     "inputWidgets": {},
     "nuid": "69784347-bad9-4191-9d5c-a6f4e5efc533",
     "showTitle": false,
     "tableResultSettingsMap": {
      "0": {
       "dataGridStateBlob": "{\"version\":1,\"tableState\":{\"columnPinning\":{\"left\":[\"#row_number#\"],\"right\":[]},\"columnSizing\":{},\"columnVisibility\":{}},\"settings\":{\"columns\":{}},\"syncTimestamp\":1751994380555}",
       "filterBlob": null,
       "queryPlanFiltersBlob": null,
       "tableResultIndex": 0
      }
     },
     "title": ""
    }
   },
   "outputs": [
    {
     "output_type": "display_data",
     "data": {
      "text/html": [
       "<style scoped>\n",
       "  .table-result-container {\n",
       "    max-height: 300px;\n",
       "    overflow: auto;\n",
       "  }\n",
       "  table, th, td {\n",
       "    border: 1px solid black;\n",
       "    border-collapse: collapse;\n",
       "  }\n",
       "  th, td {\n",
       "    padding: 5px;\n",
       "  }\n",
       "  th {\n",
       "    text-align: left;\n",
       "  }\n",
       "</style><div class='table-result-container'><table class='table-result'><thead style='background-color: white'><tr><th>Id_cliente</th><th>min_promedio_sesion</th><th>min_en_app</th><th>min_en_web</th><th>anos_miembro</th><th>valor_compras_anuales_cop</th></tr></thead><tbody><tr><td>1000025001</td><td>34.5</td><td>12.66</td><td>39.58</td><td>4.08</td><td>2351804</td></tr><tr><td>1000025002</td><td>31.93</td><td>11.11</td><td>37.27</td><td>2.66</td><td>1568820</td></tr><tr><td>1000025003</td><td>33.0</td><td>11.33</td><td>37.11</td><td>4.1</td><td>1950190</td></tr><tr><td>1000025004</td><td>34.31</td><td>13.72</td><td>36.72</td><td>3.12</td><td>2327409</td></tr><tr><td>1000025005</td><td>33.33</td><td>12.8</td><td>37.54</td><td>4.45</td><td>2397624</td></tr><tr><td>1000025006</td><td>33.87</td><td>12.03</td><td>34.48</td><td>5.49</td><td>2548410</td></tr><tr><td>1000025007</td><td>32.02</td><td>11.37</td><td>36.68</td><td>4.69</td><td>2086289</td></tr><tr><td>1000025008</td><td>32.74</td><td>12.35</td><td>37.37</td><td>4.43</td><td>2199617</td></tr><tr><td>1000025009</td><td>33.99</td><td>13.39</td><td>37.53</td><td>3.27</td><td>2280802</td></tr><tr><td>1000025010</td><td>31.94</td><td>11.81</td><td>37.15</td><td>3.2</td><td>1708798</td></tr><tr><td>1000025011</td><td>33.99</td><td>13.34</td><td>37.23</td><td>2.48</td><td>1970424</td></tr><tr><td>1000025012</td><td>33.88</td><td>11.58</td><td>37.09</td><td>3.71</td><td>2089350</td></tr><tr><td>1000025013</td><td>29.53</td><td>10.96</td><td>37.42</td><td>4.05</td><td>1634561</td></tr><tr><td>1000025014</td><td>33.19</td><td>12.96</td><td>36.14</td><td>3.92</td><td>2293663</td></tr><tr><td>1000025015</td><td>32.39</td><td>13.15</td><td>36.62</td><td>2.49</td><td>1881811</td></tr><tr><td>1000025016</td><td>30.74</td><td>12.64</td><td>36.21</td><td>3.36</td><td>1847123</td></tr><tr><td>1000025017</td><td>32.13</td><td>11.73</td><td>34.89</td><td>3.14</td><td>1831391</td></tr><tr><td>1000025018</td><td>32.34</td><td>12.01</td><td>38.39</td><td>2.42</td><td>1630818</td></tr><tr><td>1000025019</td><td>32.19</td><td>14.72</td><td>38.24</td><td>1.52</td><td>1809263</td></tr><tr><td>1000025020</td><td>32.62</td><td>13.99</td><td>37.19</td><td>4.06</td><td>2420244</td></tr><tr><td>1000025021</td><td>32.91</td><td>11.37</td><td>37.61</td><td>4.6</td><td>2138823</td></tr><tr><td>1000025022</td><td>33.5</td><td>12.88</td><td>37.44</td><td>1.56</td><td>1679755</td></tr><tr><td>1000025023</td><td>31.53</td><td>13.38</td><td>38.73</td><td>2.25</td><td>1746062</td></tr><tr><td>1000025024</td><td>32.9</td><td>11.66</td><td>36.77</td><td>3.92</td><td>2077364</td></tr><tr><td>1000025025</td><td>34.51</td><td>12.89</td><td>37.64</td><td>5.71</td><td>2803668</td></tr><tr><td>1000025026</td><td>33.03</td><td>11.77</td><td>37.74</td><td>2.72</td><td>1692720</td></tr><tr><td>1000025027</td><td>33.54</td><td>12.78</td><td>36.43</td><td>4.65</td><td>2479583</td></tr><tr><td>1000025028</td><td>32.34</td><td>13.01</td><td>37.85</td><td>3.0</td><td>1947356</td></tr><tr><td>1000025029</td><td>33.11</td><td>11.98</td><td>35.29</td><td>3.92</td><td>2118151</td></tr><tr><td>1000025030</td><td>33.11</td><td>11.97</td><td>37.28</td><td>4.74</td><td>2218888</td></tr><tr><td>1000025031</td><td>33.24</td><td>12.31</td><td>36.16</td><td>3.06</td><td>1990347</td></tr><tr><td>1000025032</td><td>33.46</td><td>10.87</td><td>35.62</td><td>3.47</td><td>1790752</td></tr><tr><td>1000025033</td><td>32.18</td><td>13.39</td><td>35.69</td><td>4.34</td><td>2354850</td></tr><tr><td>1000025034</td><td>32.73</td><td>13.1</td><td>38.88</td><td>2.82</td><td>1964293</td></tr><tr><td>1000025035</td><td>32.82</td><td>11.63</td><td>35.37</td><td>4.12</td><td>2029767</td></tr><tr><td>1000025036</td><td>33.62</td><td>11.94</td><td>38.77</td><td>3.65</td><td>2087534</td></tr><tr><td>1000025037</td><td>31.72</td><td>11.76</td><td>36.77</td><td>1.85</td><td>1391108</td></tr><tr><td>1000025038</td><td>32.87</td><td>11.98</td><td>37.04</td><td>3.45</td><td>1962955</td></tr><tr><td>1000025039</td><td>32.75</td><td>9.95</td><td>37.39</td><td>4.65</td><td>1912681</td></tr><tr><td>1000025040</td><td>32.57</td><td>12.49</td><td>36.37</td><td>4.22</td><td>2151385</td></tr><tr><td>1000025041</td><td>32.07</td><td>11.73</td><td>37.53</td><td>4.67</td><td>2131007</td></tr><tr><td>1000025042</td><td>33.02</td><td>10.63</td><td>37.5</td><td>4.65</td><td>2007498</td></tr><tr><td>1000025043</td><td>33.79</td><td>12.51</td><td>37.14</td><td>4.21</td><td>2364789</td></tr><tr><td>1000025044</td><td>32.89</td><td>11.53</td><td>36.89</td><td>4.64</td><td>2188977</td></tr><tr><td>1000025045</td><td>32.04</td><td>13.41</td><td>36.11</td><td>2.26</td><td>1792919</td></tr><tr><td>1000025046</td><td>34.56</td><td>12.17</td><td>39.13</td><td>3.66</td><td>2199442</td></tr><tr><td>1000025047</td><td>34.56</td><td>13.15</td><td>37.34</td><td>3.88</td><td>2375660</td></tr><tr><td>1000025048</td><td>32.73</td><td>12.99</td><td>36.46</td><td>4.11</td><td>2254691</td></tr><tr><td>1000025049</td><td>33.12</td><td>11.86</td><td>36.58</td><td>3.2</td><td>1918928</td></tr><tr><td>1000025050</td><td>31.66</td><td>11.4</td><td>36.59</td><td>3.2</td><td>1665433</td></tr><tr><td>1000025051</td><td>33.26</td><td>13.86</td><td>37.78</td><td>5.98</td><td>2902339</td></tr><tr><td>1000025052</td><td>33.9</td><td>10.96</td><td>37.27</td><td>2.95</td><td>1770669</td></tr><tr><td>1000025053</td><td>34.19</td><td>10.32</td><td>37.45</td><td>2.09</td><td>1538506</td></tr><tr><td>1000025054</td><td>33.76</td><td>9.98</td><td>35.93</td><td>3.86</td><td>1805830</td></tr><tr><td>1000025055</td><td>34.39</td><td>12.65</td><td>38.47</td><td>2.87</td><td>2089617</td></tr><tr><td>1000025056</td><td>33.93</td><td>11.59</td><td>35.25</td><td>3.39</td><td>1934693</td></tr><tr><td>1000025057</td><td>32.69</td><td>13.76</td><td>39.25</td><td>3.0</td><td>2083595</td></tr><tr><td>1000025058</td><td>34.3</td><td>10.57</td><td>36.17</td><td>3.32</td><td>1812678</td></tr><tr><td>1000025059</td><td>32.84</td><td>11.83</td><td>36.81</td><td>3.47</td><td>1986603</td></tr><tr><td>1000025060</td><td>33.75</td><td>12.06</td><td>37.27</td><td>3.97</td><td>2189461</td></tr><tr><td>1000025061</td><td>33.88</td><td>12.5</td><td>38.05</td><td>4.64</td><td>2467406</td></tr><tr><td>1000025062</td><td>33.08</td><td>9.61</td><td>36.49</td><td>5.08</td><td>2028850</td></tr><tr><td>1000025063</td><td>32.23</td><td>13.73</td><td>38.0</td><td>4.8</td><td>2454397</td></tr><tr><td>1000025064</td><td>32.79</td><td>11.67</td><td>37.41</td><td>3.41</td><td>1932639</td></tr><tr><td>1000025065</td><td>32.77</td><td>13.28</td><td>36.6</td><td>3.46</td><td>2161054</td></tr><tr><td>1000025066</td><td>34.37</td><td>15.13</td><td>37.16</td><td>5.38</td><td>3062074</td></tr><tr><td>1000025067</td><td>33.08</td><td>12.7</td><td>35.36</td><td>4.0</td><td>2214406</td></tr><tr><td>1000025068</td><td>32.81</td><td>11.84</td><td>36.38</td><td>3.44</td><td>1877243</td></tr><tr><td>1000025069</td><td>32.43</td><td>11.31</td><td>37.68</td><td>2.78</td><td>1634481</td></tr><tr><td>1000025070</td><td>32.18</td><td>11.19</td><td>40.01</td><td>3.55</td><td>1806303</td></tr><tr><td>1000025071</td><td>33.15</td><td>11.89</td><td>36.27</td><td>2.6</td><td>1779866</td></tr><tr><td>1000025072</td><td>34.34</td><td>12.23</td><td>36.16</td><td>4.69</td><td>2383291</td></tr><tr><td>1000025073</td><td>32.39</td><td>10.67</td><td>38.01</td><td>3.4</td><td>1672600</td></tr><tr><td>1000025074</td><td>32.81</td><td>12.82</td><td>37.03</td><td>3.85</td><td>2139109</td></tr><tr><td>1000025075</td><td>33.88</td><td>13.59</td><td>38.26</td><td>3.26</td><td>2312966</td></tr><tr><td>1000025076</td><td>32.05</td><td>12.24</td><td>38.73</td><td>3.12</td><td>1914877</td></tr><tr><td>1000025077</td><td>33.56</td><td>11.55</td><td>36.63</td><td>2.84</td><td>1777144</td></tr><tr><td>1000025078</td><td>33.14</td><td>11.43</td><td>35.89</td><td>4.47</td><td>2179119</td></tr><tr><td>1000025079</td><td>32.6</td><td>10.89</td><td>38.21</td><td>4.44</td><td>1955144</td></tr><tr><td>1000025080</td><td>33.17</td><td>11.93</td><td>36.91</td><td>3.16</td><td>1903036</td></tr><tr><td>1000025081</td><td>31.51</td><td>12.6</td><td>39.6</td><td>3.75</td><td>1959250</td></tr><tr><td>1000025082</td><td>34.59</td><td>10.95</td><td>35.88</td><td>3.16</td><td>1851591</td></tr><tr><td>1000025083</td><td>33.5</td><td>13.9</td><td>37.06</td><td>4.13</td><td>2385721</td></tr><tr><td>1000025084</td><td>32.4</td><td>10.88</td><td>37.78</td><td>1.91</td><td>1353279</td></tr><tr><td>1000025085</td><td>34.66</td><td>10.34</td><td>36.16</td><td>4.4</td><td>2134060</td></tr><tr><td>1000025086</td><td>31.81</td><td>11.63</td><td>36.18</td><td>5.11</td><td>2147088</td></tr><tr><td>1000025087</td><td>33.88</td><td>12.52</td><td>37.15</td><td>2.67</td><td>1949517</td></tr><tr><td>1000025088</td><td>34.45</td><td>10.61</td><td>36.82</td><td>3.37</td><td>1894916</td></tr><tr><td>1000025089</td><td>31.96</td><td>12.83</td><td>36.95</td><td>4.57</td><td>2188504</td></tr><tr><td>1000025090</td><td>32.61</td><td>12.07</td><td>36.11</td><td>3.92</td><td>2020453</td></tr><tr><td>1000025091</td><td>32.49</td><td>12.53</td><td>37.88</td><td>2.48</td><td>1796281</td></tr><tr><td>1000025092</td><td>33.62</td><td>13.52</td><td>36.77</td><td>4.13</td><td>2444000</td></tr><tr><td>1000025093</td><td>33.47</td><td>11.66</td><td>36.05</td><td>4.0</td><td>2063315</td></tr><tr><td>1000025094</td><td>33.71</td><td>13.66</td><td>37.72</td><td>1.36</td><td>1756299</td></tr><tr><td>1000025095</td><td>32.2</td><td>11.83</td><td>36.63</td><td>4.19</td><td>2056356</td></tr><tr><td>1000025096</td><td>32.46</td><td>13.29</td><td>38.63</td><td>3.87</td><td>2173361</td></tr><tr><td>1000025097</td><td>33.79</td><td>11.94</td><td>38.06</td><td>4.08</td><td>2084572</td></tr><tr><td>1000025098</td><td>34.18</td><td>13.35</td><td>37.83</td><td>4.25</td><td>2458861</td></tr><tr><td>1000025099</td><td>32.29</td><td>12.02</td><td>39.07</td><td>3.91</td><td>2029560</td></tr><tr><td>1000025100</td><td>33.83</td><td>12.08</td><td>35.89</td><td>3.02</td><td>1981198</td></tr><tr><td>1000025101</td><td>32.5</td><td>13.41</td><td>35.99</td><td>3.18</td><td>2072258</td></tr><tr><td>1000025102</td><td>31.89</td><td>11.28</td><td>37.39</td><td>2.88</td><td>1560413</td></tr><tr><td>1000025103</td><td>32.43</td><td>11.45</td><td>37.58</td><td>2.59</td><td>1682951</td></tr><tr><td>1000025104</td><td>33.44</td><td>12.6</td><td>36.26</td><td>2.97</td><td>1968420</td></tr><tr><td>1000025105</td><td>31.39</td><td>10.99</td><td>38.07</td><td>3.43</td><td>1640278</td></tr><tr><td>1000025106</td><td>33.47</td><td>13.09</td><td>35.85</td><td>2.93</td><td>1990055</td></tr><tr><td>1000025107</td><td>32.29</td><td>12.19</td><td>36.15</td><td>3.78</td><td>1978207</td></tr><tr><td>1000025108</td><td>32.06</td><td>10.72</td><td>37.71</td><td>3.0</td><td>1513324</td></tr><tr><td>1000025109</td><td>33.16</td><td>12.93</td><td>38.17</td><td>3.85</td><td>2281807</td></tr><tr><td>1000025110</td><td>33.36</td><td>13.45</td><td>38.5</td><td>3.32</td><td>2196033</td></tr><tr><td>1000025111</td><td>31.85</td><td>12.15</td><td>37.33</td><td>3.36</td><td>1837140</td></tr><tr><td>1000025112</td><td>32.01</td><td>12.18</td><td>37.72</td><td>3.72</td><td>1971780</td></tr><tr><td>1000025113</td><td>32.39</td><td>11.01</td><td>38.42</td><td>3.54</td><td>1699051</td></tr><tr><td>1000025114</td><td>32.65</td><td>11.6</td><td>37.31</td><td>2.79</td><td>1689707</td></tr><tr><td>1000025115</td><td>32.93</td><td>12.73</td><td>35.6</td><td>5.49</td><td>2568406</td></tr><tr><td>1000025116</td><td>33.24</td><td>11.22</td><td>37.69</td><td>2.59</td><td>1653487</td></tr><tr><td>1000025117</td><td>33.93</td><td>12.01</td><td>36.7</td><td>2.75</td><td>1916924</td></tr><tr><td>1000025118</td><td>33.06</td><td>11.73</td><td>36.0</td><td>5.0</td><td>2372309</td></tr><tr><td>1000025119</td><td>32.4</td><td>12.09</td><td>38.31</td><td>3.87</td><td>2026189</td></tr><tr><td>1000025120</td><td>33.89</td><td>13.07</td><td>37.54</td><td>3.8</td><td>2285230</td></tr><tr><td>1000025121</td><td>34.57</td><td>12.85</td><td>35.01</td><td>3.29</td><td>2305245</td></tr><tr><td>1000025122</td><td>33.7</td><td>11.56</td><td>37.67</td><td>4.72</td><td>2307210</td></tr><tr><td>1000025123</td><td>33.27</td><td>11.11</td><td>37.39</td><td>4.02</td><td>2056958</td></tr><tr><td>1000025124</td><td>31.36</td><td>12.81</td><td>36.55</td><td>3.64</td><td>1980704</td></tr><tr><td>1000025125</td><td>33.01</td><td>11.76</td><td>37.57</td><td>3.83</td><td>2057346</td></tr><tr><td>1000025126</td><td>31.58</td><td>12.58</td><td>37.09</td><td>4.53</td><td>2164906</td></tr><tr><td>1000025127</td><td>32.66</td><td>11.96</td><td>36.63</td><td>4.11</td><td>2067326</td></tr><tr><td>1000025128</td><td>34.71</td><td>10.65</td><td>37.15</td><td>3.22</td><td>1873783</td></tr><tr><td>1000025129</td><td>34.54</td><td>12.75</td><td>36.71</td><td>3.28</td><td>2193121</td></tr><tr><td>1000025130</td><td>32.77</td><td>11.54</td><td>37.53</td><td>2.92</td><td>1726471</td></tr><tr><td>1000025131</td><td>33.7</td><td>11.92</td><td>37.25</td><td>3.91</td><td>2211761</td></tr><tr><td>1000025132</td><td>32.44</td><td>12.42</td><td>38.95</td><td>4.92</td><td>2293225</td></tr><tr><td>1000025133</td><td>34.31</td><td>11.81</td><td>37.41</td><td>2.47</td><td>1810509</td></tr><tr><td>1000025134</td><td>32.46</td><td>12.76</td><td>36.6</td><td>4.13</td><td>2170846</td></tr><tr><td>1000025135</td><td>33.54</td><td>11.85</td><td>37.42</td><td>1.77</td><td>1631216</td></tr><tr><td>1000025136</td><td>33.36</td><td>12.7</td><td>36.1</td><td>2.72</td><td>1929414</td></tr><tr><td>1000025137</td><td>32.69</td><td>12.22</td><td>36.59</td><td>3.9</td><td>2116920</td></tr><tr><td>1000025138</td><td>34.56</td><td>11.28</td><td>36.49</td><td>2.49</td><td>1732195</td></tr><tr><td>1000025139</td><td>33.55</td><td>10.74</td><td>37.46</td><td>3.86</td><td>1904766</td></tr><tr><td>1000025140</td><td>31.95</td><td>10.96</td><td>37.33</td><td>3.58</td><td>1759992</td></tr><tr><td>1000025141</td><td>31.07</td><td>11.74</td><td>36.6</td><td>3.96</td><td>1795733</td></tr><tr><td>1000025142</td><td>31.85</td><td>12.42</td><td>35.98</td><td>3.25</td><td>1891969</td></tr><tr><td>1000025143</td><td>32.61</td><td>10.54</td><td>35.73</td><td>3.91</td><td>1855694</td></tr><tr><td>1000025144</td><td>32.12</td><td>11.92</td><td>39.29</td><td>1.44</td><td>1400233</td></tr><tr><td>1000025145</td><td>33.92</td><td>11.91</td><td>38.27</td><td>2.91</td><td>1840245</td></tr><tr><td>1000025146</td><td>33.48</td><td>12.49</td><td>36.52</td><td>3.35</td><td>2023085</td></tr><tr><td>1000025147</td><td>32.12</td><td>12.38</td><td>37.23</td><td>3.09</td><td>1853940</td></tr><tr><td>1000025148</td><td>32.26</td><td>10.48</td><td>37.34</td><td>4.51</td><td>1918928</td></tr><tr><td>1000025149</td><td>32.69</td><td>12.3</td><td>36.95</td><td>1.83</td><td>1696742</td></tr><tr><td>1000025150</td><td>32.38</td><td>10.86</td><td>36.58</td><td>3.99</td><td>1863557</td></tr><tr><td>1000025151</td><td>34.34</td><td>10.72</td><td>38.31</td><td>2.65</td><td>1707101</td></tr><tr><td>1000025152</td><td>32.89</td><td>12.39</td><td>37.43</td><td>6.4</td><td>2736654</td></tr><tr><td>1000025153</td><td>32.51</td><td>10.98</td><td>37.4</td><td>5.39</td><td>2223570</td></tr><tr><td>1000025154</td><td>31.95</td><td>12.97</td><td>36.97</td><td>6.08</td><td>2628080</td></tr><tr><td>1000025155</td><td>36.14</td><td>12.05</td><td>36.96</td><td>3.86</td><td>2383215</td></tr><tr><td>1000025156</td><td>32.45</td><td>13.46</td><td>37.24</td><td>2.94</td><td>2015914</td></tr><tr><td>1000025157</td><td>32.29</td><td>12.44</td><td>37.33</td><td>5.08</td><td>2344623</td></tr><tr><td>1000025158</td><td>34.6</td><td>12.21</td><td>33.91</td><td>6.92</td><td>2976887</td></tr><tr><td>1000025159</td><td>33.6</td><td>11.59</td><td>39.09</td><td>3.6</td><td>2051301</td></tr><tr><td>1000025160</td><td>34.57</td><td>11.38</td><td>38.3</td><td>3.78</td><td>2112895</td></tr><tr><td>1000025161</td><td>32.84</td><td>12.36</td><td>38.04</td><td>3.31</td><td>1875654</td></tr><tr><td>1000025162</td><td>33.5</td><td>12.4</td><td>35.01</td><td>0.97</td><td>1430366</td></tr><tr><td>1000025163</td><td>33.3</td><td>12.54</td><td>38.31</td><td>3.77</td><td>2145692</td></tr><tr><td>1000025164</td><td>30.88</td><td>13.28</td><td>36.94</td><td>3.59</td><td>1960826</td></tr><tr><td>1000025165</td><td>33.15</td><td>11.8</td><td>37.66</td><td>4.52</td><td>2200190</td></tr><tr><td>1000025166</td><td>32.05</td><td>12.72</td><td>37.66</td><td>3.68</td><td>2053802</td></tr><tr><td>1000025167</td><td>33.63</td><td>12.04</td><td>38.92</td><td>2.87</td><td>1991248</td></tr><tr><td>1000025168</td><td>34.05</td><td>12.47</td><td>35.04</td><td>4.06</td><td>2315945</td></tr><tr><td>1000025169</td><td>33.64</td><td>13.16</td><td>36.41</td><td>3.02</td><td>2026146</td></tr><tr><td>1000025170</td><td>32.65</td><td>11.05</td><td>37.63</td><td>4.72</td><td>2006997</td></tr><tr><td>1000025171</td><td>33.43</td><td>10.64</td><td>37.58</td><td>2.93</td><td>1687867</td></tr><tr><td>1000025172</td><td>31.86</td><td>13.44</td><td>36.88</td><td>2.36</td><td>1759565</td></tr><tr><td>1000025173</td><td>34.48</td><td>13.28</td><td>35.91</td><td>4.97</td><td>2664502</td></tr><tr><td>1000025174</td><td>32.53</td><td>11.75</td><td>36.94</td><td>0.8</td><td>1195048</td></tr><tr><td>1000025175</td><td>33.43</td><td>10.86</td><td>38.84</td><td>3.67</td><td>1860706</td></tr><tr><td>1000025176</td><td>33.31</td><td>11.69</td><td>37.48</td><td>1.72</td><td>1495543</td></tr><tr><td>1000025177</td><td>32.33</td><td>11.55</td><td>38.58</td><td>4.77</td><td>2130870</td></tr><tr><td>1000025178</td><td>34.71</td><td>11.72</td><td>36.81</td><td>4.09</td><td>2219603</td></tr><tr><td>1000025179</td><td>32.64</td><td>12.18</td><td>35.67</td><td>4.13</td><td>2151093</td></tr><tr><td>1000025180</td><td>33.08</td><td>12.32</td><td>37.82</td><td>3.44</td><td>2004401</td></tr><tr><td>1000025181</td><td>32.23</td><td>11.08</td><td>37.96</td><td>4.72</td><td>2068661</td></tr><tr><td>1000025182</td><td>34.14</td><td>13.18</td><td>38.86</td><td>3.23</td><td>2230117</td></tr><tr><td>1000025183</td><td>32.5</td><td>12.83</td><td>37.68</td><td>2.97</td><td>1974877</td></tr><tr><td>1000025184</td><td>33.12</td><td>11.51</td><td>37.25</td><td>3.18</td><td>1808491</td></tr><tr><td>1000025185</td><td>33.09</td><td>11.86</td><td>36.09</td><td>4.81</td><td>2309094</td></tr><tr><td>1000025186</td><td>32.53</td><td>12.29</td><td>37.06</td><td>3.62</td><td>1943693</td></tr><tr><td>1000025187</td><td>32.48</td><td>10.93</td><td>36.55</td><td>3.26</td><td>1702980</td></tr><tr><td>1000025188</td><td>32.54</td><td>13.33</td><td>37.96</td><td>3.6</td><td>2148860</td></tr><tr><td>1000025189</td><td>32.28</td><td>10.9</td><td>36.09</td><td>4.79</td><td>2098552</td></tr><tr><td>1000025190</td><td>32.2</td><td>12.28</td><td>38.23</td><td>3.32</td><td>1915542</td></tr><tr><td>1000025191</td><td>34.71</td><td>12.04</td><td>37.64</td><td>4.63</td><td>2449541</td></tr><tr><td>1000025192</td><td>32.71</td><td>11.72</td><td>37.15</td><td>3.31</td><td>1907067</td></tr><tr><td>1000025193</td><td>33.69</td><td>11.2</td><td>35.49</td><td>4.02</td><td>2020479</td></tr><tr><td>1000025194</td><td>31.57</td><td>13.38</td><td>36.34</td><td>4.37</td><td>2183782</td></tr><tr><td>1000025195</td><td>33.46</td><td>11.39</td><td>37.91</td><td>2.57</td><td>1736087</td></tr><tr><td>1000025196</td><td>31.82</td><td>10.77</td><td>37.28</td><td>3.52</td><td>1698701</td></tr><tr><td>1000025197</td><td>32.73</td><td>11.82</td><td>37.1</td><td>1.5</td><td>1410200</td></tr><tr><td>1000025198</td><td>32.41</td><td>13.81</td><td>37.43</td><td>5.04</td><td>2651844</td></tr><tr><td>1000025199</td><td>33.51</td><td>11.66</td><td>37.28</td><td>4.48</td><td>2242241</td></tr><tr><td>1000025200</td><td>30.84</td><td>13.1</td><td>35.91</td><td>3.36</td><td>1870008</td></tr><tr><td>1000025201</td><td>34.88</td><td>13.07</td><td>36.68</td><td>1.92</td><td>2019482</td></tr><tr><td>1000025202</td><td>34.01</td><td>12.49</td><td>36.05</td><td>4.33</td><td>2362251</td></tr><tr><td>1000025203</td><td>31.53</td><td>11.34</td><td>37.04</td><td>3.81</td><td>1775863</td></tr><tr><td>1000025204</td><td>31.05</td><td>11.2</td><td>38.69</td><td>3.09</td><td>1569990</td></tr><tr><td>1000025205</td><td>34.6</td><td>11.33</td><td>35.46</td><td>4.54</td><td>2274870</td></tr><tr><td>1000025206</td><td>34.97</td><td>13.92</td><td>37.95</td><td>5.07</td><td>2849585</td></tr><tr><td>1000025207</td><td>32.3</td><td>11.03</td><td>38.25</td><td>3.11</td><td>1653184</td></tr><tr><td>1000025208</td><td>33.32</td><td>11.08</td><td>36.78</td><td>4.75</td><td>2248328</td></tr><tr><td>1000025209</td><td>32.9</td><td>10.54</td><td>35.53</td><td>3.09</td><td>1648052</td></tr><tr><td>1000025210</td><td>32.56</td><td>11.8</td><td>37.78</td><td>3.2</td><td>1874674</td></tr><tr><td>1000025211</td><td>31.77</td><td>12.44</td><td>38.13</td><td>3.85</td><td>1986216</td></tr><tr><td>1000025212</td><td>34.08</td><td>12.1</td><td>36.06</td><td>3.97</td><td>2194074</td></tr><tr><td>1000025213</td><td>33.3</td><td>12.38</td><td>38.76</td><td>3.84</td><td>2144524</td></tr><tr><td>1000025214</td><td>34.33</td><td>13.72</td><td>35.77</td><td>2.91</td><td>2233709</td></tr><tr><td>1000025215</td><td>32.08</td><td>12.73</td><td>36.54</td><td>1.14</td><td>1431455</td></tr><tr><td>1000025216</td><td>33.61</td><td>13.69</td><td>34.89</td><td>2.69</td><td>2116227</td></tr><tr><td>1000025217</td><td>32.75</td><td>10.01</td><td>38.35</td><td>3.11</td><td>1549428</td></tr><tr><td>1000025218</td><td>32.12</td><td>11.44</td><td>36.22</td><td>4.85</td><td>2115734</td></tr><tr><td>1000025219</td><td>32.53</td><td>12.35</td><td>37.12</td><td>2.31</td><td>1683665</td></tr><tr><td>1000025220</td><td>31.74</td><td>10.75</td><td>35.74</td><td>4.84</td><td>1987734</td></tr><tr><td>1000025221</td><td>34.12</td><td>11.59</td><td>37.74</td><td>3.68</td><td>2077492</td></tr><tr><td>1000025222</td><td>33.64</td><td>11.24</td><td>37.68</td><td>5.25</td><td>2365751</td></tr><tr><td>1000025223</td><td>34.33</td><td>11.11</td><td>38.59</td><td>3.89</td><td>2009639</td></tr><tr><td>1000025224</td><td>34.81</td><td>12.11</td><td>36.29</td><td>4.39</td><td>2417339</td></tr><tr><td>1000025225</td><td>34.64</td><td>11.87</td><td>37.72</td><td>4.0</td><td>2220274</td></tr><tr><td>1000025226</td><td>32.84</td><td>10.26</td><td>36.14</td><td>0.79</td><td>1026682</td></tr><tr><td>1000025227</td><td>32.3</td><td>12.17</td><td>37.07</td><td>4.4</td><td>2188444</td></tr><tr><td>1000025228</td><td>31.95</td><td>13.09</td><td>37.61</td><td>2.65</td><td>1847684</td></tr><tr><td>1000025229</td><td>32.73</td><td>13.01</td><td>36.65</td><td>2.37</td><td>1833508</td></tr><tr><td>1000025230</td><td>33.95</td><td>10.98</td><td>37.95</td><td>3.05</td><td>1745134</td></tr><tr><td>1000025231</td><td>32.35</td><td>13.11</td><td>35.57</td><td>3.64</td><td>2131741</td></tr><tr><td>1000025232</td><td>34.17</td><td>12.14</td><td>37.26</td><td>3.4</td><td>2050210</td></tr><tr><td>1000025233</td><td>32.98</td><td>13.91</td><td>37.79</td><td>4.3</td><td>2521691</td></tr><tr><td>1000025234</td><td>32.0</td><td>11.4</td><td>37.33</td><td>3.8</td><td>1854984</td></tr><tr><td>1000025235</td><td>34.2</td><td>13.03</td><td>37.08</td><td>2.63</td><td>1972721</td></tr><tr><td>1000025236</td><td>33.18</td><td>11.62</td><td>35.97</td><td>3.63</td><td>2004837</td></tr><tr><td>1000025237</td><td>32.69</td><td>12.6</td><td>37.37</td><td>3.47</td><td>2007713</td></tr><tr><td>1000025238</td><td>31.63</td><td>13.19</td><td>37.07</td><td>1.49</td><td>1505348</td></tr><tr><td>1000025239</td><td>31.26</td><td>13.27</td><td>36.97</td><td>2.27</td><td>1685307</td></tr><tr><td>1000025240</td><td>31.72</td><td>11.75</td><td>38.57</td><td>5.02</td><td>2155100</td></tr><tr><td>1000025241</td><td>32.92</td><td>11.57</td><td>36.91</td><td>2.47</td><td>1592654</td></tr><tr><td>1000025242</td><td>32.69</td><td>12.64</td><td>36.1</td><td>4.3</td><td>2285884</td></tr><tr><td>1000025243</td><td>34.05</td><td>11.39</td><td>39.08</td><td>2.44</td><td>1806514</td></tr><tr><td>1000025244</td><td>32.45</td><td>11.82</td><td>36.95</td><td>3.66</td><td>1962402</td></tr><tr><td>1000025245</td><td>31.28</td><td>12.73</td><td>35.97</td><td>5.0</td><td>2367124</td></tr><tr><td>1000025246</td><td>32.98</td><td>11.2</td><td>37.69</td><td>2.41</td><td>1636282</td></tr><tr><td>1000025247</td><td>31.91</td><td>11.35</td><td>36.32</td><td>5.31</td><td>2253784</td></tr><tr><td>1000025248</td><td>34.4</td><td>14.22</td><td>37.52</td><td>4.08</td><td>2590478</td></tr><tr><td>1000025249</td><td>32.96</td><td>11.55</td><td>36.95</td><td>3.28</td><td>1793362</td></tr><tr><td>1000025250</td><td>33.78</td><td>11.92</td><td>36.84</td><td>3.63</td><td>2075146</td></tr><tr><td>1000025251</td><td>32.67</td><td>12.28</td><td>37.19</td><td>3.98</td><td>2094536</td></tr><tr><td>1000025252</td><td>32.73</td><td>10.13</td><td>34.85</td><td>3.29</td><td>1575429</td></tr><tr><td>1000025253</td><td>33.41</td><td>12.03</td><td>36.13</td><td>2.31</td><td>1704618</td></tr><tr><td>1000025254</td><td>31.72</td><td>13.17</td><td>36.2</td><td>3.56</td><td>2013552</td></tr><tr><td>1000025255</td><td>32.71</td><td>12.33</td><td>36.67</td><td>3.35</td><td>1930410</td></tr><tr><td>1000025256</td><td>33.14</td><td>13.89</td><td>39.22</td><td>2.91</td><td>2099191</td></tr><tr><td>1000025257</td><td>34.38</td><td>12.93</td><td>36.36</td><td>3.79</td><td>2298619</td></tr><tr><td>1000025258</td><td>35.53</td><td>11.38</td><td>36.64</td><td>4.03</td><td>2298989</td></tr><tr><td>1000025259</td><td>33.25</td><td>14.07</td><td>38.99</td><td>4.98</td><td>2641701</td></tr><tr><td>1000025260</td><td>32.1</td><td>10.8</td><td>37.37</td><td>2.7</td><td>1501594</td></tr><tr><td>1000025261</td><td>35.04</td><td>14.43</td><td>37.37</td><td>3.93</td><td>2560751</td></tr><tr><td>1000025262</td><td>32.55</td><td>13.04</td><td>36.66</td><td>3.46</td><td>2056039</td></tr><tr><td>1000025263</td><td>32.58</td><td>11.74</td><td>36.85</td><td>2.18</td><td>1505987</td></tr><tr><td>1000025264</td><td>33.3</td><td>12.49</td><td>38.24</td><td>2.71</td><td>1938079</td></tr><tr><td>1000025265</td><td>33.11</td><td>12.89</td><td>36.53</td><td>4.59</td><td>2458919</td></tr><tr><td>1000025266</td><td>33.9</td><td>11.67</td><td>37.34</td><td>4.26</td><td>2269900</td></tr><tr><td>1000025267</td><td>34.56</td><td>11.78</td><td>37.98</td><td>3.78</td><td>2216012</td></tr><tr><td>1000025268</td><td>33.73</td><td>12.14</td><td>36.85</td><td>1.62</td><td>1599935</td></tr><tr><td>1000025269</td><td>31.6</td><td>12.22</td><td>36.82</td><td>3.41</td><td>1916691</td></tr><tr><td>1000025270</td><td>34.32</td><td>13.4</td><td>37.29</td><td>3.61</td><td>2343727</td></tr><tr><td>1000025271</td><td>34.01</td><td>12.96</td><td>38.66</td><td>3.28</td><td>2163983</td></tr><tr><td>1000025272</td><td>33.54</td><td>12.88</td><td>36.23</td><td>5.01</td><td>2512191</td></tr><tr><td>1000025273</td><td>34.44</td><td>13.33</td><td>36.77</td><td>3.37</td><td>2329968</td></tr><tr><td>1000025274</td><td>33.55</td><td>12.16</td><td>36.58</td><td>5.45</td><td>2563145</td></tr><tr><td>1000025275</td><td>31.82</td><td>11.23</td><td>35.67</td><td>3.76</td><td>1785675</td></tr><tr><td>1000025276</td><td>32.36</td><td>12.46</td><td>37.75</td><td>4.66</td><td>2282520</td></tr><tr><td>1000025277</td><td>33.19</td><td>9.85</td><td>36.88</td><td>3.81</td><td>1693233</td></tr><tr><td>1000025278</td><td>32.19</td><td>13.33</td><td>36.9</td><td>5.05</td><td>2466641</td></tr><tr><td>1000025279</td><td>32.61</td><td>13.68</td><td>37.74</td><td>2.87</td><td>2121450</td></tr><tr><td>1000025280</td><td>32.26</td><td>11.64</td><td>37.03</td><td>3.24</td><td>1769452</td></tr><tr><td>1000025281</td><td>32.27</td><td>13.49</td><td>37.55</td><td>3.09</td><td>2047919</td></tr><tr><td>1000025282</td><td>33.8</td><td>11.62</td><td>38.42</td><td>4.56</td><td>2241775</td></tr><tr><td>1000025283</td><td>31.65</td><td>13.01</td><td>37.79</td><td>3.01</td><td>1901054</td></tr><tr><td>1000025284</td><td>33.08</td><td>11.47</td><td>35.68</td><td>1.81</td><td>1497079</td></tr><tr><td>1000025285</td><td>31.31</td><td>11.68</td><td>38.72</td><td>3.59</td><td>1854366</td></tr><tr><td>1000025286</td><td>32.87</td><td>12.09</td><td>36.62</td><td>3.05</td><td>1886412</td></tr><tr><td>1000025287</td><td>33.71</td><td>14.33</td><td>35.72</td><td>3.63</td><td>2504075</td></tr><tr><td>1000025288</td><td>33.91</td><td>12.91</td><td>39.07</td><td>1.48</td><td>1729888</td></tr><tr><td>1000025289</td><td>32.31</td><td>9.82</td><td>35.74</td><td>2.92</td><td>1426462</td></tr><tr><td>1000025290</td><td>34.39</td><td>12.81</td><td>38.55</td><td>1.81</td><td>1869711</td></tr><tr><td>1000025291</td><td>32.42</td><td>13.06</td><td>37.26</td><td>3.37</td><td>2012870</td></tr><tr><td>1000025292</td><td>33.54</td><td>10.53</td><td>37.03</td><td>2.21</td><td>1513894</td></tr><tr><td>1000025293</td><td>33.37</td><td>11.14</td><td>35.95</td><td>5.45</td><td>2336873</td></tr><tr><td>1000025294</td><td>33.79</td><td>10.98</td><td>34.81</td><td>3.2</td><td>1806911</td></tr><tr><td>1000025295</td><td>33.77</td><td>11.15</td><td>37.24</td><td>4.73</td><td>2230536</td></tr><tr><td>1000025296</td><td>31.31</td><td>11.95</td><td>36.19</td><td>3.21</td><td>1730883</td></tr><tr><td>1000025297</td><td>33.61</td><td>11.47</td><td>37.06</td><td>3.8</td><td>2025695</td></tr><tr><td>1000025298</td><td>33.4</td><td>11.04</td><td>38.62</td><td>4.12</td><td>2040639</td></tr><tr><td>1000025299</td><td>33.62</td><td>11.17</td><td>35.63</td><td>5.46</td><td>2350299</td></tr><tr><td>1000025300</td><td>30.49</td><td>11.56</td><td>35.98</td><td>1.48</td><td>1129885</td></tr><tr><td>1000025301</td><td>31.9</td><td>12.23</td><td>36.99</td><td>3.77</td><td>1895799</td></tr><tr><td>1000025302</td><td>33.03</td><td>13.19</td><td>38.07</td><td>2.9</td><td>1959632</td></tr><tr><td>1000025303</td><td>32.98</td><td>13.39</td><td>37.81</td><td>3.57</td><td>2167889</td></tr><tr><td>1000025304</td><td>30.82</td><td>11.85</td><td>36.93</td><td>1.08</td><td>1064345</td></tr><tr><td>1000025305</td><td>33.91</td><td>12.27</td><td>36.58</td><td>3.02</td><td>1978749</td></tr><tr><td>1000025306</td><td>33.3</td><td>13.46</td><td>36.34</td><td>5.57</td><td>2759150</td></tr><tr><td>1000025307</td><td>31.91</td><td>11.79</td><td>36.26</td><td>2.4</td><td>1550139</td></tr><tr><td>1000025308</td><td>32.41</td><td>10.99</td><td>37.37</td><td>3.5</td><td>1767587</td></tr><tr><td>1000025309</td><td>32.64</td><td>12.64</td><td>36.52</td><td>5.23</td><td>2419365</td></tr><tr><td>1000025310</td><td>34.1</td><td>8.51</td><td>35.46</td><td>1.84</td><td>1208758</td></tr><tr><td>1000025311</td><td>33.25</td><td>11.66</td><td>36.55</td><td>3.36</td><td>1918459</td></tr><tr><td>1000025312</td><td>34.73</td><td>11.97</td><td>36.55</td><td>2.96</td><td>2024529</td></tr><tr><td>1000025313</td><td>30.39</td><td>11.8</td><td>36.32</td><td>2.08</td><td>1279715</td></tr><tr><td>1000025314</td><td>33.38</td><td>12.68</td><td>35.62</td><td>3.68</td><td>2113237</td></tr><tr><td>1000025315</td><td>32.88</td><td>13.03</td><td>37.87</td><td>4.69</td><td>2440512</td></tr><tr><td>1000025316</td><td>34.5</td><td>12.45</td><td>37.53</td><td>4.01</td><td>2336424</td></tr><tr><td>1000025317</td><td>33.57</td><td>12.24</td><td>37.28</td><td>2.53</td><td>1865685</td></tr><tr><td>1000025318</td><td>32.85</td><td>10.97</td><td>36.61</td><td>2.87</td><td>1619298</td></tr><tr><td>1000025319</td><td>33.53</td><td>13.67</td><td>36.9</td><td>3.52</td><td>2259164</td></tr><tr><td>1000025320</td><td>33.42</td><td>13.39</td><td>37.19</td><td>4.07</td><td>2386067</td></tr><tr><td>1000025321</td><td>32.5</td><td>12.97</td><td>38.3</td><td>1.2</td><td>1474619</td></tr><tr><td>1000025322</td><td>33.67</td><td>12.97</td><td>37.33</td><td>3.23</td><td>2169650</td></tr><tr><td>1000025323</td><td>33.26</td><td>10.73</td><td>36.15</td><td>4.09</td><td>1913049</td></tr><tr><td>1000025324</td><td>32.76</td><td>10.95</td><td>37.65</td><td>4.02</td><td>1893442</td></tr><tr><td>1000025325</td><td>33.48</td><td>12.61</td><td>37.23</td><td>4.21</td><td>2236796</td></tr><tr><td>1000025326</td><td>33.79</td><td>13.04</td><td>36.31</td><td>2.02</td><td>1788751</td></tr><tr><td>1000025327</td><td>33.22</td><td>11.0</td><td>38.44</td><td>4.24</td><td>2020920</td></tr><tr><td>1000025328</td><td>31.13</td><td>13.28</td><td>37.39</td><td>4.63</td><td>2229011</td></tr><tr><td>1000025329</td><td>33.37</td><td>10.63</td><td>38.04</td><td>3.0</td><td>1689475</td></tr><tr><td>1000025330</td><td>32.84</td><td>13.19</td><td>35.92</td><td>1.82</td><td>1780249</td></tr><tr><td>1000025331</td><td>30.57</td><td>11.35</td><td>37.09</td><td>4.08</td><td>1768258</td></tr><tr><td>1000025332</td><td>32.27</td><td>12.95</td><td>37.11</td><td>3.69</td><td>2132160</td></tr><tr><td>1000025333</td><td>33.14</td><td>11.74</td><td>37.94</td><td>2.19</td><td>1696811</td></tr><tr><td>1000025334</td><td>33.49</td><td>11.89</td><td>35.86</td><td>3.21</td><td>1994542</td></tr><tr><td>1000025335</td><td>31.98</td><td>10.76</td><td>36.6</td><td>1.98</td><td>1322378</td></tr><tr><td>1000025336</td><td>32.13</td><td>11.61</td><td>39.25</td><td>3.35</td><td>1773767</td></tr><tr><td>1000025337</td><td>32.3</td><td>11.98</td><td>38.27</td><td>3.53</td><td>1914404</td></tr><tr><td>1000025338</td><td>31.83</td><td>12.46</td><td>37.43</td><td>2.97</td><td>1760011</td></tr><tr><td>1000025339</td><td>32.02</td><td>10.08</td><td>38.07</td><td>2.62</td><td>1431132</td></tr><tr><td>1000025340</td><td>33.0</td><td>12.59</td><td>37.33</td><td>2.8</td><td>1904557</td></tr><tr><td>1000025341</td><td>31.82</td><td>14.29</td><td>36.77</td><td>2.96</td><td>2004490</td></tr><tr><td>1000025342</td><td>34.46</td><td>11.92</td><td>37.77</td><td>4.35</td><td>2370754</td></tr><tr><td>1000025343</td><td>32.34</td><td>11.41</td><td>35.78</td><td>3.87</td><td>1944334</td></tr><tr><td>1000025344</td><td>32.3</td><td>12.82</td><td>37.96</td><td>4.62</td><td>2304101</td></tr><tr><td>1000025345</td><td>33.07</td><td>11.67</td><td>37.84</td><td>2.73</td><td>1770892</td></tr><tr><td>1000025346</td><td>33.89</td><td>10.61</td><td>37.98</td><td>3.54</td><td>1847164</td></tr><tr><td>1000025347</td><td>32.77</td><td>12.51</td><td>35.82</td><td>3.13</td><td>1953550</td></tr><tr><td>1000025348</td><td>33.77</td><td>11.3</td><td>37.83</td><td>5.14</td><td>2372626</td></tr><tr><td>1000025349</td><td>31.81</td><td>10.89</td><td>34.9</td><td>3.13</td><td>1571241</td></tr><tr><td>1000025350</td><td>32.01</td><td>12.1</td><td>36.38</td><td>3.18</td><td>1772789</td></tr><tr><td>1000025351</td><td>33.3</td><td>12.69</td><td>37.33</td><td>3.83</td><td>2141923</td></tr><tr><td>1000025352</td><td>32.19</td><td>11.39</td><td>38.2</td><td>4.81</td><td>2133586</td></tr><tr><td>1000025353</td><td>34.94</td><td>10.73</td><td>36.88</td><td>4.05</td><td>2128510</td></tr><tr><td>1000025354</td><td>33.55</td><td>11.94</td><td>35.9</td><td>4.54</td><td>2235792</td></tr><tr><td>1000025355</td><td>32.39</td><td>12.72</td><td>35.13</td><td>3.48</td><td>2035088</td></tr><tr><td>1000025356</td><td>33.34</td><td>10.97</td><td>35.97</td><td>2.63</td><td>1615068</td></tr><tr><td>1000025357</td><td>33.67</td><td>13.42</td><td>37.76</td><td>4.79</td><td>2562336</td></tr><tr><td>1000025358</td><td>34.0</td><td>11.85</td><td>37.49</td><td>2.76</td><td>1846513</td></tr><tr><td>1000025359</td><td>32.66</td><td>11.92</td><td>35.72</td><td>2.16</td><td>1529664</td></tr><tr><td>1000025360</td><td>32.05</td><td>13.15</td><td>37.65</td><td>4.2</td><td>2247499</td></tr><tr><td>1000025361</td><td>33.23</td><td>12.69</td><td>36.05</td><td>2.14</td><td>1778305</td></tr><tr><td>1000025362</td><td>32.08</td><td>10.35</td><td>39.05</td><td>3.43</td><td>1604133</td></tr><tr><td>1000025363</td><td>33.98</td><td>9.32</td><td>36.91</td><td>2.87</td><td>1537304</td></tr><tr><td>1000025364</td><td>34.18</td><td>12.58</td><td>35.44</td><td>3.14</td><td>2111132</td></tr><tr><td>1000025365</td><td>32.6</td><td>11.76</td><td>37.92</td><td>3.53</td><td>1928580</td></tr><tr><td>1000025366</td><td>32.03</td><td>12.64</td><td>38.0</td><td>5.04</td><td>2377098</td></tr><tr><td>1000025367</td><td>33.1</td><td>11.83</td><td>36.84</td><td>3.61</td><td>2008370</td></tr><tr><td>1000025368</td><td>32.99</td><td>10.44</td><td>35.94</td><td>2.9</td><td>1630629</td></tr><tr><td>1000025369</td><td>34.39</td><td>12.73</td><td>36.23</td><td>5.71</td><td>2835741</td></tr><tr><td>1000025370</td><td>34.36</td><td>9.48</td><td>37.91</td><td>5.05</td><td>2127846</td></tr><tr><td>1000025371</td><td>33.71</td><td>10.16</td><td>37.76</td><td>4.78</td><td>2084963</td></tr><tr><td>1000025372</td><td>32.4</td><td>11.61</td><td>38.11</td><td>2.97</td><td>1789476</td></tr><tr><td>1000025373</td><td>31.83</td><td>11.27</td><td>36.96</td><td>2.67</td><td>1540609</td></tr><tr><td>1000025374</td><td>31.37</td><td>11.16</td><td>37.09</td><td>3.62</td><td>1722356</td></tr><tr><td>1000025375</td><td>31.45</td><td>10.1</td><td>38.04</td><td>4.24</td><td>1674411</td></tr><tr><td>1000025376</td><td>33.58</td><td>12.76</td><td>36.91</td><td>2.48</td><td>1915806</td></tr><tr><td>1000025377</td><td>32.4</td><td>12.06</td><td>37.69</td><td>3.51</td><td>1935186</td></tr><tr><td>1000025378</td><td>35.04</td><td>11.94</td><td>35.78</td><td>3.31</td><td>2155768</td></tr><tr><td>1000025379</td><td>32.78</td><td>12.45</td><td>36.67</td><td>3.54</td><td>1944655</td></tr><tr><td>1000025380</td><td>33.97</td><td>12.28</td><td>38.3</td><td>1.13</td><td>1540380</td></tr><tr><td>1000025381</td><td>33.39</td><td>12.78</td><td>35.55</td><td>3.23</td><td>2111135</td></tr><tr><td>1000025382</td><td>33.56</td><td>12.96</td><td>37.95</td><td>3.35</td><td>2188763</td></tr><tr><td>1000025383</td><td>33.59</td><td>9.95</td><td>37.35</td><td>3.22</td><td>1642412</td></tr><tr><td>1000025384</td><td>34.19</td><td>13.13</td><td>35.43</td><td>3.79</td><td>2335911</td></tr><tr><td>1000025385</td><td>33.59</td><td>11.52</td><td>36.19</td><td>3.56</td><td>1898129</td></tr><tr><td>1000025386</td><td>33.24</td><td>10.97</td><td>34.57</td><td>2.93</td><td>1659740</td></tr><tr><td>1000025387</td><td>33.21</td><td>13.53</td><td>38.95</td><td>3.05</td><td>2203253</td></tr><tr><td>1000025388</td><td>33.64</td><td>12.04</td><td>34.49</td><td>2.74</td><td>1835125</td></tr><tr><td>1000025389</td><td>33.59</td><td>10.94</td><td>36.17</td><td>2.78</td><td>1630169</td></tr><tr><td>1000025390</td><td>34.2</td><td>12.66</td><td>37.03</td><td>4.33</td><td>2325236</td></tr><tr><td>1000025391</td><td>35.86</td><td>11.73</td><td>36.88</td><td>3.42</td><td>2186227</td></tr><tr><td>1000025392</td><td>33.48</td><td>11.92</td><td>37.32</td><td>3.34</td><td>2012700</td></tr><tr><td>1000025393</td><td>33.26</td><td>11.51</td><td>37.13</td><td>4.66</td><td>2196526</td></tr><tr><td>1000025394</td><td>32.32</td><td>12.42</td><td>36.16</td><td>3.22</td><td>1931324</td></tr><tr><td>1000025395</td><td>32.43</td><td>13.89</td><td>38.38</td><td>3.77</td><td>2230433</td></tr><tr><td>1000025396</td><td>31.45</td><td>12.85</td><td>37.87</td><td>3.42</td><td>1939508</td></tr><tr><td>1000025397</td><td>35.74</td><td>10.89</td><td>35.57</td><td>6.12</td><td>2679949</td></tr><tr><td>1000025398</td><td>34.01</td><td>12.91</td><td>36.05</td><td>3.49</td><td>2190840</td></tr><tr><td>1000025399</td><td>34.14</td><td>11.57</td><td>38.92</td><td>4.08</td><td>2151301</td></tr><tr><td>1000025400</td><td>32.38</td><td>11.97</td><td>37.2</td><td>2.83</td><td>1632868</td></tr><tr><td>1000025401</td><td>33.17</td><td>13.08</td><td>37.33</td><td>5.41</td><td>2652299</td></tr><tr><td>1000025402</td><td>33.25</td><td>11.96</td><td>36.52</td><td>3.45</td><td>2025503</td></tr><tr><td>1000025403</td><td>33.6</td><td>13.25</td><td>37.31</td><td>2.94</td><td>2113677</td></tr><tr><td>1000025404</td><td>33.09</td><td>13.09</td><td>38.32</td><td>4.75</td><td>2528494</td></tr><tr><td>1000025405</td><td>32.28</td><td>12.53</td><td>36.69</td><td>3.53</td><td>1953081</td></tr><tr><td>1000025406</td><td>33.44</td><td>11.24</td><td>37.05</td><td>3.9</td><td>2034943</td></tr><tr><td>1000025407</td><td>32.87</td><td>12.07</td><td>35.57</td><td>2.4</td><td>1644748</td></tr><tr><td>1000025408</td><td>31.53</td><td>12.05</td><td>38.51</td><td>2.85</td><td>1636378</td></tr><tr><td>1000025409</td><td>33.0</td><td>11.23</td><td>37.0</td><td>3.78</td><td>1871204</td></tr><tr><td>1000025410</td><td>32.09</td><td>11.91</td><td>35.19</td><td>4.35</td><td>2048663</td></tr><tr><td>1000025411</td><td>33.27</td><td>13.05</td><td>38.78</td><td>4.57</td><td>2433087</td></tr><tr><td>1000025412</td><td>32.99</td><td>13.0</td><td>36.99</td><td>4.62</td><td>2356106</td></tr><tr><td>1000025413</td><td>33.86</td><td>11.52</td><td>35.94</td><td>3.01</td><td>1776215</td></tr><tr><td>1000025414</td><td>32.59</td><td>10.31</td><td>36.73</td><td>4.79</td><td>1972725</td></tr><tr><td>1000025415</td><td>32.38</td><td>12.43</td><td>37.63</td><td>4.33</td><td>2130899</td></tr><tr><td>1000025416</td><td>31.52</td><td>10.75</td><td>38.79</td><td>1.43</td><td>1103674</td></tr><tr><td>1000025417</td><td>33.45</td><td>11.02</td><td>37.64</td><td>4.14</td><td>2044155</td></tr><tr><td>1000025418</td><td>32.22</td><td>12.22</td><td>36.95</td><td>2.91</td><td>1753671</td></tr><tr><td>1000025419</td><td>31.67</td><td>12.33</td><td>37.07</td><td>3.98</td><td>1902900</td></tr><tr><td>1000025420</td><td>33.72</td><td>10.81</td><td>36.01</td><td>3.7</td><td>1934173</td></tr><tr><td>1000025421</td><td>33.22</td><td>12.14</td><td>37.14</td><td>5.84</td><td>2655215</td></tr><tr><td>1000025422</td><td>31.57</td><td>12.94</td><td>36.73</td><td>4.56</td><td>2177637</td></tr><tr><td>1000025423</td><td>33.89</td><td>13.3</td><td>36.39</td><td>4.49</td><td>2520627</td></tr><tr><td>1000025424</td><td>33.13</td><td>10.4</td><td>36.68</td><td>3.86</td><td>1844449</td></tr><tr><td>1000025425</td><td>34.37</td><td>11.89</td><td>37.86</td><td>3.05</td><td>1967646</td></tr><tr><td>1000025426</td><td>34.08</td><td>11.59</td><td>36.46</td><td>4.65</td><td>2297663</td></tr><tr><td>1000025427</td><td>31.43</td><td>13.27</td><td>37.24</td><td>4.02</td><td>2123067</td></tr><tr><td>1000025428</td><td>33.63</td><td>12.99</td><td>39.67</td><td>3.97</td><td>2327195</td></tr><tr><td>1000025429</td><td>31.86</td><td>14.04</td><td>37.02</td><td>3.74</td><td>2225193</td></tr><tr><td>1000025430</td><td>33.29</td><td>11.91</td><td>38.42</td><td>3.38</td><td>2008531</td></tr><tr><td>1000025431</td><td>33.75</td><td>11.14</td><td>38.4</td><td>4.6</td><td>2224745</td></tr><tr><td>1000025432</td><td>34.14</td><td>12.9</td><td>36.61</td><td>2.22</td><td>1900287</td></tr><tr><td>1000025433</td><td>31.12</td><td>12.39</td><td>35.63</td><td>4.29</td><td>1947788</td></tr><tr><td>1000025434</td><td>34.28</td><td>11.82</td><td>36.31</td><td>2.12</td><td>1736577</td></tr><tr><td>1000025435</td><td>33.67</td><td>10.99</td><td>36.35</td><td>0.94</td><td>1216542</td></tr><tr><td>1000025436</td><td>32.26</td><td>14.13</td><td>37.02</td><td>3.76</td><td>2284864</td></tr><tr><td>1000025437</td><td>35.43</td><td>11.91</td><td>36.09</td><td>4.0</td><td>2332319</td></tr><tr><td>1000025438</td><td>31.97</td><td>11.48</td><td>39.24</td><td>3.53</td><td>1782999</td></tr><tr><td>1000025439</td><td>32.15</td><td>10.05</td><td>37.18</td><td>3.54</td><td>1571969</td></tr><tr><td>1000025440</td><td>33.92</td><td>12.43</td><td>37.31</td><td>4.16</td><td>2263977</td></tr><tr><td>1000025441</td><td>33.2</td><td>11.97</td><td>36.83</td><td>3.55</td><td>1996561</td></tr><tr><td>1000025442</td><td>32.54</td><td>11.12</td><td>36.98</td><td>4.13</td><td>2042158</td></tr><tr><td>1000025443</td><td>34.08</td><td>8.67</td><td>35.91</td><td>2.25</td><td>1234111</td></tr><tr><td>1000025444</td><td>33.03</td><td>12.5</td><td>37.65</td><td>4.05</td><td>2246066</td></tr><tr><td>1000025445</td><td>31.27</td><td>12.13</td><td>35.46</td><td>3.07</td><td>1693882</td></tr><tr><td>1000025446</td><td>32.21</td><td>11.73</td><td>35.63</td><td>4.33</td><td>2052612</td></tr><tr><td>1000025447</td><td>33.5</td><td>11.95</td><td>36.49</td><td>3.94</td><td>2116778</td></tr><tr><td>1000025448</td><td>32.9</td><td>12.56</td><td>37.81</td><td>0.27</td><td>1257754</td></tr><tr><td>1000025449</td><td>32.2</td><td>12.48</td><td>37.68</td><td>3.28</td><td>1914337</td></tr><tr><td>1000025450</td><td>32.68</td><td>12.59</td><td>37.68</td><td>2.57</td><td>1778329</td></tr><tr><td>1000025451</td><td>33.0</td><td>10.95</td><td>37.65</td><td>3.83</td><td>1900062</td></tr><tr><td>1000025452</td><td>33.94</td><td>11.48</td><td>36.84</td><td>2.4</td><td>1746882</td></tr><tr><td>1000025453</td><td>33.55</td><td>11.12</td><td>36.81</td><td>4.03</td><td>2084781</td></tr><tr><td>1000025454</td><td>33.68</td><td>10.97</td><td>37.72</td><td>3.63</td><td>1912732</td></tr><tr><td>1000025455</td><td>32.64</td><td>11.59</td><td>36.32</td><td>3.19</td><td>1729925</td></tr><tr><td>1000025456</td><td>33.42</td><td>10.71</td><td>35.77</td><td>3.39</td><td>1753215</td></tr><tr><td>1000025457</td><td>32.77</td><td>11.08</td><td>34.78</td><td>2.57</td><td>1555762</td></tr><tr><td>1000025458</td><td>33.12</td><td>12.95</td><td>37.03</td><td>3.47</td><td>2139086</td></tr><tr><td>1000025459</td><td>35.37</td><td>10.57</td><td>36.86</td><td>4.2</td><td>2151663</td></tr><tr><td>1000025460</td><td>33.98</td><td>11.66</td><td>37.43</td><td>2.09</td><td>1631506</td></tr><tr><td>1000025461</td><td>34.03</td><td>13.59</td><td>36.84</td><td>3.61</td><td>2475384</td></tr><tr><td>1000025462</td><td>32.77</td><td>11.37</td><td>35.26</td><td>4.03</td><td>2011084</td></tr><tr><td>1000025463</td><td>33.5</td><td>11.23</td><td>37.21</td><td>2.32</td><td>1589682</td></tr><tr><td>1000025464</td><td>31.87</td><td>10.29</td><td>36.93</td><td>3.49</td><td>1569141</td></tr><tr><td>1000025465</td><td>32.53</td><td>14.12</td><td>38.41</td><td>5.32</td><td>2756943</td></tr><tr><td>1000025466</td><td>34.85</td><td>12.42</td><td>37.67</td><td>3.13</td><td>2172531</td></tr><tr><td>1000025467</td><td>34.21</td><td>10.77</td><td>34.65</td><td>4.99</td><td>2310944</td></tr><tr><td>1000025468</td><td>33.46</td><td>12.66</td><td>36.37</td><td>1.73</td><td>1746323</td></tr><tr><td>1000025469</td><td>34.2</td><td>12.67</td><td>37.49</td><td>3.7</td><td>2215979</td></tr><tr><td>1000025470</td><td>31.17</td><td>13.97</td><td>36.67</td><td>1.79</td><td>1709426</td></tr><tr><td>1000025471</td><td>32.52</td><td>11.51</td><td>36.6</td><td>3.02</td><td>1698915</td></tr><tr><td>1000025472</td><td>34.52</td><td>11.41</td><td>36.38</td><td>4.04</td><td>2164199</td></tr><tr><td>1000025473</td><td>33.67</td><td>12.26</td><td>38.86</td><td>3.14</td><td>1877533</td></tr><tr><td>1000025474</td><td>31.61</td><td>12.71</td><td>36.17</td><td>2.56</td><td>1778182</td></tr><tr><td>1000025475</td><td>33.7</td><td>13.47</td><td>37.07</td><td>2.38</td><td>1970227</td></tr><tr><td>1000025476</td><td>33.81</td><td>11.19</td><td>36.3</td><td>4.3</td><td>2141286</td></tr><tr><td>1000025477</td><td>34.34</td><td>11.25</td><td>38.68</td><td>2.09</td><td>1635833</td></tr><tr><td>1000025478</td><td>31.06</td><td>12.36</td><td>36.17</td><td>4.09</td><td>1950222</td></tr><tr><td>1000025479</td><td>33.07</td><td>11.76</td><td>36.88</td><td>3.52</td><td>1950585</td></tr><tr><td>1000025480</td><td>34.61</td><td>11.76</td><td>38.13</td><td>1.82</td><td>1608668</td></tr><tr><td>1000025481</td><td>34.24</td><td>11.55</td><td>35.77</td><td>4.18</td><td>2204092</td></tr><tr><td>1000025482</td><td>32.05</td><td>12.48</td><td>35.54</td><td>3.39</td><td>1989558</td></tr><tr><td>1000025483</td><td>30.97</td><td>11.73</td><td>36.07</td><td>4.43</td><td>1978554</td></tr><tr><td>1000025484</td><td>33.61</td><td>12.21</td><td>37.2</td><td>2.91</td><td>1916990</td></tr><tr><td>1000025485</td><td>33.45</td><td>11.9</td><td>36.87</td><td>2.78</td><td>1850626</td></tr><tr><td>1000025486</td><td>33.37</td><td>12.22</td><td>36.36</td><td>3.45</td><td>2062010</td></tr><tr><td>1000025487</td><td>33.45</td><td>12.01</td><td>36.53</td><td>4.71</td><td>2305910</td></tr><tr><td>1000025488</td><td>32.9</td><td>11.91</td><td>36.06</td><td>1.23</td><td>1431432</td></tr><tr><td>1000025489</td><td>35.63</td><td>12.13</td><td>38.19</td><td>4.02</td><td>2390960</td></tr><tr><td>1000025490</td><td>32.25</td><td>11.31</td><td>37.13</td><td>1.71</td><td>1309512</td></tr><tr><td>1000025491</td><td>34.7</td><td>11.61</td><td>37.68</td><td>3.16</td><td>2041606</td></tr><tr><td>1000025492</td><td>34.34</td><td>11.69</td><td>36.81</td><td>3.45</td><td>2042006</td></tr><tr><td>1000025493</td><td>33.68</td><td>11.2</td><td>37.84</td><td>2.21</td><td>1615278</td></tr><tr><td>1000025494</td><td>32.06</td><td>12.63</td><td>35.54</td><td>5.41</td><td>2510413</td></tr><tr><td>1000025495</td><td>33.43</td><td>13.35</td><td>37.97</td><td>2.77</td><td>2042647</td></tr><tr><td>1000025496</td><td>33.24</td><td>13.57</td><td>36.42</td><td>3.75</td><td>2295390</td></tr><tr><td>1000025497</td><td>34.7</td><td>11.7</td><td>37.19</td><td>3.58</td><td>2116196</td></tr><tr><td>1000025498</td><td>32.65</td><td>11.5</td><td>38.33</td><td>4.96</td><td>2206481</td></tr><tr><td>1000025499</td><td>33.32</td><td>12.39</td><td>36.84</td><td>2.34</td><td>1825878</td></tr><tr><td>1000025500</td><td>33.72</td><td>12.42</td><td>35.77</td><td>2.74</td><td>1991115</td></tr></tbody></table></div>"
      ]
     },
     "metadata": {
      "application/vnd.databricks.v1+output": {
       "addedWidgets": {},
       "aggData": [],
       "aggError": "",
       "aggOverflow": false,
       "aggSchema": [],
       "aggSeriesLimitReached": false,
       "aggType": "",
       "arguments": {},
       "columnCustomDisplayInfos": {},
       "data": [
        [
         1000025001,
         34.5,
         12.66,
         39.58,
         4.08,
         2351804
        ],
        [
         1000025002,
         31.93,
         11.11,
         37.27,
         2.66,
         1568820
        ],
        [
         1000025003,
         33.0,
         11.33,
         37.11,
         4.1,
         1950190
        ],
        [
         1000025004,
         34.31,
         13.72,
         36.72,
         3.12,
         2327409
        ],
        [
         1000025005,
         33.33,
         12.8,
         37.54,
         4.45,
         2397624
        ],
        [
         1000025006,
         33.87,
         12.03,
         34.48,
         5.49,
         2548410
        ],
        [
         1000025007,
         32.02,
         11.37,
         36.68,
         4.69,
         2086289
        ],
        [
         1000025008,
         32.74,
         12.35,
         37.37,
         4.43,
         2199617
        ],
        [
         1000025009,
         33.99,
         13.39,
         37.53,
         3.27,
         2280802
        ],
        [
         1000025010,
         31.94,
         11.81,
         37.15,
         3.2,
         1708798
        ],
        [
         1000025011,
         33.99,
         13.34,
         37.23,
         2.48,
         1970424
        ],
        [
         1000025012,
         33.88,
         11.58,
         37.09,
         3.71,
         2089350
        ],
        [
         1000025013,
         29.53,
         10.96,
         37.42,
         4.05,
         1634561
        ],
        [
         1000025014,
         33.19,
         12.96,
         36.14,
         3.92,
         2293663
        ],
        [
         1000025015,
         32.39,
         13.15,
         36.62,
         2.49,
         1881811
        ],
        [
         1000025016,
         30.74,
         12.64,
         36.21,
         3.36,
         1847123
        ],
        [
         1000025017,
         32.13,
         11.73,
         34.89,
         3.14,
         1831391
        ],
        [
         1000025018,
         32.34,
         12.01,
         38.39,
         2.42,
         1630818
        ],
        [
         1000025019,
         32.19,
         14.72,
         38.24,
         1.52,
         1809263
        ],
        [
         1000025020,
         32.62,
         13.99,
         37.19,
         4.06,
         2420244
        ],
        [
         1000025021,
         32.91,
         11.37,
         37.61,
         4.6,
         2138823
        ],
        [
         1000025022,
         33.5,
         12.88,
         37.44,
         1.56,
         1679755
        ],
        [
         1000025023,
         31.53,
         13.38,
         38.73,
         2.25,
         1746062
        ],
        [
         1000025024,
         32.9,
         11.66,
         36.77,
         3.92,
         2077364
        ],
        [
         1000025025,
         34.51,
         12.89,
         37.64,
         5.71,
         2803668
        ],
        [
         1000025026,
         33.03,
         11.77,
         37.74,
         2.72,
         1692720
        ],
        [
         1000025027,
         33.54,
         12.78,
         36.43,
         4.65,
         2479583
        ],
        [
         1000025028,
         32.34,
         13.01,
         37.85,
         3.0,
         1947356
        ],
        [
         1000025029,
         33.11,
         11.98,
         35.29,
         3.92,
         2118151
        ],
        [
         1000025030,
         33.11,
         11.97,
         37.28,
         4.74,
         2218888
        ],
        [
         1000025031,
         33.24,
         12.31,
         36.16,
         3.06,
         1990347
        ],
        [
         1000025032,
         33.46,
         10.87,
         35.62,
         3.47,
         1790752
        ],
        [
         1000025033,
         32.18,
         13.39,
         35.69,
         4.34,
         2354850
        ],
        [
         1000025034,
         32.73,
         13.1,
         38.88,
         2.82,
         1964293
        ],
        [
         1000025035,
         32.82,
         11.63,
         35.37,
         4.12,
         2029767
        ],
        [
         1000025036,
         33.62,
         11.94,
         38.77,
         3.65,
         2087534
        ],
        [
         1000025037,
         31.72,
         11.76,
         36.77,
         1.85,
         1391108
        ],
        [
         1000025038,
         32.87,
         11.98,
         37.04,
         3.45,
         1962955
        ],
        [
         1000025039,
         32.75,
         9.95,
         37.39,
         4.65,
         1912681
        ],
        [
         1000025040,
         32.57,
         12.49,
         36.37,
         4.22,
         2151385
        ],
        [
         1000025041,
         32.07,
         11.73,
         37.53,
         4.67,
         2131007
        ],
        [
         1000025042,
         33.02,
         10.63,
         37.5,
         4.65,
         2007498
        ],
        [
         1000025043,
         33.79,
         12.51,
         37.14,
         4.21,
         2364789
        ],
        [
         1000025044,
         32.89,
         11.53,
         36.89,
         4.64,
         2188977
        ],
        [
         1000025045,
         32.04,
         13.41,
         36.11,
         2.26,
         1792919
        ],
        [
         1000025046,
         34.56,
         12.17,
         39.13,
         3.66,
         2199442
        ],
        [
         1000025047,
         34.56,
         13.15,
         37.34,
         3.88,
         2375660
        ],
        [
         1000025048,
         32.73,
         12.99,
         36.46,
         4.11,
         2254691
        ],
        [
         1000025049,
         33.12,
         11.86,
         36.58,
         3.2,
         1918928
        ],
        [
         1000025050,
         31.66,
         11.4,
         36.59,
         3.2,
         1665433
        ],
        [
         1000025051,
         33.26,
         13.86,
         37.78,
         5.98,
         2902339
        ],
        [
         1000025052,
         33.9,
         10.96,
         37.27,
         2.95,
         1770669
        ],
        [
         1000025053,
         34.19,
         10.32,
         37.45,
         2.09,
         1538506
        ],
        [
         1000025054,
         33.76,
         9.98,
         35.93,
         3.86,
         1805830
        ],
        [
         1000025055,
         34.39,
         12.65,
         38.47,
         2.87,
         2089617
        ],
        [
         1000025056,
         33.93,
         11.59,
         35.25,
         3.39,
         1934693
        ],
        [
         1000025057,
         32.69,
         13.76,
         39.25,
         3.0,
         2083595
        ],
        [
         1000025058,
         34.3,
         10.57,
         36.17,
         3.32,
         1812678
        ],
        [
         1000025059,
         32.84,
         11.83,
         36.81,
         3.47,
         1986603
        ],
        [
         1000025060,
         33.75,
         12.06,
         37.27,
         3.97,
         2189461
        ],
        [
         1000025061,
         33.88,
         12.5,
         38.05,
         4.64,
         2467406
        ],
        [
         1000025062,
         33.08,
         9.61,
         36.49,
         5.08,
         2028850
        ],
        [
         1000025063,
         32.23,
         13.73,
         38.0,
         4.8,
         2454397
        ],
        [
         1000025064,
         32.79,
         11.67,
         37.41,
         3.41,
         1932639
        ],
        [
         1000025065,
         32.77,
         13.28,
         36.6,
         3.46,
         2161054
        ],
        [
         1000025066,
         34.37,
         15.13,
         37.16,
         5.38,
         3062074
        ],
        [
         1000025067,
         33.08,
         12.7,
         35.36,
         4.0,
         2214406
        ],
        [
         1000025068,
         32.81,
         11.84,
         36.38,
         3.44,
         1877243
        ],
        [
         1000025069,
         32.43,
         11.31,
         37.68,
         2.78,
         1634481
        ],
        [
         1000025070,
         32.18,
         11.19,
         40.01,
         3.55,
         1806303
        ],
        [
         1000025071,
         33.15,
         11.89,
         36.27,
         2.6,
         1779866
        ],
        [
         1000025072,
         34.34,
         12.23,
         36.16,
         4.69,
         2383291
        ],
        [
         1000025073,
         32.39,
         10.67,
         38.01,
         3.4,
         1672600
        ],
        [
         1000025074,
         32.81,
         12.82,
         37.03,
         3.85,
         2139109
        ],
        [
         1000025075,
         33.88,
         13.59,
         38.26,
         3.26,
         2312966
        ],
        [
         1000025076,
         32.05,
         12.24,
         38.73,
         3.12,
         1914877
        ],
        [
         1000025077,
         33.56,
         11.55,
         36.63,
         2.84,
         1777144
        ],
        [
         1000025078,
         33.14,
         11.43,
         35.89,
         4.47,
         2179119
        ],
        [
         1000025079,
         32.6,
         10.89,
         38.21,
         4.44,
         1955144
        ],
        [
         1000025080,
         33.17,
         11.93,
         36.91,
         3.16,
         1903036
        ],
        [
         1000025081,
         31.51,
         12.6,
         39.6,
         3.75,
         1959250
        ],
        [
         1000025082,
         34.59,
         10.95,
         35.88,
         3.16,
         1851591
        ],
        [
         1000025083,
         33.5,
         13.9,
         37.06,
         4.13,
         2385721
        ],
        [
         1000025084,
         32.4,
         10.88,
         37.78,
         1.91,
         1353279
        ],
        [
         1000025085,
         34.66,
         10.34,
         36.16,
         4.4,
         2134060
        ],
        [
         1000025086,
         31.81,
         11.63,
         36.18,
         5.11,
         2147088
        ],
        [
         1000025087,
         33.88,
         12.52,
         37.15,
         2.67,
         1949517
        ],
        [
         1000025088,
         34.45,
         10.61,
         36.82,
         3.37,
         1894916
        ],
        [
         1000025089,
         31.96,
         12.83,
         36.95,
         4.57,
         2188504
        ],
        [
         1000025090,
         32.61,
         12.07,
         36.11,
         3.92,
         2020453
        ],
        [
         1000025091,
         32.49,
         12.53,
         37.88,
         2.48,
         1796281
        ],
        [
         1000025092,
         33.62,
         13.52,
         36.77,
         4.13,
         2444000
        ],
        [
         1000025093,
         33.47,
         11.66,
         36.05,
         4.0,
         2063315
        ],
        [
         1000025094,
         33.71,
         13.66,
         37.72,
         1.36,
         1756299
        ],
        [
         1000025095,
         32.2,
         11.83,
         36.63,
         4.19,
         2056356
        ],
        [
         1000025096,
         32.46,
         13.29,
         38.63,
         3.87,
         2173361
        ],
        [
         1000025097,
         33.79,
         11.94,
         38.06,
         4.08,
         2084572
        ],
        [
         1000025098,
         34.18,
         13.35,
         37.83,
         4.25,
         2458861
        ],
        [
         1000025099,
         32.29,
         12.02,
         39.07,
         3.91,
         2029560
        ],
        [
         1000025100,
         33.83,
         12.08,
         35.89,
         3.02,
         1981198
        ],
        [
         1000025101,
         32.5,
         13.41,
         35.99,
         3.18,
         2072258
        ],
        [
         1000025102,
         31.89,
         11.28,
         37.39,
         2.88,
         1560413
        ],
        [
         1000025103,
         32.43,
         11.45,
         37.58,
         2.59,
         1682951
        ],
        [
         1000025104,
         33.44,
         12.6,
         36.26,
         2.97,
         1968420
        ],
        [
         1000025105,
         31.39,
         10.99,
         38.07,
         3.43,
         1640278
        ],
        [
         1000025106,
         33.47,
         13.09,
         35.85,
         2.93,
         1990055
        ],
        [
         1000025107,
         32.29,
         12.19,
         36.15,
         3.78,
         1978207
        ],
        [
         1000025108,
         32.06,
         10.72,
         37.71,
         3.0,
         1513324
        ],
        [
         1000025109,
         33.16,
         12.93,
         38.17,
         3.85,
         2281807
        ],
        [
         1000025110,
         33.36,
         13.45,
         38.5,
         3.32,
         2196033
        ],
        [
         1000025111,
         31.85,
         12.15,
         37.33,
         3.36,
         1837140
        ],
        [
         1000025112,
         32.01,
         12.18,
         37.72,
         3.72,
         1971780
        ],
        [
         1000025113,
         32.39,
         11.01,
         38.42,
         3.54,
         1699051
        ],
        [
         1000025114,
         32.65,
         11.6,
         37.31,
         2.79,
         1689707
        ],
        [
         1000025115,
         32.93,
         12.73,
         35.6,
         5.49,
         2568406
        ],
        [
         1000025116,
         33.24,
         11.22,
         37.69,
         2.59,
         1653487
        ],
        [
         1000025117,
         33.93,
         12.01,
         36.7,
         2.75,
         1916924
        ],
        [
         1000025118,
         33.06,
         11.73,
         36.0,
         5.0,
         2372309
        ],
        [
         1000025119,
         32.4,
         12.09,
         38.31,
         3.87,
         2026189
        ],
        [
         1000025120,
         33.89,
         13.07,
         37.54,
         3.8,
         2285230
        ],
        [
         1000025121,
         34.57,
         12.85,
         35.01,
         3.29,
         2305245
        ],
        [
         1000025122,
         33.7,
         11.56,
         37.67,
         4.72,
         2307210
        ],
        [
         1000025123,
         33.27,
         11.11,
         37.39,
         4.02,
         2056958
        ],
        [
         1000025124,
         31.36,
         12.81,
         36.55,
         3.64,
         1980704
        ],
        [
         1000025125,
         33.01,
         11.76,
         37.57,
         3.83,
         2057346
        ],
        [
         1000025126,
         31.58,
         12.58,
         37.09,
         4.53,
         2164906
        ],
        [
         1000025127,
         32.66,
         11.96,
         36.63,
         4.11,
         2067326
        ],
        [
         1000025128,
         34.71,
         10.65,
         37.15,
         3.22,
         1873783
        ],
        [
         1000025129,
         34.54,
         12.75,
         36.71,
         3.28,
         2193121
        ],
        [
         1000025130,
         32.77,
         11.54,
         37.53,
         2.92,
         1726471
        ],
        [
         1000025131,
         33.7,
         11.92,
         37.25,
         3.91,
         2211761
        ],
        [
         1000025132,
         32.44,
         12.42,
         38.95,
         4.92,
         2293225
        ],
        [
         1000025133,
         34.31,
         11.81,
         37.41,
         2.47,
         1810509
        ],
        [
         1000025134,
         32.46,
         12.76,
         36.6,
         4.13,
         2170846
        ],
        [
         1000025135,
         33.54,
         11.85,
         37.42,
         1.77,
         1631216
        ],
        [
         1000025136,
         33.36,
         12.7,
         36.1,
         2.72,
         1929414
        ],
        [
         1000025137,
         32.69,
         12.22,
         36.59,
         3.9,
         2116920
        ],
        [
         1000025138,
         34.56,
         11.28,
         36.49,
         2.49,
         1732195
        ],
        [
         1000025139,
         33.55,
         10.74,
         37.46,
         3.86,
         1904766
        ],
        [
         1000025140,
         31.95,
         10.96,
         37.33,
         3.58,
         1759992
        ],
        [
         1000025141,
         31.07,
         11.74,
         36.6,
         3.96,
         1795733
        ],
        [
         1000025142,
         31.85,
         12.42,
         35.98,
         3.25,
         1891969
        ],
        [
         1000025143,
         32.61,
         10.54,
         35.73,
         3.91,
         1855694
        ],
        [
         1000025144,
         32.12,
         11.92,
         39.29,
         1.44,
         1400233
        ],
        [
         1000025145,
         33.92,
         11.91,
         38.27,
         2.91,
         1840245
        ],
        [
         1000025146,
         33.48,
         12.49,
         36.52,
         3.35,
         2023085
        ],
        [
         1000025147,
         32.12,
         12.38,
         37.23,
         3.09,
         1853940
        ],
        [
         1000025148,
         32.26,
         10.48,
         37.34,
         4.51,
         1918928
        ],
        [
         1000025149,
         32.69,
         12.3,
         36.95,
         1.83,
         1696742
        ],
        [
         1000025150,
         32.38,
         10.86,
         36.58,
         3.99,
         1863557
        ],
        [
         1000025151,
         34.34,
         10.72,
         38.31,
         2.65,
         1707101
        ],
        [
         1000025152,
         32.89,
         12.39,
         37.43,
         6.4,
         2736654
        ],
        [
         1000025153,
         32.51,
         10.98,
         37.4,
         5.39,
         2223570
        ],
        [
         1000025154,
         31.95,
         12.97,
         36.97,
         6.08,
         2628080
        ],
        [
         1000025155,
         36.14,
         12.05,
         36.96,
         3.86,
         2383215
        ],
        [
         1000025156,
         32.45,
         13.46,
         37.24,
         2.94,
         2015914
        ],
        [
         1000025157,
         32.29,
         12.44,
         37.33,
         5.08,
         2344623
        ],
        [
         1000025158,
         34.6,
         12.21,
         33.91,
         6.92,
         2976887
        ],
        [
         1000025159,
         33.6,
         11.59,
         39.09,
         3.6,
         2051301
        ],
        [
         1000025160,
         34.57,
         11.38,
         38.3,
         3.78,
         2112895
        ],
        [
         1000025161,
         32.84,
         12.36,
         38.04,
         3.31,
         1875654
        ],
        [
         1000025162,
         33.5,
         12.4,
         35.01,
         0.97,
         1430366
        ],
        [
         1000025163,
         33.3,
         12.54,
         38.31,
         3.77,
         2145692
        ],
        [
         1000025164,
         30.88,
         13.28,
         36.94,
         3.59,
         1960826
        ],
        [
         1000025165,
         33.15,
         11.8,
         37.66,
         4.52,
         2200190
        ],
        [
         1000025166,
         32.05,
         12.72,
         37.66,
         3.68,
         2053802
        ],
        [
         1000025167,
         33.63,
         12.04,
         38.92,
         2.87,
         1991248
        ],
        [
         1000025168,
         34.05,
         12.47,
         35.04,
         4.06,
         2315945
        ],
        [
         1000025169,
         33.64,
         13.16,
         36.41,
         3.02,
         2026146
        ],
        [
         1000025170,
         32.65,
         11.05,
         37.63,
         4.72,
         2006997
        ],
        [
         1000025171,
         33.43,
         10.64,
         37.58,
         2.93,
         1687867
        ],
        [
         1000025172,
         31.86,
         13.44,
         36.88,
         2.36,
         1759565
        ],
        [
         1000025173,
         34.48,
         13.28,
         35.91,
         4.97,
         2664502
        ],
        [
         1000025174,
         32.53,
         11.75,
         36.94,
         0.8,
         1195048
        ],
        [
         1000025175,
         33.43,
         10.86,
         38.84,
         3.67,
         1860706
        ],
        [
         1000025176,
         33.31,
         11.69,
         37.48,
         1.72,
         1495543
        ],
        [
         1000025177,
         32.33,
         11.55,
         38.58,
         4.77,
         2130870
        ],
        [
         1000025178,
         34.71,
         11.72,
         36.81,
         4.09,
         2219603
        ],
        [
         1000025179,
         32.64,
         12.18,
         35.67,
         4.13,
         2151093
        ],
        [
         1000025180,
         33.08,
         12.32,
         37.82,
         3.44,
         2004401
        ],
        [
         1000025181,
         32.23,
         11.08,
         37.96,
         4.72,
         2068661
        ],
        [
         1000025182,
         34.14,
         13.18,
         38.86,
         3.23,
         2230117
        ],
        [
         1000025183,
         32.5,
         12.83,
         37.68,
         2.97,
         1974877
        ],
        [
         1000025184,
         33.12,
         11.51,
         37.25,
         3.18,
         1808491
        ],
        [
         1000025185,
         33.09,
         11.86,
         36.09,
         4.81,
         2309094
        ],
        [
         1000025186,
         32.53,
         12.29,
         37.06,
         3.62,
         1943693
        ],
        [
         1000025187,
         32.48,
         10.93,
         36.55,
         3.26,
         1702980
        ],
        [
         1000025188,
         32.54,
         13.33,
         37.96,
         3.6,
         2148860
        ],
        [
         1000025189,
         32.28,
         10.9,
         36.09,
         4.79,
         2098552
        ],
        [
         1000025190,
         32.2,
         12.28,
         38.23,
         3.32,
         1915542
        ],
        [
         1000025191,
         34.71,
         12.04,
         37.64,
         4.63,
         2449541
        ],
        [
         1000025192,
         32.71,
         11.72,
         37.15,
         3.31,
         1907067
        ],
        [
         1000025193,
         33.69,
         11.2,
         35.49,
         4.02,
         2020479
        ],
        [
         1000025194,
         31.57,
         13.38,
         36.34,
         4.37,
         2183782
        ],
        [
         1000025195,
         33.46,
         11.39,
         37.91,
         2.57,
         1736087
        ],
        [
         1000025196,
         31.82,
         10.77,
         37.28,
         3.52,
         1698701
        ],
        [
         1000025197,
         32.73,
         11.82,
         37.1,
         1.5,
         1410200
        ],
        [
         1000025198,
         32.41,
         13.81,
         37.43,
         5.04,
         2651844
        ],
        [
         1000025199,
         33.51,
         11.66,
         37.28,
         4.48,
         2242241
        ],
        [
         1000025200,
         30.84,
         13.1,
         35.91,
         3.36,
         1870008
        ],
        [
         1000025201,
         34.88,
         13.07,
         36.68,
         1.92,
         2019482
        ],
        [
         1000025202,
         34.01,
         12.49,
         36.05,
         4.33,
         2362251
        ],
        [
         1000025203,
         31.53,
         11.34,
         37.04,
         3.81,
         1775863
        ],
        [
         1000025204,
         31.05,
         11.2,
         38.69,
         3.09,
         1569990
        ],
        [
         1000025205,
         34.6,
         11.33,
         35.46,
         4.54,
         2274870
        ],
        [
         1000025206,
         34.97,
         13.92,
         37.95,
         5.07,
         2849585
        ],
        [
         1000025207,
         32.3,
         11.03,
         38.25,
         3.11,
         1653184
        ],
        [
         1000025208,
         33.32,
         11.08,
         36.78,
         4.75,
         2248328
        ],
        [
         1000025209,
         32.9,
         10.54,
         35.53,
         3.09,
         1648052
        ],
        [
         1000025210,
         32.56,
         11.8,
         37.78,
         3.2,
         1874674
        ],
        [
         1000025211,
         31.77,
         12.44,
         38.13,
         3.85,
         1986216
        ],
        [
         1000025212,
         34.08,
         12.1,
         36.06,
         3.97,
         2194074
        ],
        [
         1000025213,
         33.3,
         12.38,
         38.76,
         3.84,
         2144524
        ],
        [
         1000025214,
         34.33,
         13.72,
         35.77,
         2.91,
         2233709
        ],
        [
         1000025215,
         32.08,
         12.73,
         36.54,
         1.14,
         1431455
        ],
        [
         1000025216,
         33.61,
         13.69,
         34.89,
         2.69,
         2116227
        ],
        [
         1000025217,
         32.75,
         10.01,
         38.35,
         3.11,
         1549428
        ],
        [
         1000025218,
         32.12,
         11.44,
         36.22,
         4.85,
         2115734
        ],
        [
         1000025219,
         32.53,
         12.35,
         37.12,
         2.31,
         1683665
        ],
        [
         1000025220,
         31.74,
         10.75,
         35.74,
         4.84,
         1987734
        ],
        [
         1000025221,
         34.12,
         11.59,
         37.74,
         3.68,
         2077492
        ],
        [
         1000025222,
         33.64,
         11.24,
         37.68,
         5.25,
         2365751
        ],
        [
         1000025223,
         34.33,
         11.11,
         38.59,
         3.89,
         2009639
        ],
        [
         1000025224,
         34.81,
         12.11,
         36.29,
         4.39,
         2417339
        ],
        [
         1000025225,
         34.64,
         11.87,
         37.72,
         4.0,
         2220274
        ],
        [
         1000025226,
         32.84,
         10.26,
         36.14,
         0.79,
         1026682
        ],
        [
         1000025227,
         32.3,
         12.17,
         37.07,
         4.4,
         2188444
        ],
        [
         1000025228,
         31.95,
         13.09,
         37.61,
         2.65,
         1847684
        ],
        [
         1000025229,
         32.73,
         13.01,
         36.65,
         2.37,
         1833508
        ],
        [
         1000025230,
         33.95,
         10.98,
         37.95,
         3.05,
         1745134
        ],
        [
         1000025231,
         32.35,
         13.11,
         35.57,
         3.64,
         2131741
        ],
        [
         1000025232,
         34.17,
         12.14,
         37.26,
         3.4,
         2050210
        ],
        [
         1000025233,
         32.98,
         13.91,
         37.79,
         4.3,
         2521691
        ],
        [
         1000025234,
         32.0,
         11.4,
         37.33,
         3.8,
         1854984
        ],
        [
         1000025235,
         34.2,
         13.03,
         37.08,
         2.63,
         1972721
        ],
        [
         1000025236,
         33.18,
         11.62,
         35.97,
         3.63,
         2004837
        ],
        [
         1000025237,
         32.69,
         12.6,
         37.37,
         3.47,
         2007713
        ],
        [
         1000025238,
         31.63,
         13.19,
         37.07,
         1.49,
         1505348
        ],
        [
         1000025239,
         31.26,
         13.27,
         36.97,
         2.27,
         1685307
        ],
        [
         1000025240,
         31.72,
         11.75,
         38.57,
         5.02,
         2155100
        ],
        [
         1000025241,
         32.92,
         11.57,
         36.91,
         2.47,
         1592654
        ],
        [
         1000025242,
         32.69,
         12.64,
         36.1,
         4.3,
         2285884
        ],
        [
         1000025243,
         34.05,
         11.39,
         39.08,
         2.44,
         1806514
        ],
        [
         1000025244,
         32.45,
         11.82,
         36.95,
         3.66,
         1962402
        ],
        [
         1000025245,
         31.28,
         12.73,
         35.97,
         5.0,
         2367124
        ],
        [
         1000025246,
         32.98,
         11.2,
         37.69,
         2.41,
         1636282
        ],
        [
         1000025247,
         31.91,
         11.35,
         36.32,
         5.31,
         2253784
        ],
        [
         1000025248,
         34.4,
         14.22,
         37.52,
         4.08,
         2590478
        ],
        [
         1000025249,
         32.96,
         11.55,
         36.95,
         3.28,
         1793362
        ],
        [
         1000025250,
         33.78,
         11.92,
         36.84,
         3.63,
         2075146
        ],
        [
         1000025251,
         32.67,
         12.28,
         37.19,
         3.98,
         2094536
        ],
        [
         1000025252,
         32.73,
         10.13,
         34.85,
         3.29,
         1575429
        ],
        [
         1000025253,
         33.41,
         12.03,
         36.13,
         2.31,
         1704618
        ],
        [
         1000025254,
         31.72,
         13.17,
         36.2,
         3.56,
         2013552
        ],
        [
         1000025255,
         32.71,
         12.33,
         36.67,
         3.35,
         1930410
        ],
        [
         1000025256,
         33.14,
         13.89,
         39.22,
         2.91,
         2099191
        ],
        [
         1000025257,
         34.38,
         12.93,
         36.36,
         3.79,
         2298619
        ],
        [
         1000025258,
         35.53,
         11.38,
         36.64,
         4.03,
         2298989
        ],
        [
         1000025259,
         33.25,
         14.07,
         38.99,
         4.98,
         2641701
        ],
        [
         1000025260,
         32.1,
         10.8,
         37.37,
         2.7,
         1501594
        ],
        [
         1000025261,
         35.04,
         14.43,
         37.37,
         3.93,
         2560751
        ],
        [
         1000025262,
         32.55,
         13.04,
         36.66,
         3.46,
         2056039
        ],
        [
         1000025263,
         32.58,
         11.74,
         36.85,
         2.18,
         1505987
        ],
        [
         1000025264,
         33.3,
         12.49,
         38.24,
         2.71,
         1938079
        ],
        [
         1000025265,
         33.11,
         12.89,
         36.53,
         4.59,
         2458919
        ],
        [
         1000025266,
         33.9,
         11.67,
         37.34,
         4.26,
         2269900
        ],
        [
         1000025267,
         34.56,
         11.78,
         37.98,
         3.78,
         2216012
        ],
        [
         1000025268,
         33.73,
         12.14,
         36.85,
         1.62,
         1599935
        ],
        [
         1000025269,
         31.6,
         12.22,
         36.82,
         3.41,
         1916691
        ],
        [
         1000025270,
         34.32,
         13.4,
         37.29,
         3.61,
         2343727
        ],
        [
         1000025271,
         34.01,
         12.96,
         38.66,
         3.28,
         2163983
        ],
        [
         1000025272,
         33.54,
         12.88,
         36.23,
         5.01,
         2512191
        ],
        [
         1000025273,
         34.44,
         13.33,
         36.77,
         3.37,
         2329968
        ],
        [
         1000025274,
         33.55,
         12.16,
         36.58,
         5.45,
         2563145
        ],
        [
         1000025275,
         31.82,
         11.23,
         35.67,
         3.76,
         1785675
        ],
        [
         1000025276,
         32.36,
         12.46,
         37.75,
         4.66,
         2282520
        ],
        [
         1000025277,
         33.19,
         9.85,
         36.88,
         3.81,
         1693233
        ],
        [
         1000025278,
         32.19,
         13.33,
         36.9,
         5.05,
         2466641
        ],
        [
         1000025279,
         32.61,
         13.68,
         37.74,
         2.87,
         2121450
        ],
        [
         1000025280,
         32.26,
         11.64,
         37.03,
         3.24,
         1769452
        ],
        [
         1000025281,
         32.27,
         13.49,
         37.55,
         3.09,
         2047919
        ],
        [
         1000025282,
         33.8,
         11.62,
         38.42,
         4.56,
         2241775
        ],
        [
         1000025283,
         31.65,
         13.01,
         37.79,
         3.01,
         1901054
        ],
        [
         1000025284,
         33.08,
         11.47,
         35.68,
         1.81,
         1497079
        ],
        [
         1000025285,
         31.31,
         11.68,
         38.72,
         3.59,
         1854366
        ],
        [
         1000025286,
         32.87,
         12.09,
         36.62,
         3.05,
         1886412
        ],
        [
         1000025287,
         33.71,
         14.33,
         35.72,
         3.63,
         2504075
        ],
        [
         1000025288,
         33.91,
         12.91,
         39.07,
         1.48,
         1729888
        ],
        [
         1000025289,
         32.31,
         9.82,
         35.74,
         2.92,
         1426462
        ],
        [
         1000025290,
         34.39,
         12.81,
         38.55,
         1.81,
         1869711
        ],
        [
         1000025291,
         32.42,
         13.06,
         37.26,
         3.37,
         2012870
        ],
        [
         1000025292,
         33.54,
         10.53,
         37.03,
         2.21,
         1513894
        ],
        [
         1000025293,
         33.37,
         11.14,
         35.95,
         5.45,
         2336873
        ],
        [
         1000025294,
         33.79,
         10.98,
         34.81,
         3.2,
         1806911
        ],
        [
         1000025295,
         33.77,
         11.15,
         37.24,
         4.73,
         2230536
        ],
        [
         1000025296,
         31.31,
         11.95,
         36.19,
         3.21,
         1730883
        ],
        [
         1000025297,
         33.61,
         11.47,
         37.06,
         3.8,
         2025695
        ],
        [
         1000025298,
         33.4,
         11.04,
         38.62,
         4.12,
         2040639
        ],
        [
         1000025299,
         33.62,
         11.17,
         35.63,
         5.46,
         2350299
        ],
        [
         1000025300,
         30.49,
         11.56,
         35.98,
         1.48,
         1129885
        ],
        [
         1000025301,
         31.9,
         12.23,
         36.99,
         3.77,
         1895799
        ],
        [
         1000025302,
         33.03,
         13.19,
         38.07,
         2.9,
         1959632
        ],
        [
         1000025303,
         32.98,
         13.39,
         37.81,
         3.57,
         2167889
        ],
        [
         1000025304,
         30.82,
         11.85,
         36.93,
         1.08,
         1064345
        ],
        [
         1000025305,
         33.91,
         12.27,
         36.58,
         3.02,
         1978749
        ],
        [
         1000025306,
         33.3,
         13.46,
         36.34,
         5.57,
         2759150
        ],
        [
         1000025307,
         31.91,
         11.79,
         36.26,
         2.4,
         1550139
        ],
        [
         1000025308,
         32.41,
         10.99,
         37.37,
         3.5,
         1767587
        ],
        [
         1000025309,
         32.64,
         12.64,
         36.52,
         5.23,
         2419365
        ],
        [
         1000025310,
         34.1,
         8.51,
         35.46,
         1.84,
         1208758
        ],
        [
         1000025311,
         33.25,
         11.66,
         36.55,
         3.36,
         1918459
        ],
        [
         1000025312,
         34.73,
         11.97,
         36.55,
         2.96,
         2024529
        ],
        [
         1000025313,
         30.39,
         11.8,
         36.32,
         2.08,
         1279715
        ],
        [
         1000025314,
         33.38,
         12.68,
         35.62,
         3.68,
         2113237
        ],
        [
         1000025315,
         32.88,
         13.03,
         37.87,
         4.69,
         2440512
        ],
        [
         1000025316,
         34.5,
         12.45,
         37.53,
         4.01,
         2336424
        ],
        [
         1000025317,
         33.57,
         12.24,
         37.28,
         2.53,
         1865685
        ],
        [
         1000025318,
         32.85,
         10.97,
         36.61,
         2.87,
         1619298
        ],
        [
         1000025319,
         33.53,
         13.67,
         36.9,
         3.52,
         2259164
        ],
        [
         1000025320,
         33.42,
         13.39,
         37.19,
         4.07,
         2386067
        ],
        [
         1000025321,
         32.5,
         12.97,
         38.3,
         1.2,
         1474619
        ],
        [
         1000025322,
         33.67,
         12.97,
         37.33,
         3.23,
         2169650
        ],
        [
         1000025323,
         33.26,
         10.73,
         36.15,
         4.09,
         1913049
        ],
        [
         1000025324,
         32.76,
         10.95,
         37.65,
         4.02,
         1893442
        ],
        [
         1000025325,
         33.48,
         12.61,
         37.23,
         4.21,
         2236796
        ],
        [
         1000025326,
         33.79,
         13.04,
         36.31,
         2.02,
         1788751
        ],
        [
         1000025327,
         33.22,
         11.0,
         38.44,
         4.24,
         2020920
        ],
        [
         1000025328,
         31.13,
         13.28,
         37.39,
         4.63,
         2229011
        ],
        [
         1000025329,
         33.37,
         10.63,
         38.04,
         3.0,
         1689475
        ],
        [
         1000025330,
         32.84,
         13.19,
         35.92,
         1.82,
         1780249
        ],
        [
         1000025331,
         30.57,
         11.35,
         37.09,
         4.08,
         1768258
        ],
        [
         1000025332,
         32.27,
         12.95,
         37.11,
         3.69,
         2132160
        ],
        [
         1000025333,
         33.14,
         11.74,
         37.94,
         2.19,
         1696811
        ],
        [
         1000025334,
         33.49,
         11.89,
         35.86,
         3.21,
         1994542
        ],
        [
         1000025335,
         31.98,
         10.76,
         36.6,
         1.98,
         1322378
        ],
        [
         1000025336,
         32.13,
         11.61,
         39.25,
         3.35,
         1773767
        ],
        [
         1000025337,
         32.3,
         11.98,
         38.27,
         3.53,
         1914404
        ],
        [
         1000025338,
         31.83,
         12.46,
         37.43,
         2.97,
         1760011
        ],
        [
         1000025339,
         32.02,
         10.08,
         38.07,
         2.62,
         1431132
        ],
        [
         1000025340,
         33.0,
         12.59,
         37.33,
         2.8,
         1904557
        ],
        [
         1000025341,
         31.82,
         14.29,
         36.77,
         2.96,
         2004490
        ],
        [
         1000025342,
         34.46,
         11.92,
         37.77,
         4.35,
         2370754
        ],
        [
         1000025343,
         32.34,
         11.41,
         35.78,
         3.87,
         1944334
        ],
        [
         1000025344,
         32.3,
         12.82,
         37.96,
         4.62,
         2304101
        ],
        [
         1000025345,
         33.07,
         11.67,
         37.84,
         2.73,
         1770892
        ],
        [
         1000025346,
         33.89,
         10.61,
         37.98,
         3.54,
         1847164
        ],
        [
         1000025347,
         32.77,
         12.51,
         35.82,
         3.13,
         1953550
        ],
        [
         1000025348,
         33.77,
         11.3,
         37.83,
         5.14,
         2372626
        ],
        [
         1000025349,
         31.81,
         10.89,
         34.9,
         3.13,
         1571241
        ],
        [
         1000025350,
         32.01,
         12.1,
         36.38,
         3.18,
         1772789
        ],
        [
         1000025351,
         33.3,
         12.69,
         37.33,
         3.83,
         2141923
        ],
        [
         1000025352,
         32.19,
         11.39,
         38.2,
         4.81,
         2133586
        ],
        [
         1000025353,
         34.94,
         10.73,
         36.88,
         4.05,
         2128510
        ],
        [
         1000025354,
         33.55,
         11.94,
         35.9,
         4.54,
         2235792
        ],
        [
         1000025355,
         32.39,
         12.72,
         35.13,
         3.48,
         2035088
        ],
        [
         1000025356,
         33.34,
         10.97,
         35.97,
         2.63,
         1615068
        ],
        [
         1000025357,
         33.67,
         13.42,
         37.76,
         4.79,
         2562336
        ],
        [
         1000025358,
         34.0,
         11.85,
         37.49,
         2.76,
         1846513
        ],
        [
         1000025359,
         32.66,
         11.92,
         35.72,
         2.16,
         1529664
        ],
        [
         1000025360,
         32.05,
         13.15,
         37.65,
         4.2,
         2247499
        ],
        [
         1000025361,
         33.23,
         12.69,
         36.05,
         2.14,
         1778305
        ],
        [
         1000025362,
         32.08,
         10.35,
         39.05,
         3.43,
         1604133
        ],
        [
         1000025363,
         33.98,
         9.32,
         36.91,
         2.87,
         1537304
        ],
        [
         1000025364,
         34.18,
         12.58,
         35.44,
         3.14,
         2111132
        ],
        [
         1000025365,
         32.6,
         11.76,
         37.92,
         3.53,
         1928580
        ],
        [
         1000025366,
         32.03,
         12.64,
         38.0,
         5.04,
         2377098
        ],
        [
         1000025367,
         33.1,
         11.83,
         36.84,
         3.61,
         2008370
        ],
        [
         1000025368,
         32.99,
         10.44,
         35.94,
         2.9,
         1630629
        ],
        [
         1000025369,
         34.39,
         12.73,
         36.23,
         5.71,
         2835741
        ],
        [
         1000025370,
         34.36,
         9.48,
         37.91,
         5.05,
         2127846
        ],
        [
         1000025371,
         33.71,
         10.16,
         37.76,
         4.78,
         2084963
        ],
        [
         1000025372,
         32.4,
         11.61,
         38.11,
         2.97,
         1789476
        ],
        [
         1000025373,
         31.83,
         11.27,
         36.96,
         2.67,
         1540609
        ],
        [
         1000025374,
         31.37,
         11.16,
         37.09,
         3.62,
         1722356
        ],
        [
         1000025375,
         31.45,
         10.1,
         38.04,
         4.24,
         1674411
        ],
        [
         1000025376,
         33.58,
         12.76,
         36.91,
         2.48,
         1915806
        ],
        [
         1000025377,
         32.4,
         12.06,
         37.69,
         3.51,
         1935186
        ],
        [
         1000025378,
         35.04,
         11.94,
         35.78,
         3.31,
         2155768
        ],
        [
         1000025379,
         32.78,
         12.45,
         36.67,
         3.54,
         1944655
        ],
        [
         1000025380,
         33.97,
         12.28,
         38.3,
         1.13,
         1540380
        ],
        [
         1000025381,
         33.39,
         12.78,
         35.55,
         3.23,
         2111135
        ],
        [
         1000025382,
         33.56,
         12.96,
         37.95,
         3.35,
         2188763
        ],
        [
         1000025383,
         33.59,
         9.95,
         37.35,
         3.22,
         1642412
        ],
        [
         1000025384,
         34.19,
         13.13,
         35.43,
         3.79,
         2335911
        ],
        [
         1000025385,
         33.59,
         11.52,
         36.19,
         3.56,
         1898129
        ],
        [
         1000025386,
         33.24,
         10.97,
         34.57,
         2.93,
         1659740
        ],
        [
         1000025387,
         33.21,
         13.53,
         38.95,
         3.05,
         2203253
        ],
        [
         1000025388,
         33.64,
         12.04,
         34.49,
         2.74,
         1835125
        ],
        [
         1000025389,
         33.59,
         10.94,
         36.17,
         2.78,
         1630169
        ],
        [
         1000025390,
         34.2,
         12.66,
         37.03,
         4.33,
         2325236
        ],
        [
         1000025391,
         35.86,
         11.73,
         36.88,
         3.42,
         2186227
        ],
        [
         1000025392,
         33.48,
         11.92,
         37.32,
         3.34,
         2012700
        ],
        [
         1000025393,
         33.26,
         11.51,
         37.13,
         4.66,
         2196526
        ],
        [
         1000025394,
         32.32,
         12.42,
         36.16,
         3.22,
         1931324
        ],
        [
         1000025395,
         32.43,
         13.89,
         38.38,
         3.77,
         2230433
        ],
        [
         1000025396,
         31.45,
         12.85,
         37.87,
         3.42,
         1939508
        ],
        [
         1000025397,
         35.74,
         10.89,
         35.57,
         6.12,
         2679949
        ],
        [
         1000025398,
         34.01,
         12.91,
         36.05,
         3.49,
         2190840
        ],
        [
         1000025399,
         34.14,
         11.57,
         38.92,
         4.08,
         2151301
        ],
        [
         1000025400,
         32.38,
         11.97,
         37.2,
         2.83,
         1632868
        ],
        [
         1000025401,
         33.17,
         13.08,
         37.33,
         5.41,
         2652299
        ],
        [
         1000025402,
         33.25,
         11.96,
         36.52,
         3.45,
         2025503
        ],
        [
         1000025403,
         33.6,
         13.25,
         37.31,
         2.94,
         2113677
        ],
        [
         1000025404,
         33.09,
         13.09,
         38.32,
         4.75,
         2528494
        ],
        [
         1000025405,
         32.28,
         12.53,
         36.69,
         3.53,
         1953081
        ],
        [
         1000025406,
         33.44,
         11.24,
         37.05,
         3.9,
         2034943
        ],
        [
         1000025407,
         32.87,
         12.07,
         35.57,
         2.4,
         1644748
        ],
        [
         1000025408,
         31.53,
         12.05,
         38.51,
         2.85,
         1636378
        ],
        [
         1000025409,
         33.0,
         11.23,
         37.0,
         3.78,
         1871204
        ],
        [
         1000025410,
         32.09,
         11.91,
         35.19,
         4.35,
         2048663
        ],
        [
         1000025411,
         33.27,
         13.05,
         38.78,
         4.57,
         2433087
        ],
        [
         1000025412,
         32.99,
         13.0,
         36.99,
         4.62,
         2356106
        ],
        [
         1000025413,
         33.86,
         11.52,
         35.94,
         3.01,
         1776215
        ],
        [
         1000025414,
         32.59,
         10.31,
         36.73,
         4.79,
         1972725
        ],
        [
         1000025415,
         32.38,
         12.43,
         37.63,
         4.33,
         2130899
        ],
        [
         1000025416,
         31.52,
         10.75,
         38.79,
         1.43,
         1103674
        ],
        [
         1000025417,
         33.45,
         11.02,
         37.64,
         4.14,
         2044155
        ],
        [
         1000025418,
         32.22,
         12.22,
         36.95,
         2.91,
         1753671
        ],
        [
         1000025419,
         31.67,
         12.33,
         37.07,
         3.98,
         1902900
        ],
        [
         1000025420,
         33.72,
         10.81,
         36.01,
         3.7,
         1934173
        ],
        [
         1000025421,
         33.22,
         12.14,
         37.14,
         5.84,
         2655215
        ],
        [
         1000025422,
         31.57,
         12.94,
         36.73,
         4.56,
         2177637
        ],
        [
         1000025423,
         33.89,
         13.3,
         36.39,
         4.49,
         2520627
        ],
        [
         1000025424,
         33.13,
         10.4,
         36.68,
         3.86,
         1844449
        ],
        [
         1000025425,
         34.37,
         11.89,
         37.86,
         3.05,
         1967646
        ],
        [
         1000025426,
         34.08,
         11.59,
         36.46,
         4.65,
         2297663
        ],
        [
         1000025427,
         31.43,
         13.27,
         37.24,
         4.02,
         2123067
        ],
        [
         1000025428,
         33.63,
         12.99,
         39.67,
         3.97,
         2327195
        ],
        [
         1000025429,
         31.86,
         14.04,
         37.02,
         3.74,
         2225193
        ],
        [
         1000025430,
         33.29,
         11.91,
         38.42,
         3.38,
         2008531
        ],
        [
         1000025431,
         33.75,
         11.14,
         38.4,
         4.6,
         2224745
        ],
        [
         1000025432,
         34.14,
         12.9,
         36.61,
         2.22,
         1900287
        ],
        [
         1000025433,
         31.12,
         12.39,
         35.63,
         4.29,
         1947788
        ],
        [
         1000025434,
         34.28,
         11.82,
         36.31,
         2.12,
         1736577
        ],
        [
         1000025435,
         33.67,
         10.99,
         36.35,
         0.94,
         1216542
        ],
        [
         1000025436,
         32.26,
         14.13,
         37.02,
         3.76,
         2284864
        ],
        [
         1000025437,
         35.43,
         11.91,
         36.09,
         4.0,
         2332319
        ],
        [
         1000025438,
         31.97,
         11.48,
         39.24,
         3.53,
         1782999
        ],
        [
         1000025439,
         32.15,
         10.05,
         37.18,
         3.54,
         1571969
        ],
        [
         1000025440,
         33.92,
         12.43,
         37.31,
         4.16,
         2263977
        ],
        [
         1000025441,
         33.2,
         11.97,
         36.83,
         3.55,
         1996561
        ],
        [
         1000025442,
         32.54,
         11.12,
         36.98,
         4.13,
         2042158
        ],
        [
         1000025443,
         34.08,
         8.67,
         35.91,
         2.25,
         1234111
        ],
        [
         1000025444,
         33.03,
         12.5,
         37.65,
         4.05,
         2246066
        ],
        [
         1000025445,
         31.27,
         12.13,
         35.46,
         3.07,
         1693882
        ],
        [
         1000025446,
         32.21,
         11.73,
         35.63,
         4.33,
         2052612
        ],
        [
         1000025447,
         33.5,
         11.95,
         36.49,
         3.94,
         2116778
        ],
        [
         1000025448,
         32.9,
         12.56,
         37.81,
         0.27,
         1257754
        ],
        [
         1000025449,
         32.2,
         12.48,
         37.68,
         3.28,
         1914337
        ],
        [
         1000025450,
         32.68,
         12.59,
         37.68,
         2.57,
         1778329
        ],
        [
         1000025451,
         33.0,
         10.95,
         37.65,
         3.83,
         1900062
        ],
        [
         1000025452,
         33.94,
         11.48,
         36.84,
         2.4,
         1746882
        ],
        [
         1000025453,
         33.55,
         11.12,
         36.81,
         4.03,
         2084781
        ],
        [
         1000025454,
         33.68,
         10.97,
         37.72,
         3.63,
         1912732
        ],
        [
         1000025455,
         32.64,
         11.59,
         36.32,
         3.19,
         1729925
        ],
        [
         1000025456,
         33.42,
         10.71,
         35.77,
         3.39,
         1753215
        ],
        [
         1000025457,
         32.77,
         11.08,
         34.78,
         2.57,
         1555762
        ],
        [
         1000025458,
         33.12,
         12.95,
         37.03,
         3.47,
         2139086
        ],
        [
         1000025459,
         35.37,
         10.57,
         36.86,
         4.2,
         2151663
        ],
        [
         1000025460,
         33.98,
         11.66,
         37.43,
         2.09,
         1631506
        ],
        [
         1000025461,
         34.03,
         13.59,
         36.84,
         3.61,
         2475384
        ],
        [
         1000025462,
         32.77,
         11.37,
         35.26,
         4.03,
         2011084
        ],
        [
         1000025463,
         33.5,
         11.23,
         37.21,
         2.32,
         1589682
        ],
        [
         1000025464,
         31.87,
         10.29,
         36.93,
         3.49,
         1569141
        ],
        [
         1000025465,
         32.53,
         14.12,
         38.41,
         5.32,
         2756943
        ],
        [
         1000025466,
         34.85,
         12.42,
         37.67,
         3.13,
         2172531
        ],
        [
         1000025467,
         34.21,
         10.77,
         34.65,
         4.99,
         2310944
        ],
        [
         1000025468,
         33.46,
         12.66,
         36.37,
         1.73,
         1746323
        ],
        [
         1000025469,
         34.2,
         12.67,
         37.49,
         3.7,
         2215979
        ],
        [
         1000025470,
         31.17,
         13.97,
         36.67,
         1.79,
         1709426
        ],
        [
         1000025471,
         32.52,
         11.51,
         36.6,
         3.02,
         1698915
        ],
        [
         1000025472,
         34.52,
         11.41,
         36.38,
         4.04,
         2164199
        ],
        [
         1000025473,
         33.67,
         12.26,
         38.86,
         3.14,
         1877533
        ],
        [
         1000025474,
         31.61,
         12.71,
         36.17,
         2.56,
         1778182
        ],
        [
         1000025475,
         33.7,
         13.47,
         37.07,
         2.38,
         1970227
        ],
        [
         1000025476,
         33.81,
         11.19,
         36.3,
         4.3,
         2141286
        ],
        [
         1000025477,
         34.34,
         11.25,
         38.68,
         2.09,
         1635833
        ],
        [
         1000025478,
         31.06,
         12.36,
         36.17,
         4.09,
         1950222
        ],
        [
         1000025479,
         33.07,
         11.76,
         36.88,
         3.52,
         1950585
        ],
        [
         1000025480,
         34.61,
         11.76,
         38.13,
         1.82,
         1608668
        ],
        [
         1000025481,
         34.24,
         11.55,
         35.77,
         4.18,
         2204092
        ],
        [
         1000025482,
         32.05,
         12.48,
         35.54,
         3.39,
         1989558
        ],
        [
         1000025483,
         30.97,
         11.73,
         36.07,
         4.43,
         1978554
        ],
        [
         1000025484,
         33.61,
         12.21,
         37.2,
         2.91,
         1916990
        ],
        [
         1000025485,
         33.45,
         11.9,
         36.87,
         2.78,
         1850626
        ],
        [
         1000025486,
         33.37,
         12.22,
         36.36,
         3.45,
         2062010
        ],
        [
         1000025487,
         33.45,
         12.01,
         36.53,
         4.71,
         2305910
        ],
        [
         1000025488,
         32.9,
         11.91,
         36.06,
         1.23,
         1431432
        ],
        [
         1000025489,
         35.63,
         12.13,
         38.19,
         4.02,
         2390960
        ],
        [
         1000025490,
         32.25,
         11.31,
         37.13,
         1.71,
         1309512
        ],
        [
         1000025491,
         34.7,
         11.61,
         37.68,
         3.16,
         2041606
        ],
        [
         1000025492,
         34.34,
         11.69,
         36.81,
         3.45,
         2042006
        ],
        [
         1000025493,
         33.68,
         11.2,
         37.84,
         2.21,
         1615278
        ],
        [
         1000025494,
         32.06,
         12.63,
         35.54,
         5.41,
         2510413
        ],
        [
         1000025495,
         33.43,
         13.35,
         37.97,
         2.77,
         2042647
        ],
        [
         1000025496,
         33.24,
         13.57,
         36.42,
         3.75,
         2295390
        ],
        [
         1000025497,
         34.7,
         11.7,
         37.19,
         3.58,
         2116196
        ],
        [
         1000025498,
         32.65,
         11.5,
         38.33,
         4.96,
         2206481
        ],
        [
         1000025499,
         33.32,
         12.39,
         36.84,
         2.34,
         1825878
        ],
        [
         1000025500,
         33.72,
         12.42,
         35.77,
         2.74,
         1991115
        ]
       ],
       "datasetInfos": [],
       "dbfsResultPath": null,
       "isJsonSchema": true,
       "metadata": {},
       "overflow": false,
       "plotOptions": {
        "customPlotOptions": {},
        "displayType": "table",
        "pivotAggregation": null,
        "pivotColumns": null,
        "xColumns": null,
        "yColumns": null
       },
       "removedWidgets": [],
       "schema": [
        {
         "metadata": "{}",
         "name": "Id_cliente",
         "type": "\"integer\""
        },
        {
         "metadata": "{}",
         "name": "min_promedio_sesion",
         "type": "\"double\""
        },
        {
         "metadata": "{}",
         "name": "min_en_app",
         "type": "\"double\""
        },
        {
         "metadata": "{}",
         "name": "min_en_web",
         "type": "\"double\""
        },
        {
         "metadata": "{}",
         "name": "anos_miembro",
         "type": "\"double\""
        },
        {
         "metadata": "{}",
         "name": "valor_compras_anuales_cop",
         "type": "\"integer\""
        }
       ],
       "type": "table"
      }
     },
     "output_type": "display_data"
    }
   ],
   "source": [
    "df = spark.read.format(\"csv\")\\\n",
    "     .option(\"header\", \"true\")\\\n",
    "     .option(\"inferSchema\", \"true\") \\\n",
    "     .option(\"delimiter\", \";\") \\\n",
    "     .load(\"wasbs://dataempresarial@storagedc1.blob.core.windows.net/Ecommerce01.csv\")\n",
    "df.display()"
   ]
  },
  {
   "cell_type": "code",
   "execution_count": 0,
   "metadata": {
    "application/vnd.databricks.v1+cell": {
     "cellMetadata": {
      "byteLimit": 2048000,
      "rowLimit": 10000
     },
     "inputWidgets": {},
     "nuid": "517fe946-8da0-440e-9dcd-ccf0f66baeab",
     "showTitle": false,
     "tableResultSettingsMap": {},
     "title": ""
    }
   },
   "outputs": [
    {
     "output_type": "stream",
     "name": "stdout",
     "output_type": "stream",
     "text": [
      "root\n |-- Id_cliente: integer (nullable = true)\n |-- min_promedio_sesion: double (nullable = true)\n |-- min_en_app: double (nullable = true)\n |-- min_en_web: double (nullable = true)\n |-- anos_miembro: double (nullable = true)\n |-- valor_compras_anuales_cop: integer (nullable = true)\n\n"
     ]
    }
   ],
   "source": [
    "df.printSchema()"
   ]
  },
  {
   "cell_type": "markdown",
   "metadata": {
    "application/vnd.databricks.v1+cell": {
     "cellMetadata": {},
     "inputWidgets": {},
     "nuid": "8edec08b-97f0-4c04-9797-b530c91c9aaf",
     "showTitle": false,
     "tableResultSettingsMap": {},
     "title": ""
    }
   },
   "source": [
    "**II. Entrenamiento del modelo de regresión múltiple, evaluación y seguimiento (tracking) con MLflow**"
   ]
  },
  {
   "cell_type": "code",
   "execution_count": 0,
   "metadata": {
    "application/vnd.databricks.v1+cell": {
     "cellMetadata": {
      "byteLimit": 2048000,
      "rowLimit": 10000
     },
     "inputWidgets": {},
     "nuid": "898b4bea-de13-4f77-a737-565841cc3454",
     "showTitle": false,
     "tableResultSettingsMap": {},
     "title": ""
    }
   },
   "outputs": [],
   "source": [
    "#Dividir la data en datos de entrenamiento y de prueba\n",
    "trainDF, testDF = df.randomSplit([0.8, 0.2], seed=42)"
   ]
  },
  {
   "cell_type": "code",
   "execution_count": 0,
   "metadata": {
    "application/vnd.databricks.v1+cell": {
     "cellMetadata": {
      "byteLimit": 2048000,
      "rowLimit": 10000
     },
     "inputWidgets": {},
     "nuid": "dd521509-58b3-4f0f-ba68-ed840f2a0b7c",
     "showTitle": false,
     "tableResultSettingsMap": {},
     "title": ""
    }
   },
   "outputs": [],
   "source": [
    "from pyspark.ml import Pipeline\n",
    "from pyspark.ml.feature import VectorAssembler\n",
    "from pyspark.ml.regression import LinearRegression\n",
    "\n",
    "#Crear el vector de caracterísicas que contiene las variables independientes\n",
    "featureCols = [\"anos_miembro\", \"min_promedio_sesion\", \"min_en_app\"]\n",
    "assembler = VectorAssembler(inputCols=featureCols, outputCol=\"features\")\n",
    "\n",
    "#Definir el modelo de regresión lineal\n",
    "lr = LinearRegression(featuresCol=\"features\", labelCol=\"valor_compras_anuales_cop\")\n",
    "\n",
    "#Pipeline\n",
    "pipeline = Pipeline(stages = [assembler, lr])"
   ]
  },
  {
   "cell_type": "code",
   "execution_count": 0,
   "metadata": {
    "application/vnd.databricks.v1+cell": {
     "cellMetadata": {
      "byteLimit": 2048000,
      "rowLimit": 10000
     },
     "inputWidgets": {},
     "nuid": "c63c498b-9e49-4b07-9ca3-c107bd5ace36",
     "showTitle": false,
     "tableResultSettingsMap": {},
     "title": ""
    }
   },
   "outputs": [],
   "source": [
    "from pyspark.ml.tuning import ParamGridBuilder\n",
    "\n",
    "#Grid de hiperparámetros\n",
    "paramGrid = (ParamGridBuilder()\n",
    "  .addGrid(lr.maxIter, [1, 10, 100]) #numero de iteraciones\n",
    "  .addGrid(lr.fitIntercept, [True, False]) #con o sin intercepto  \n",
    "  .addGrid(lr.standardization, [True, False]) #con o sin estandariación de variables\n",
    "  .build()\n",
    ")"
   ]
  },
  {
   "cell_type": "code",
   "execution_count": 0,
   "metadata": {
    "application/vnd.databricks.v1+cell": {
     "cellMetadata": {
      "byteLimit": 2048000,
      "rowLimit": 10000
     },
     "inputWidgets": {},
     "nuid": "bb3ad69a-7168-428f-af56-8eaf033e3409",
     "showTitle": false,
     "tableResultSettingsMap": {},
     "title": ""
    }
   },
   "outputs": [],
   "source": [
    "from pyspark.ml.evaluation import RegressionEvaluator\n",
    "from pyspark.ml.tuning import CrossValidator\n",
    "\n",
    "#Evaluador\n",
    "evaluator = RegressionEvaluator(\n",
    "  labelCol = \"valor_compras_anuales_cop\",\n",
    "  predictionCol = \"prediction\"\n",
    ")\n",
    "\n",
    "#Validación cruzada\n",
    "cv = CrossValidator(\n",
    "  estimator = pipeline,             \n",
    "  estimatorParamMaps = paramGrid,   \n",
    "  evaluator=evaluator,              \n",
    "  numFolds = 3,                     \n",
    "  seed = 42                         \n",
    ")"
   ]
  },
  {
   "cell_type": "code",
   "execution_count": 0,
   "metadata": {
    "application/vnd.databricks.v1+cell": {
     "cellMetadata": {
      "byteLimit": 2048000,
      "rowLimit": 10000
     },
     "inputWidgets": {},
     "nuid": "f2da96a9-09f0-4a4c-93b7-baf40dc72aa4",
     "showTitle": false,
     "tableResultSettingsMap": {},
     "title": ""
    }
   },
   "outputs": [
    {
     "output_type": "stream",
     "name": "stderr",
     "output_type": "stream",
     "text": [
      "/databricks/python/lib/python3.11/site-packages/mlflow/types/utils.py:394: UserWarning: Hint: Inferred schema contains integer column(s). Integer columns in Python cannot represent missing values. If your input data contains missing values at inference time, it will be encoded as floats and will cause a schema enforcement error. The best way to avoid this problem is to infer the model schema based on a realistic data sample (training dataset) that includes missing values. Alternatively, you can declare integer columns as doubles (float64) whenever these columns may have missing values. See `Handling Integers With Missing Values <https://www.mlflow.org/docs/latest/models.html#handling-integers-with-missing-values>`_ for more details.\n  warnings.warn(\n2025/07/10 20:21:08 INFO mlflow.spark: Inferring pip requirements by reloading the logged model from the databricks artifact repository, which can be time-consuming. To speed up, explicitly specify the conda_env or pip_requirements when calling log_model().\n"
     ]
    },
    {
     "output_type": "display_data",
     "data": {
      "application/vnd.jupyter.widget-view+json": {
       "model_id": "b4da7426d5a34d0ebfc5b32781d298f3",
       "version_major": 2,
       "version_minor": 0
      },
      "text/plain": [
       "Downloading artifacts:   0%|          | 0/20 [00:00<?, ?it/s]"
      ]
     },
     "metadata": {},
     "output_type": "display_data"
    },
    {
     "output_type": "stream",
     "name": "stderr",
     "output_type": "stream",
     "text": [
      "2025/07/10 20:21:32 WARNING mlflow.utils.environment: Encountered an unexpected error while inferring pip requirements (model URI: dbfs:/databricks/mlflow-tracking/1032021877304985/9b38ab83863f4a97b1d0ecafdd2934fc/artifacts/lrmodel_ecommerce/sparkml, flavor: spark). Fall back to return ['pyspark==3.5.0']. Set logging level to DEBUG to see the full traceback. \n/databricks/python/lib/python3.11/site-packages/_distutils_hack/__init__.py:33: UserWarning: Setuptools is replacing distutils.\n  warnings.warn(\"Setuptools is replacing distutils.\")\n"
     ]
    },
    {
     "output_type": "display_data",
     "data": {
      "application/vnd.jupyter.widget-view+json": {
       "model_id": "514e10485c0845bd92655c8725fe7f7a",
       "version_major": 2,
       "version_minor": 0
      },
      "text/plain": [
       "Uploading artifacts:   0%|          | 0/5 [00:00<?, ?it/s]"
      ]
     },
     "metadata": {},
     "output_type": "display_data"
    },
    {
     "output_type": "stream",
     "name": "stderr",
     "output_type": "stream",
     "text": [
      "Registered model 'modelo_regresion_ecommerce' already exists. Creating a new version of this model...\n"
     ]
    },
    {
     "output_type": "display_data",
     "data": {
      "application/vnd.jupyter.widget-view+json": {
       "model_id": "802932edaf9848078747e7cbbe107dc1",
       "version_major": 2,
       "version_minor": 0
      },
      "text/plain": [
       "Downloading artifacts:   0%|          | 0/25 [00:00<?, ?it/s]"
      ]
     },
     "metadata": {},
     "output_type": "display_data"
    },
    {
     "output_type": "display_data",
     "data": {
      "application/vnd.jupyter.widget-view+json": {
       "model_id": "6117bfd3d7dd41298d6be18d2a5caa69",
       "version_major": 2,
       "version_minor": 0
      },
      "text/plain": [
       "Uploading artifacts:   0%|          | 0/25 [00:00<?, ?it/s]"
      ]
     },
     "metadata": {},
     "output_type": "display_data"
    },
    {
     "output_type": "stream",
     "name": "stderr",
     "output_type": "stream",
     "text": [
      "Created version '1' of model 'databricks_dc_diana.default.modelo_regresion_ecommerce'.\n"
     ]
    }
   ],
   "source": [
    "import mlflow         #MLflow para el tracking de experimentos.\n",
    "import mlflow.spark   #registrar modelo Spark directamente (como PipelineModel, LinearRegressionModel, etc.).\n",
    "from mlflow.models.signature import infer_signature\n",
    "\n",
    "# Finalizar ejecución anterior si existe\n",
    "if mlflow.active_run():\n",
    "    mlflow.end_run()\n",
    "\n",
    "mlflow.set_experiment(f\"/Users/diseno360.com@outlook.com/mrecommerce-mlflow\") #en que experimento guardar ejecución.\n",
    "\n",
    "with mlflow.start_run(run_name=\"LR-ecommerce\") as run: #inicia una nueva ejecución de mlflow con nombre LR-ecommerce\n",
    "    \n",
    "    # Entrenar con CrossValidator\n",
    "    cvModel = cv.fit(trainDF)\n",
    "\n",
    "    # Obtener mejor modelo\n",
    "    best_Model = cvModel.bestModel #mejor modelo completo (pipeline) que fue entrenado durante la validación cruzada.\n",
    "    lrModel = best_Model.stages[-1]  #accede directamente a la última etapa del pipeline, en este caso el modelo  \n",
    "                                     #LinearRegression. se usa para acceder a los coeficientes, intercepto o #hiperparámetros\n",
    "    # Registro de parámetros\n",
    "    mlflow.log_param(\"label\", \"valor_compras_anuales_cop\")\n",
    "    mlflow.log_param(\"features\", \"anos_miembro, min_promedio_sesion, min_en_app\")\n",
    "    mlflow.log_param(\"model_type\", \"LinearRegression\")\n",
    "\n",
    "    # Lista de hiperparámetros que se desean registrar\n",
    "    params_interes = {\"fitIntercept\", \"maxIter\", \"standardization\"}\n",
    "\n",
    "    for param, value in lrModel.extractParamMap().items():\n",
    "        name = param.name\n",
    "        if name in params_interes:\n",
    "            mlflow.log_param(name, value)\n",
    "\n",
    "    # Registrar intercepto\n",
    "    mlflow.log_param(\"intercept\", lrModel.intercept)\n",
    "    \n",
    "    # Registrar coeficientes como string\n",
    "    coef_str = \", \".join([f\"{v:.6f}\" for v in lrModel.coefficients])\n",
    "    mlflow.log_param(\"coefficients\", coef_str)\n",
    "\n",
    "\n",
    "    # Firma del modelo\n",
    "    sample_input_pdf = trainDF.limit(20).toPandas()\n",
    "    sample_output_pdf = best_Model.transform(trainDF.limit(20)).select(\"prediction\").toPandas()\n",
    "    signature = infer_signature(sample_input_pdf, sample_output_pdf)\n",
    "    \n",
    "   \n",
    "    #Registrar el modelo con firma y ejemplo, para desplegarlo como API REST\n",
    "    mlflow.spark.log_model(\n",
    "        spark_model=best_Model,\n",
    "        artifact_path=\"lrmodel_ecommerce\",\n",
    "        registered_model_name=\"modelo_regresion_ecommerce\",\n",
    "        signature=signature,\n",
    "        input_example=sample_input_pdf\n",
    "    )\n",
    "\n",
    "    # Predecir y evaluar\n",
    "    predictions = best_Model.transform(testDF) #Aplica el pipeline completo al conjunto de prueba.\n",
    "    regressionEvaluator = RegressionEvaluator(predictionCol=\"prediction\", labelCol=\"valor_compras_anuales_cop\")\n",
    "    mse = regressionEvaluator.setMetricName(\"mse\").evaluate(predictions)\n",
    "    rmse = regressionEvaluator.setMetricName(\"rmse\").evaluate(predictions)\n",
    "    r2 = regressionEvaluator.setMetricName(\"r2\").evaluate(predictions)\n",
    "\n",
    "    # Metricas\n",
    "    mlflow.log_metric(\"mse\", mse) #registra la métrica error cuadrático medio\n",
    "    mlflow.log_metric(\"rmse\", rmse) #registra la métrica la raíz del error cuadrático medio\n",
    "    mlflow.log_metric(\"r2\", r2) #registra la métrica R² (coeficiente de determinación)"
   ]
  },
  {
   "cell_type": "markdown",
   "metadata": {
    "application/vnd.databricks.v1+cell": {
     "cellMetadata": {},
     "inputWidgets": {},
     "nuid": "1a359807-87da-4c00-8d24-82f04e28ba38",
     "showTitle": false,
     "tableResultSettingsMap": {},
     "title": ""
    }
   },
   "source": [
    "Consulta de ejecuciones del experimento"
   ]
  },
  {
   "cell_type": "code",
   "execution_count": 0,
   "metadata": {
    "application/vnd.databricks.v1+cell": {
     "cellMetadata": {
      "byteLimit": 2048000,
      "rowLimit": 10000
     },
     "inputWidgets": {},
     "nuid": "5fbeb5a3-85a9-4d46-ba1d-6a6e7f5ea59b",
     "showTitle": false,
     "tableResultSettingsMap": {},
     "title": ""
    }
   },
   "outputs": [],
   "source": [
    "from mlflow.tracking import MlflowClient\n",
    "\n",
    "client = MlflowClient()"
   ]
  },
  {
   "cell_type": "code",
   "execution_count": 0,
   "metadata": {
    "application/vnd.databricks.v1+cell": {
     "cellMetadata": {
      "byteLimit": 2048000,
      "rowLimit": 10000
     },
     "inputWidgets": {},
     "nuid": "bc5698ac-b8fd-4517-8af0-de338990dc7d",
     "showTitle": false,
     "tableResultSettingsMap": {},
     "title": ""
    }
   },
   "outputs": [
    {
     "output_type": "execute_result",
     "data": {
      "text/plain": [
       "[<Experiment: artifact_location='dbfs:/databricks/mlflow-tracking/1032021877304985', creation_time=1752017421539, experiment_id='1032021877304985', last_update_time=1752178838366, lifecycle_stage='active', name='/Users/diseno360.com@outlook.com/mrecommerce-mlflow', tags={'mlflow.experiment.sourceName': '/Users/diseno360.com@outlook.com/mrecommerce-mlflow',\n",
       "  'mlflow.experimentKind': 'custom_model_development',\n",
       "  'mlflow.experimentType': 'MLFLOW_EXPERIMENT',\n",
       "  'mlflow.ownerEmail': 'diseno360.com@outlook.com',\n",
       "  'mlflow.ownerId': '993783110248991'}>]"
      ]
     },
     "execution_count": 10,
     "metadata": {},
     "output_type": "execute_result"
    }
   ],
   "source": [
    "#Datos generales del experimento como su localización, id, datos del propietario.\n",
    "client.search_experiments()"
   ]
  },
  {
   "cell_type": "code",
   "execution_count": 0,
   "metadata": {
    "application/vnd.databricks.v1+cell": {
     "cellMetadata": {
      "byteLimit": 2048000,
      "rowLimit": 10000
     },
     "inputWidgets": {},
     "nuid": "53af8648-70e3-4eb9-839d-83757368be00",
     "showTitle": false,
     "tableResultSettingsMap": {},
     "title": ""
    }
   },
   "outputs": [
    {
     "output_type": "display_data",
     "data": {
      "text/html": [
       "<style scoped>\n",
       "  .table-result-container {\n",
       "    max-height: 300px;\n",
       "    overflow: auto;\n",
       "  }\n",
       "  table, th, td {\n",
       "    border: 1px solid black;\n",
       "    border-collapse: collapse;\n",
       "  }\n",
       "  th, td {\n",
       "    padding: 5px;\n",
       "  }\n",
       "  th {\n",
       "    text-align: left;\n",
       "  }\n",
       "</style><div class='table-result-container'><table class='table-result'><thead style='background-color: white'><tr><th>run_id</th><th>experiment_id</th><th>status</th><th>artifact_uri</th><th>start_time</th><th>end_time</th><th>metrics.r2</th><th>metrics.rmse</th><th>metrics.mse</th><th>params.coefficients</th><th>params.fitIntercept</th><th>params.features</th><th>params.maxIter</th><th>params.model_type</th><th>params.label</th><th>params.intercept</th><th>params.standardization</th><th>tags.mlflow.databricks.cluster.info</th><th>tags.mlflow.source.name</th><th>tags.mlflow.user</th><th>tags.mlflow.runName</th><th>tags.mlflow.runColor</th><th>tags.mlflow.databricks.notebook.commandID</th><th>tags.mlflow.databricks.workspaceURL</th><th>tags.mlflow.databricks.notebookRevisionID</th><th>tags.sparkDatasourceInfo</th><th>tags.mlflow.log-model.history</th><th>tags.mlflow.databricks.cluster.libraries</th><th>tags.mlflow.databricks.cluster.id</th><th>tags.mlflow.databricks.notebookID</th><th>tags.mlflow.databricks.notebookPath</th><th>tags.mlflow.databricks.workspaceID</th><th>tags.mlflow.databricks.webappURL</th><th>tags.mlflow.source.type</th></tr></thead><tbody><tr><td>9b38ab83863f4a97b1d0ecafdd2934fc</td><td>1032021877304985</td><td>FINISHED</td><td>dbfs:/databricks/mlflow-tracking/1032021877304985/9b38ab83863f4a97b1d0ecafdd2934fc/artifacts</td><td>2025-07-10T20:20:38.366Z</td><td>2025-07-10T20:21:39.986Z</td><td>0.9849821343285992</td><td>39415.907132078806</td><td>1.5536137350446608E9</td><td>244869.514915, 103504.062769, 154945.782813</td><td>True</td><td>anos_miembro, min_promedio_sesion, min_en_app</td><td>1</td><td>LinearRegression</td><td>valor_compras_anuales_cop</td><td>-4155482.040576044</td><td>True</td><td>{\"cluster_name\":\"Cluster_ml\",\"spark_version\":\"15.4.x-scala2.12\",\"node_type_id\":\"Standard_D4ds_v5\",\"driver_node_type_id\":\"Standard_D4ds_v5\",\"autotermination_minutes\":120,\"disk_spec\":{},\"num_workers\":0}</td><td>/Users/diseno360.com@outlook.com/ml_Ecommerce</td><td>diseno360.com@outlook.com</td><td>LR-ecommerce</td><td>#7d54b2</td><td>1752178229566_6027425010260375499_3958ccaaffdc431b9d2d9d1ee12ca45e</td><td>adb-747824624093415.15.azuredatabricks.net</td><td>1752178900186</td><td>path=wasbs:REDACTED_LOCAL_PART@storagedc1.blob.core.windows.net/Ecommerce01.csv,format=csv</td><td>[{\"artifact_path\":\"lrmodel_ecommerce\",\"flavors\":{\"spark\":{\"pyspark_version\":\"3.5.0\",\"model_data\":\"sparkml\",\"code\":null,\"model_class\":\"pyspark.ml.pipeline.PipelineModel\"},\"python_function\":{\"loader_module\":\"mlflow.spark\",\"python_version\":\"3.11.11\",\"data\":\"sparkml\",\"env\":{\"conda\":\"conda.yaml\",\"virtualenv\":\"python_env.yaml\"}}},\"utc_time_created\":\"2025-07-10 20:21:08.706675\"}]</td><td>{\"installable\":[],\"redacted\":[]}</td><td>0707-151051-ckdive9m</td><td>4225194139691762</td><td>/Users/diseno360.com@outlook.com/ml_Ecommerce</td><td>747824624093415</td><td>https://centralus-c2.azuredatabricks.net</td><td>NOTEBOOK</td></tr><tr><td>a69f797e0e0448f5962eb22167edc5d1</td><td>1032021877304985</td><td>FINISHED</td><td>dbfs:/databricks/mlflow-tracking/1032021877304985/a69f797e0e0448f5962eb22167edc5d1/artifacts</td><td>2025-07-10T16:42:36.202Z</td><td>2025-07-10T16:43:39.066Z</td><td>0.9849821343285992</td><td>39415.907132078806</td><td>1.5536137350446608E9</td><td>244869.514915, 103504.062769, 154945.782813</td><td>True</td><td>anos_miembro, min_promedio_sesion, min_en_app</td><td>1</td><td>LinearRegression</td><td>valor_compras_anuales_cop</td><td>-4155482.040576044</td><td>True</td><td>{\"cluster_name\":\"Cluster_ml\",\"spark_version\":\"15.4.x-scala2.12\",\"node_type_id\":\"Standard_D4ds_v5\",\"driver_node_type_id\":\"Standard_D4ds_v5\",\"autotermination_minutes\":120,\"disk_spec\":{},\"num_workers\":0}</td><td>/Users/diseno360.com@outlook.com/ml_Ecommerce</td><td>diseno360.com@outlook.com</td><td>LR-ecommerce</td><td>#da4c4c</td><td>1752163226178_8777194128657631767_a2c7eaa6a0544b6fa296a539dac5a8ab</td><td>adb-747824624093415.15.azuredatabricks.net</td><td>1752165819287</td><td>path=wasbs:REDACTED_LOCAL_PART@storagedc1.blob.core.windows.net/Ecommerce01.csv,format=csv</td><td>[{\"artifact_path\":\"lrmodel_ecommerce\",\"flavors\":{\"spark\":{\"pyspark_version\":\"3.5.0\",\"model_data\":\"sparkml\",\"code\":null,\"model_class\":\"pyspark.ml.pipeline.PipelineModel\"},\"python_function\":{\"loader_module\":\"mlflow.spark\",\"python_version\":\"3.11.11\",\"data\":\"sparkml\",\"env\":{\"conda\":\"conda.yaml\",\"virtualenv\":\"python_env.yaml\"}}},\"utc_time_created\":\"2025-07-10 16:43:13.996082\"}]</td><td>{\"installable\":[],\"redacted\":[]}</td><td>0707-151051-ckdive9m</td><td>4225194139691762</td><td>/Users/diseno360.com@outlook.com/ml_Ecommerce</td><td>747824624093415</td><td>https://centralus-c2.azuredatabricks.net</td><td>NOTEBOOK</td></tr><tr><td>294c8bb8f1bb43688ab440ae1c2fd26b</td><td>1032021877304985</td><td>FINISHED</td><td>dbfs:/databricks/mlflow-tracking/1032021877304985/294c8bb8f1bb43688ab440ae1c2fd26b/artifacts</td><td>2025-07-09T23:27:58.243Z</td><td>2025-07-09T23:28:45.904Z</td><td>0.9849821343285992</td><td>39415.907132078806</td><td>1.5536137350446608E9</td><td>244869.514915, 103504.062769, 154945.782813</td><td>True</td><td>anos_miembro, min_promedio_sesion, min_en_app</td><td>1</td><td>LinearRegression</td><td>valor_compras_anuales_cop</td><td>-4155482.040576044</td><td>True</td><td>{\"cluster_name\":\"Cluster_ml\",\"spark_version\":\"15.4.x-scala2.12\",\"node_type_id\":\"Standard_D4ds_v5\",\"driver_node_type_id\":\"Standard_D4ds_v5\",\"autotermination_minutes\":120,\"disk_spec\":{},\"num_workers\":0}</td><td>/Users/diseno360.com@outlook.com/ml_Ecommerce</td><td>diseno360.com@outlook.com</td><td>LR-ecommerce</td><td>#5387dd</td><td>1752093593291_9115720827235219962_6ee0d7eeffb34b40b6cd42a733d83e02</td><td>adb-747824624093415.15.azuredatabricks.net</td><td>1752103726102</td><td>path=wasbs:REDACTED_LOCAL_PART@storagedc1.blob.core.windows.net/Ecommerce01.csv,format=csv</td><td>[{\"artifact_path\":\"lrmodel_ecommerce\",\"flavors\":{\"spark\":{\"pyspark_version\":\"3.5.0\",\"model_data\":\"sparkml\",\"code\":null,\"model_class\":\"pyspark.ml.pipeline.PipelineModel\"},\"python_function\":{\"loader_module\":\"mlflow.spark\",\"python_version\":\"3.11.11\",\"data\":\"sparkml\",\"env\":{\"conda\":\"conda.yaml\",\"virtualenv\":\"python_env.yaml\"}}},\"utc_time_created\":\"2025-07-09 23:28:22.327064\"}]</td><td>{\"installable\":[],\"redacted\":[]}</td><td>0707-151051-ckdive9m</td><td>4225194139691762</td><td>/Users/diseno360.com@outlook.com/ml_Ecommerce</td><td>747824624093415</td><td>https://centralus-c2.azuredatabricks.net</td><td>NOTEBOOK</td></tr></tbody></table></div>"
      ]
     },
     "metadata": {
      "application/vnd.databricks.v1+output": {
       "addedWidgets": {},
       "aggData": [],
       "aggError": "",
       "aggOverflow": false,
       "aggSchema": [],
       "aggSeriesLimitReached": false,
       "aggType": "",
       "arguments": {},
       "columnCustomDisplayInfos": {},
       "data": [
        [
         "9b38ab83863f4a97b1d0ecafdd2934fc",
         "1032021877304985",
         "FINISHED",
         "dbfs:/databricks/mlflow-tracking/1032021877304985/9b38ab83863f4a97b1d0ecafdd2934fc/artifacts",
         "2025-07-10T20:20:38.366Z",
         "2025-07-10T20:21:39.986Z",
         0.9849821343285992,
         39415.907132078806,
         1.5536137350446608E9,
         "244869.514915, 103504.062769, 154945.782813",
         "True",
         "anos_miembro, min_promedio_sesion, min_en_app",
         "1",
         "LinearRegression",
         "valor_compras_anuales_cop",
         "-4155482.040576044",
         "True",
         "{\"cluster_name\":\"Cluster_ml\",\"spark_version\":\"15.4.x-scala2.12\",\"node_type_id\":\"Standard_D4ds_v5\",\"driver_node_type_id\":\"Standard_D4ds_v5\",\"autotermination_minutes\":120,\"disk_spec\":{},\"num_workers\":0}",
         "/Users/diseno360.com@outlook.com/ml_Ecommerce",
         "diseno360.com@outlook.com",
         "LR-ecommerce",
         "#7d54b2",
         "1752178229566_6027425010260375499_3958ccaaffdc431b9d2d9d1ee12ca45e",
         "adb-747824624093415.15.azuredatabricks.net",
         "1752178900186",
         "path=wasbs:REDACTED_LOCAL_PART@storagedc1.blob.core.windows.net/Ecommerce01.csv,format=csv",
         "[{\"artifact_path\":\"lrmodel_ecommerce\",\"flavors\":{\"spark\":{\"pyspark_version\":\"3.5.0\",\"model_data\":\"sparkml\",\"code\":null,\"model_class\":\"pyspark.ml.pipeline.PipelineModel\"},\"python_function\":{\"loader_module\":\"mlflow.spark\",\"python_version\":\"3.11.11\",\"data\":\"sparkml\",\"env\":{\"conda\":\"conda.yaml\",\"virtualenv\":\"python_env.yaml\"}}},\"utc_time_created\":\"2025-07-10 20:21:08.706675\"}]",
         "{\"installable\":[],\"redacted\":[]}",
         "0707-151051-ckdive9m",
         "4225194139691762",
         "/Users/diseno360.com@outlook.com/ml_Ecommerce",
         "747824624093415",
         "https://centralus-c2.azuredatabricks.net",
         "NOTEBOOK"
        ],
        [
         "a69f797e0e0448f5962eb22167edc5d1",
         "1032021877304985",
         "FINISHED",
         "dbfs:/databricks/mlflow-tracking/1032021877304985/a69f797e0e0448f5962eb22167edc5d1/artifacts",
         "2025-07-10T16:42:36.202Z",
         "2025-07-10T16:43:39.066Z",
         0.9849821343285992,
         39415.907132078806,
         1.5536137350446608E9,
         "244869.514915, 103504.062769, 154945.782813",
         "True",
         "anos_miembro, min_promedio_sesion, min_en_app",
         "1",
         "LinearRegression",
         "valor_compras_anuales_cop",
         "-4155482.040576044",
         "True",
         "{\"cluster_name\":\"Cluster_ml\",\"spark_version\":\"15.4.x-scala2.12\",\"node_type_id\":\"Standard_D4ds_v5\",\"driver_node_type_id\":\"Standard_D4ds_v5\",\"autotermination_minutes\":120,\"disk_spec\":{},\"num_workers\":0}",
         "/Users/diseno360.com@outlook.com/ml_Ecommerce",
         "diseno360.com@outlook.com",
         "LR-ecommerce",
         "#da4c4c",
         "1752163226178_8777194128657631767_a2c7eaa6a0544b6fa296a539dac5a8ab",
         "adb-747824624093415.15.azuredatabricks.net",
         "1752165819287",
         "path=wasbs:REDACTED_LOCAL_PART@storagedc1.blob.core.windows.net/Ecommerce01.csv,format=csv",
         "[{\"artifact_path\":\"lrmodel_ecommerce\",\"flavors\":{\"spark\":{\"pyspark_version\":\"3.5.0\",\"model_data\":\"sparkml\",\"code\":null,\"model_class\":\"pyspark.ml.pipeline.PipelineModel\"},\"python_function\":{\"loader_module\":\"mlflow.spark\",\"python_version\":\"3.11.11\",\"data\":\"sparkml\",\"env\":{\"conda\":\"conda.yaml\",\"virtualenv\":\"python_env.yaml\"}}},\"utc_time_created\":\"2025-07-10 16:43:13.996082\"}]",
         "{\"installable\":[],\"redacted\":[]}",
         "0707-151051-ckdive9m",
         "4225194139691762",
         "/Users/diseno360.com@outlook.com/ml_Ecommerce",
         "747824624093415",
         "https://centralus-c2.azuredatabricks.net",
         "NOTEBOOK"
        ],
        [
         "294c8bb8f1bb43688ab440ae1c2fd26b",
         "1032021877304985",
         "FINISHED",
         "dbfs:/databricks/mlflow-tracking/1032021877304985/294c8bb8f1bb43688ab440ae1c2fd26b/artifacts",
         "2025-07-09T23:27:58.243Z",
         "2025-07-09T23:28:45.904Z",
         0.9849821343285992,
         39415.907132078806,
         1.5536137350446608E9,
         "244869.514915, 103504.062769, 154945.782813",
         "True",
         "anos_miembro, min_promedio_sesion, min_en_app",
         "1",
         "LinearRegression",
         "valor_compras_anuales_cop",
         "-4155482.040576044",
         "True",
         "{\"cluster_name\":\"Cluster_ml\",\"spark_version\":\"15.4.x-scala2.12\",\"node_type_id\":\"Standard_D4ds_v5\",\"driver_node_type_id\":\"Standard_D4ds_v5\",\"autotermination_minutes\":120,\"disk_spec\":{},\"num_workers\":0}",
         "/Users/diseno360.com@outlook.com/ml_Ecommerce",
         "diseno360.com@outlook.com",
         "LR-ecommerce",
         "#5387dd",
         "1752093593291_9115720827235219962_6ee0d7eeffb34b40b6cd42a733d83e02",
         "adb-747824624093415.15.azuredatabricks.net",
         "1752103726102",
         "path=wasbs:REDACTED_LOCAL_PART@storagedc1.blob.core.windows.net/Ecommerce01.csv,format=csv",
         "[{\"artifact_path\":\"lrmodel_ecommerce\",\"flavors\":{\"spark\":{\"pyspark_version\":\"3.5.0\",\"model_data\":\"sparkml\",\"code\":null,\"model_class\":\"pyspark.ml.pipeline.PipelineModel\"},\"python_function\":{\"loader_module\":\"mlflow.spark\",\"python_version\":\"3.11.11\",\"data\":\"sparkml\",\"env\":{\"conda\":\"conda.yaml\",\"virtualenv\":\"python_env.yaml\"}}},\"utc_time_created\":\"2025-07-09 23:28:22.327064\"}]",
         "{\"installable\":[],\"redacted\":[]}",
         "0707-151051-ckdive9m",
         "4225194139691762",
         "/Users/diseno360.com@outlook.com/ml_Ecommerce",
         "747824624093415",
         "https://centralus-c2.azuredatabricks.net",
         "NOTEBOOK"
        ]
       ],
       "datasetInfos": [],
       "dbfsResultPath": null,
       "isJsonSchema": true,
       "metadata": {},
       "overflow": false,
       "plotOptions": {
        "customPlotOptions": {},
        "displayType": "table",
        "pivotAggregation": null,
        "pivotColumns": null,
        "xColumns": null,
        "yColumns": null
       },
       "removedWidgets": [],
       "schema": [
        {
         "metadata": "{}",
         "name": "run_id",
         "type": "\"string\""
        },
        {
         "metadata": "{}",
         "name": "experiment_id",
         "type": "\"string\""
        },
        {
         "metadata": "{}",
         "name": "status",
         "type": "\"string\""
        },
        {
         "metadata": "{}",
         "name": "artifact_uri",
         "type": "\"string\""
        },
        {
         "metadata": "{}",
         "name": "start_time",
         "type": "\"timestamp\""
        },
        {
         "metadata": "{}",
         "name": "end_time",
         "type": "\"timestamp\""
        },
        {
         "metadata": "{}",
         "name": "metrics.r2",
         "type": "\"double\""
        },
        {
         "metadata": "{}",
         "name": "metrics.rmse",
         "type": "\"double\""
        },
        {
         "metadata": "{}",
         "name": "metrics.mse",
         "type": "\"double\""
        },
        {
         "metadata": "{}",
         "name": "params.coefficients",
         "type": "\"string\""
        },
        {
         "metadata": "{}",
         "name": "params.fitIntercept",
         "type": "\"string\""
        },
        {
         "metadata": "{}",
         "name": "params.features",
         "type": "\"string\""
        },
        {
         "metadata": "{}",
         "name": "params.maxIter",
         "type": "\"string\""
        },
        {
         "metadata": "{}",
         "name": "params.model_type",
         "type": "\"string\""
        },
        {
         "metadata": "{}",
         "name": "params.label",
         "type": "\"string\""
        },
        {
         "metadata": "{}",
         "name": "params.intercept",
         "type": "\"string\""
        },
        {
         "metadata": "{}",
         "name": "params.standardization",
         "type": "\"string\""
        },
        {
         "metadata": "{}",
         "name": "tags.mlflow.databricks.cluster.info",
         "type": "\"string\""
        },
        {
         "metadata": "{}",
         "name": "tags.mlflow.source.name",
         "type": "\"string\""
        },
        {
         "metadata": "{}",
         "name": "tags.mlflow.user",
         "type": "\"string\""
        },
        {
         "metadata": "{}",
         "name": "tags.mlflow.runName",
         "type": "\"string\""
        },
        {
         "metadata": "{}",
         "name": "tags.mlflow.runColor",
         "type": "\"string\""
        },
        {
         "metadata": "{}",
         "name": "tags.mlflow.databricks.notebook.commandID",
         "type": "\"string\""
        },
        {
         "metadata": "{}",
         "name": "tags.mlflow.databricks.workspaceURL",
         "type": "\"string\""
        },
        {
         "metadata": "{}",
         "name": "tags.mlflow.databricks.notebookRevisionID",
         "type": "\"string\""
        },
        {
         "metadata": "{}",
         "name": "tags.sparkDatasourceInfo",
         "type": "\"string\""
        },
        {
         "metadata": "{}",
         "name": "tags.mlflow.log-model.history",
         "type": "\"string\""
        },
        {
         "metadata": "{}",
         "name": "tags.mlflow.databricks.cluster.libraries",
         "type": "\"string\""
        },
        {
         "metadata": "{}",
         "name": "tags.mlflow.databricks.cluster.id",
         "type": "\"string\""
        },
        {
         "metadata": "{}",
         "name": "tags.mlflow.databricks.notebookID",
         "type": "\"string\""
        },
        {
         "metadata": "{}",
         "name": "tags.mlflow.databricks.notebookPath",
         "type": "\"string\""
        },
        {
         "metadata": "{}",
         "name": "tags.mlflow.databricks.workspaceID",
         "type": "\"string\""
        },
        {
         "metadata": "{}",
         "name": "tags.mlflow.databricks.webappURL",
         "type": "\"string\""
        },
        {
         "metadata": "{}",
         "name": "tags.mlflow.source.type",
         "type": "\"string\""
        }
       ],
       "type": "table"
      }
     },
     "output_type": "display_data"
    }
   ],
   "source": [
    "#información sobre las ejecuciones (runs) del experimento\n",
    "experiment_id = run.info.experiment_id\n",
    "runs_df = mlflow.search_runs(experiment_id)\n",
    "\n",
    "display(runs_df)"
   ]
  },
  {
   "cell_type": "code",
   "execution_count": 0,
   "metadata": {
    "application/vnd.databricks.v1+cell": {
     "cellMetadata": {
      "byteLimit": 2048000,
      "rowLimit": 10000
     },
     "inputWidgets": {},
     "nuid": "ad4f4ffe-9dbf-487c-b373-78b4c4365c27",
     "showTitle": false,
     "tableResultSettingsMap": {},
     "title": ""
    }
   },
   "outputs": [
    {
     "output_type": "execute_result",
     "data": {
      "text/plain": [
       "{'r2': 0.9849821343285992,\n",
       " 'mse': 1553613735.0446608,\n",
       " 'rmse': 39415.907132078806}"
      ]
     },
     "execution_count": 13,
     "metadata": {},
     "output_type": "execute_result"
    }
   ],
   "source": [
    "#Obtener la última ejecución y ver las métricas.\n",
    "runs = client.search_runs(experiment_id, order_by=[\"attributes.start_time desc\"], max_results=1)\n",
    "runs[0].data.metrics"
   ]
  },
  {
   "cell_type": "markdown",
   "metadata": {
    "application/vnd.databricks.v1+cell": {
     "cellMetadata": {},
     "inputWidgets": {},
     "nuid": "0b472859-cf68-4629-a422-20c00733d615",
     "showTitle": false,
     "tableResultSettingsMap": {},
     "title": ""
    }
   },
   "source": [
    "La raíz del error cuadrático edio es de $39.415 pesos, por lo tanto, el error entre las predicciones y los valores reales del gasto anual del cliente en el e-commerce no es significativo, teniendo en cuenta que el gasto anual se en encuentra en el rango de 1 a 3 millones de pesos.\n",
    "\n",
    "Adicionalmente,  alrededor  del 98.49 por ciento de  la  variabilidad del gasto anual del cliente en el ecommerce, es explicada por los variables independientes o regresoras años de mebresía, tiempo de navegación en la app y el tiempo de exposición en general al sitio. "
   ]
  },
  {
   "cell_type": "code",
   "execution_count": 0,
   "metadata": {
    "application/vnd.databricks.v1+cell": {
     "cellMetadata": {
      "byteLimit": 2048000,
      "rowLimit": 10000
     },
     "inputWidgets": {},
     "nuid": "9b513e84-ee56-4ece-9339-2fbf940fd6cb",
     "showTitle": false,
     "tableResultSettingsMap": {},
     "title": ""
    }
   },
   "outputs": [
    {
     "output_type": "execute_result",
     "data": {
      "text/plain": [
       "'9b38ab83863f4a97b1d0ecafdd2934fc'"
      ]
     },
     "execution_count": 14,
     "metadata": {},
     "output_type": "execute_result"
    }
   ],
   "source": [
    "#run id de la ultima ejecución del experimento\n",
    "run_id = runs[0].info.run_id\n",
    "run_id "
   ]
  },
  {
   "cell_type": "markdown",
   "metadata": {
    "application/vnd.databricks.v1+cell": {
     "cellMetadata": {},
     "inputWidgets": {},
     "nuid": "42eec9a1-8d6e-4f6c-ba76-3c5b12c12ab8",
     "showTitle": false,
     "tableResultSettingsMap": {},
     "title": ""
    }
   },
   "source": [
    "Cargar el modelo guardado"
   ]
  },
  {
   "cell_type": "code",
   "execution_count": 0,
   "metadata": {
    "application/vnd.databricks.v1+cell": {
     "cellMetadata": {
      "byteLimit": 2048000,
      "rowLimit": 10000
     },
     "inputWidgets": {},
     "nuid": "66012ad7-66ca-4289-8249-9b606b3d664c",
     "showTitle": false,
     "tableResultSettingsMap": {},
     "title": ""
    }
   },
   "outputs": [
    {
     "output_type": "stream",
     "name": "stderr",
     "output_type": "stream",
     "text": [
      "2025/07/10 20:31:30 INFO mlflow.spark: 'runs:/9b38ab83863f4a97b1d0ecafdd2934fc/lrmodel_ecommerce' resolved as 'dbfs:/databricks/mlflow-tracking/1032021877304985/9b38ab83863f4a97b1d0ecafdd2934fc/artifacts/lrmodel_ecommerce'\n"
     ]
    },
    {
     "output_type": "display_data",
     "data": {
      "application/vnd.jupyter.widget-view+json": {
       "model_id": "a1065751593b44809d869f08b9ee6deb",
       "version_major": 2,
       "version_minor": 0
      },
      "text/plain": [
       "Downloading artifacts:   0%|          | 0/1 [00:00<?, ?it/s]"
      ]
     },
     "metadata": {},
     "output_type": "display_data"
    },
    {
     "output_type": "display_data",
     "data": {
      "application/vnd.jupyter.widget-view+json": {
       "model_id": "eaa394931609489096bb951ddf5cd863",
       "version_major": 2,
       "version_minor": 0
      },
      "text/plain": [
       "Downloading artifacts:   0%|          | 0/25 [00:00<?, ?it/s]"
      ]
     },
     "metadata": {},
     "output_type": "display_data"
    },
    {
     "output_type": "display_data",
     "data": {
      "text/html": [
       "<style scoped>\n",
       "  .table-result-container {\n",
       "    max-height: 300px;\n",
       "    overflow: auto;\n",
       "  }\n",
       "  table, th, td {\n",
       "    border: 1px solid black;\n",
       "    border-collapse: collapse;\n",
       "  }\n",
       "  th, td {\n",
       "    padding: 5px;\n",
       "  }\n",
       "  th {\n",
       "    text-align: left;\n",
       "  }\n",
       "</style><div class='table-result-container'><table class='table-result'><thead style='background-color: white'><tr><th>Id_cliente</th><th>min_promedio_sesion</th><th>min_en_app</th><th>min_en_web</th><th>anos_miembro</th><th>valor_compras_anuales_cop</th><th>features</th><th>prediction</th></tr></thead><tbody><tr><td>1000025009</td><td>33.99</td><td>13.39</td><td>37.53</td><td>3.27</td><td>2280802</td><td>Map(vectorType -> dense, length -> 3, values -> List(3.27, 33.99, 13.39))</td><td>2238068.3985620704</td></tr><tr><td>1000025012</td><td>33.88</td><td>11.58</td><td>37.09</td><td>3.71</td><td>2089350</td><td>Map(vectorType -> dense, length -> 3, values -> List(3.71, 33.88, 11.58))</td><td>2053973.671328885</td></tr><tr><td>1000025014</td><td>33.19</td><td>12.96</td><td>36.14</td><td>3.92</td><td>2293663</td><td>Map(vectorType -> dense, length -> 3, values -> List(3.92, 33.19, 12.96))</td><td>2247803.646432512</td></tr><tr><td>1000025022</td><td>33.5</td><td>12.88</td><td>37.44</td><td>1.56</td><td>1679755</td><td>Map(vectorType -> dense, length -> 3, values -> List(1.56, 33.5, 12.88))</td><td>1689602.188066212</td></tr><tr><td>1000025024</td><td>32.9</td><td>11.66</td><td>36.77</td><td>3.92</td><td>2077364</td><td>Map(vectorType -> dense, length -> 3, values -> List(3.92, 32.9, 11.66))</td><td>2016357.9505729289</td></tr><tr><td>1000025025</td><td>34.51</td><td>12.89</td><td>37.64</td><td>5.71</td><td>2803668</td><td>Map(vectorType -> dense, length -> 3, values -> List(5.71, 34.51, 12.89))</td><td>2811899.236187983</td></tr><tr><td>1000025026</td><td>33.03</td><td>11.77</td><td>37.74</td><td>2.72</td><td>1692720</td><td>Map(vectorType -> dense, length -> 3, values -> List(2.72, 33.03, 11.77))</td><td>1753014.0969441948</td></tr><tr><td>1000025028</td><td>32.34</td><td>13.01</td><td>37.85</td><td>3.0</td><td>1947356</td><td>Map(vectorType -> dense, length -> 3, values -> List(3.0, 32.34, 13.01))</td><td>1942292.5284980745</td></tr><tr><td>1000025031</td><td>33.24</td><td>12.31</td><td>36.16</td><td>3.06</td><td>1990347</td><td>Map(vectorType -> dense, length -> 3, values -> List(3.06, 33.24, 12.31))</td><td>1941676.3079156415</td></tr><tr><td>1000025035</td><td>32.82</td><td>11.63</td><td>35.37</td><td>4.12</td><td>2029767</td><td>Map(vectorType -> dense, length -> 3, values -> List(4.12, 32.82, 11.63))</td><td>2052403.1550500724</td></tr><tr><td>1000025041</td><td>32.07</td><td>11.73</td><td>37.53</td><td>4.67</td><td>2131007</td><td>Map(vectorType -> dense, length -> 3, values -> List(4.67, 32.07, 11.73))</td><td>2124947.919458248</td></tr><tr><td>1000025047</td><td>34.56</td><td>13.15</td><td>37.34</td><td>3.88</td><td>2375660</td><td>Map(vectorType -> dense, length -> 3, values -> List(3.88, 34.56, 13.15))</td><td>2409249.130563215</td></tr><tr><td>1000025048</td><td>32.73</td><td>12.99</td><td>36.46</td><td>4.11</td><td>2254691</td><td>Map(vectorType -> dense, length -> 3, values -> List(4.11, 32.73, 12.99))</td><td>2251365.3588772393</td></tr><tr><td>1000025051</td><td>33.26</td><td>13.86</td><td>37.78</td><td>5.98</td><td>2902339</td><td>Map(vectorType -> dense, length -> 3, values -> List(5.98, 33.26, 13.86))</td><td>2898931.3360828743</td></tr><tr><td>1000025055</td><td>34.39</td><td>12.65</td><td>38.47</td><td>2.87</td><td>2089617</td><td>Map(vectorType -> dense, length -> 3, values -> List(2.87, 34.39, 12.65))</td><td>2066862.3384219431</td></tr><tr><td>1000025063</td><td>32.23</td><td>13.73</td><td>38.0</td><td>4.8</td><td>2454397</td><td>Map(vectorType -> dense, length -> 3, values -> List(4.8, 32.23, 13.73))</td><td>2483233.1720658788</td></tr><tr><td>1000025068</td><td>32.81</td><td>11.84</td><td>36.38</td><td>3.44</td><td>1877243</td><td>Map(vectorType -> dense, length -> 3, values -> List(3.44, 32.81, 11.84))</td><td>1917395.458670855</td></tr><tr><td>1000025074</td><td>32.81</td><td>12.82</td><td>37.03</td><td>3.85</td><td>2139109</td><td>Map(vectorType -> dense, length -> 3, values -> List(3.85, 32.81, 12.82))</td><td>2169638.826942624</td></tr><tr><td>1000025082</td><td>34.59</td><td>10.95</td><td>35.88</td><td>3.16</td><td>1851591</td><td>Map(vectorType -> dense, length -> 3, values -> List(3.16, 34.59, 10.95))</td><td>1895167.4795191544</td></tr><tr><td>1000025083</td><td>33.5</td><td>13.9</td><td>37.06</td><td>4.13</td><td>2385721</td><td>Map(vectorType -> dense, length -> 3, values -> List(4.13, 33.5, 13.9))</td><td>2476961.5398669955</td></tr><tr><td>1000025086</td><td>31.81</td><td>11.63</td><td>36.18</td><td>5.11</td><td>2147088</td><td>Map(vectorType -> dense, length -> 3, values -> List(5.11, 31.81, 11.63))</td><td>2190284.87141977</td></tr><tr><td>1000025088</td><td>34.45</td><td>10.61</td><td>36.82</td><td>3.37</td><td>1894916</td><td>Map(vectorType -> dense, length -> 3, values -> List(3.37, 34.45, 10.61))</td><td>1879417.942707351</td></tr><tr><td>1000025094</td><td>33.71</td><td>13.66</td><td>37.72</td><td>1.36</td><td>1756299</td><td>Map(vectorType -> dense, length -> 3, values -> List(1.36, 33.71, 13.66))</td><td>1783221.8488586177</td></tr><tr><td>1000025111</td><td>31.85</td><td>12.15</td><td>37.33</td><td>3.36</td><td>1837140</td><td>Map(vectorType -> dense, length -> 3, values -> List(3.36, 31.85, 12.15))</td><td>1846475.189891864</td></tr><tr><td>1000025120</td><td>33.89</td><td>13.07</td><td>37.54</td><td>3.8</td><td>2285230</td><td>Map(vectorType -> dense, length -> 3, values -> List(3.8, 33.89, 13.07))</td><td>2307916.18469008</td></tr><tr><td>1000025126</td><td>31.58</td><td>12.58</td><td>37.09</td><td>4.53</td><td>2164906</td><td>Map(vectorType -> dense, length -> 3, values -> List(4.53, 31.58, 12.58))</td><td>2171653.1120044985</td></tr><tr><td>1000025142</td><td>31.85</td><td>12.42</td><td>35.98</td><td>3.25</td><td>1891969</td><td>Map(vectorType -> dense, length -> 3, values -> List(3.25, 31.85, 12.42))</td><td>1861374.90461068</td></tr><tr><td>1000025144</td><td>32.12</td><td>11.92</td><td>39.29</td><td>1.44</td><td>1400233</td><td>Map(vectorType -> dense, length -> 3, values -> List(1.44, 32.12, 11.92))</td><td>1368634.2881555152</td></tr><tr><td>1000025146</td><td>33.48</td><td>12.49</td><td>36.52</td><td>3.35</td><td>2023085</td><td>Map(vectorType -> dense, length -> 3, values -> List(3.35, 33.48, 12.49))</td><td>2065419.683211761</td></tr><tr><td>1000025157</td><td>32.29</td><td>12.44</td><td>37.33</td><td>5.08</td><td>2344623</td><td>Map(vectorType -> dense, length -> 3, values -> List(5.08, 32.29, 12.44))</td><td>2358126.8201796194</td></tr><tr><td>1000025165</td><td>33.15</td><td>11.8</td><td>37.66</td><td>4.52</td><td>2200190</td><td>Map(vectorType -> dense, length -> 3, values -> List(4.52, 33.15, 11.8))</td><td>2210848.0848078863</td></tr><tr><td>1000025167</td><td>33.63</td><td>12.04</td><td>38.92</td><td>2.87</td><td>1991248</td><td>Map(vectorType -> dense, length -> 3, values -> List(2.87, 33.63, 12.04))</td><td>1893682.3232020312</td></tr><tr><td>1000025171</td><td>33.43</td><td>10.64</td><td>37.58</td><td>2.93</td><td>1687867</td><td>Map(vectorType -> dense, length -> 3, values -> List(2.93, 33.43, 10.64))</td><td>1670749.5856052325</td></tr><tr><td>1000025181</td><td>32.23</td><td>11.08</td><td>37.96</td><td>4.72</td><td>2068661</td><td>Map(vectorType -> dense, length -> 3, values -> List(4.72, 32.23, 11.08))</td><td>2053037.286418606</td></tr><tr><td>1000025182</td><td>34.14</td><td>13.18</td><td>38.86</td><td>3.23</td><td>2230117</td><td>Map(vectorType -> dense, length -> 3, values -> List(3.23, 34.14, 13.18))</td><td>2211260.6129900455</td></tr><tr><td>1000025191</td><td>34.71</td><td>12.04</td><td>37.64</td><td>4.63</td><td>2449541</td><td>Map(vectorType -> dense, length -> 3, values -> List(4.63, 34.71, 12.04))</td><td>2436437.0572425076</td></tr><tr><td>1000025198</td><td>32.41</td><td>13.81</td><td>37.43</td><td>5.04</td><td>2651844</td><td>Map(vectorType -> dense, length -> 3, values -> List(5.04, 32.41, 13.81))</td><td>2573028.249568851</td></tr><tr><td>1000025203</td><td>31.53</td><td>11.34</td><td>37.04</td><td>3.81</td><td>1775863</td><td>Map(vectorType -> dense, length -> 3, values -> List(3.81, 31.53, 11.34))</td><td>1798039.0874392972</td></tr><tr><td>1000025209</td><td>32.9</td><td>10.54</td><td>35.53</td><td>3.09</td><td>1648052</td><td>Map(vectorType -> dense, length -> 3, values -> List(3.09, 32.9, 10.54))</td><td>1639576.9764430416</td></tr><tr><td>1000025213</td><td>33.3</td><td>12.38</td><td>38.76</td><td>3.84</td><td>2144524</td><td>Map(vectorType -> dense, length -> 3, values -> List(3.84, 33.3, 12.38))</td><td>2149730.978112388</td></tr><tr><td>1000025216</td><td>33.61</td><td>13.69</td><td>34.89</td><td>2.69</td><td>2116227</td><td>Map(vectorType -> dense, length -> 3, values -> List(2.69, 33.61, 13.69))</td><td>2103196.270903164</td></tr><tr><td>1000025218</td><td>32.12</td><td>11.44</td><td>36.22</td><td>4.85</td><td>2115734</td><td>Map(vectorType -> dense, length -> 3, values -> List(4.85, 32.12, 11.44))</td><td>2129265.3582656537</td></tr><tr><td>1000025223</td><td>34.33</td><td>11.11</td><td>38.59</td><td>3.89</td><td>2009639</td><td>Map(vectorType -> dense, length -> 3, values -> List(3.89, 34.33, 11.11))</td><td>2071802.4943373813</td></tr><tr><td>1000025224</td><td>34.81</td><td>12.11</td><td>36.29</td><td>4.39</td><td>2417339</td><td>Map(vectorType -> dense, length -> 3, values -> List(4.39, 34.81, 12.11))</td><td>2398864.984736647</td></tr><tr><td>1000025227</td><td>32.3</td><td>12.17</td><td>37.07</td><td>4.4</td><td>2188444</td><td>Map(vectorType -> dense, length -> 3, values -> List(4.4, 32.3, 12.17))</td><td>2150815.2293056003</td></tr><tr><td>1000025232</td><td>34.17</td><td>12.14</td><td>37.26</td><td>3.4</td><td>2050210</td><td>Map(vectorType -> dense, length -> 3, values -> List(3.4, 34.17, 12.14))</td><td>2094849.9382832893</td></tr><tr><td>1000025233</td><td>32.98</td><td>13.91</td><td>37.79</td><td>4.3</td><td>2521691</td><td>Map(vectorType -> dense, length -> 3, values -> List(4.3, 32.98, 13.91))</td><td>2466316.7025910546</td></tr><tr><td>1000025235</td><td>34.2</td><td>13.03</td><td>37.08</td><td>2.63</td><td>1972721</td><td>Map(vectorType -> dense, length -> 3, values -> List(2.63, 34.2, 13.03))</td><td>2047307.2803851995</td></tr><tr><td>1000025237</td><td>32.69</td><td>12.6</td><td>37.37</td><td>3.47</td><td>2007713</td><td>Map(vectorType -> dense, length -> 3, values -> List(3.47, 32.69, 12.6))</td><td>2030079.8515238552</td></tr><tr><td>1000025242</td><td>32.69</td><td>12.64</td><td>36.1</td><td>4.3</td><td>2285884</td><td>Map(vectorType -> dense, length -> 3, values -> List(4.3, 32.69, 12.64))</td><td>2239519.3802158586</td></tr><tr><td>1000025246</td><td>32.98</td><td>11.2</td><td>37.69</td><td>2.41</td><td>1636282</td><td>Map(vectorType -> dense, length -> 3, values -> List(2.41, 32.98, 11.2))</td><td>1583610.2479787762</td></tr><tr><td>1000025251</td><td>32.67</td><td>12.28</td><td>37.19</td><td>3.98</td><td>2094536</td><td>Map(vectorType -> dense, length -> 3, values -> List(3.98, 32.67, 12.28))</td><td>2103310.5723750456</td></tr><tr><td>1000025252</td><td>32.73</td><td>10.13</td><td>34.85</td><td>3.29</td><td>1575429</td><td>Map(vectorType -> dense, length -> 3, values -> List(3.29, 32.73, 10.13))</td><td>1607427.4178021331</td></tr><tr><td>1000025262</td><td>32.55</td><td>13.04</td><td>36.66</td><td>3.46</td><td>2056039</td><td>Map(vectorType -> dense, length -> 3, values -> List(3.46, 32.55, 13.04))</td><td>2081316.7320247698</td></tr><tr><td>1000025266</td><td>33.9</td><td>11.67</td><td>37.34</td><td>4.26</td><td>2269900</td><td>Map(vectorType -> dense, length -> 3, values -> List(4.26, 33.9, 11.67))</td><td>2204667.1062406874</td></tr><tr><td>1000025277</td><td>33.19</td><td>9.85</td><td>36.88</td><td>3.81</td><td>1693233</td><td>Map(vectorType -> dense, length -> 3, values -> List(3.81, 33.19, 9.85))</td><td>1738986.615243875</td></tr><tr><td>1000025285</td><td>31.31</td><td>11.68</td><td>38.72</td><td>3.59</td><td>1854366</td><td>Map(vectorType -> dense, length -> 3, values -> List(3.59, 31.31, 11.68))</td><td>1774078.4665052858</td></tr><tr><td>1000025288</td><td>33.91</td><td>12.91</td><td>39.07</td><td>1.48</td><td>1729888</td><td>Map(vectorType -> dense, length -> 3, values -> List(1.48, 33.91, 12.91))</td><td>1717097.6660924838</td></tr><tr><td>1000025290</td><td>34.39</td><td>12.81</td><td>38.55</td><td>1.81</td><td>1869711</td><td>Map(vectorType -> dense, length -> 3, values -> List(1.81, 34.39, 12.81))</td><td>1832091.9778620512</td></tr><tr><td>1000025293</td><td>33.37</td><td>11.14</td><td>35.95</td><td>5.45</td><td>2336873</td><td>Map(vectorType -> dense, length -> 3, values -> List(5.45, 33.37, 11.14))</td><td>2359083.4108314677</td></tr><tr><td>1000025300</td><td>30.49</td><td>11.56</td><td>35.98</td><td>1.48</td><td>1129885</td><td>Map(vectorType -> dense, length -> 3, values -> List(1.48, 30.49, 11.56))</td><td>1153936.9646268128</td></tr><tr><td>1000025302</td><td>33.03</td><td>13.19</td><td>38.07</td><td>2.9</td><td>1959632</td><td>Map(vectorType -> dense, length -> 3, values -> List(2.9, 33.03, 13.19))</td><td>2017113.6212231587</td></tr><tr><td>1000025303</td><td>32.98</td><td>13.39</td><td>37.81</td><td>3.57</td><td>2167889</td><td>Map(vectorType -> dense, length -> 3, values -> List(3.57, 32.98, 13.39))</td><td>2206990.1496403855</td></tr><tr><td>1000025309</td><td>32.64</td><td>12.64</td><td>36.52</td><td>5.23</td><td>2419365</td><td>Map(vectorType -> dense, length -> 3, values -> List(5.23, 32.64, 12.64))</td><td>2462072.825948427</td></tr><tr><td>1000025311</td><td>33.25</td><td>11.66</td><td>36.55</td><td>3.36</td><td>1918459</td><td>Map(vectorType -> dense, length -> 3, values -> List(3.36, 33.25, 11.66))</td><td>1915457.4441894828</td></tr><tr><td>1000025318</td><td>32.85</td><td>10.97</td><td>36.61</td><td>2.87</td><td>1619298</td><td>Map(vectorType -> dense, length -> 3, values -> List(2.87, 32.85, 10.97))</td><td>1647157.1666328344</td></tr><tr><td>1000025319</td><td>33.53</td><td>13.67</td><td>36.9</td><td>3.52</td><td>2259164</td><td>Map(vectorType -> dense, length -> 3, values -> List(3.52, 33.53, 13.67))</td><td>2295058.727604915</td></tr><tr><td>1000025326</td><td>33.79</td><td>13.04</td><td>36.31</td><td>2.02</td><td>1788751</td><td>Map(vectorType -> dense, length -> 3, values -> List(2.02, 33.79, 13.04))</td><td>1857049.6683800588</td></tr><tr><td>1000025331</td><td>30.57</td><td>11.35</td><td>37.09</td><td>4.08</td><td>1768258</td><td>Map(vectorType -> dense, length -> 3, values -> List(4.08, 30.57, 11.35))</td><td>1766339.4140367159</td></tr><tr><td>1000025336</td><td>32.13</td><td>11.61</td><td>39.25</td><td>3.35</td><td>1773767</td><td>Map(vectorType -> dense, length -> 3, values -> List(3.35, 32.13, 11.61))</td><td>1789336.9095989554</td></tr><tr><td>1000025341</td><td>31.82</td><td>14.29</td><td>36.77</td><td>2.96</td><td>2004490</td><td>Map(vectorType -> dense, length -> 3, values -> List(2.96, 31.82, 14.29))</td><td>2077006.2372623016</td></tr><tr><td>1000025346</td><td>33.89</td><td>10.61</td><td>37.98</td><td>3.54</td><td>1847164</td><td>Map(vectorType -> dense, length -> 3, values -> List(3.54, 33.89, 10.61))</td><td>1863083.4850925417</td></tr><tr><td>1000025352</td><td>32.19</td><td>11.39</td><td>38.2</td><td>4.81</td><td>2133586</td><td>Map(vectorType -> dense, length -> 3, values -> List(4.81, 32.19, 11.39))</td><td>2118968.572922206</td></tr><tr><td>1000025366</td><td>32.03</td><td>12.64</td><td>38.0</td><td>5.04</td><td>2377098</td><td>Map(vectorType -> dense, length -> 3, values -> List(5.04, 32.03, 12.64))</td><td>2352410.1398257758</td></tr><tr><td>1000025369</td><td>34.39</td><td>12.73</td><td>36.23</td><td>5.71</td><td>2835741</td><td>Map(vectorType -> dense, length -> 3, values -> List(5.71, 34.39, 12.73))</td><td>2774687.4234057046</td></tr><tr><td>1000025370</td><td>34.36</td><td>9.48</td><td>37.91</td><td>5.05</td><td>2127846</td><td>Map(vectorType -> dense, length -> 3, values -> List(5.05, 34.36, 9.48))</td><td>2106394.627536936</td></tr><tr><td>1000025383</td><td>33.59</td><td>9.95</td><td>37.35</td><td>3.22</td><td>1642412</td><td>Map(vectorType -> dense, length -> 3, values -> List(3.22, 33.59, 9.95))</td><td>1651409.804832688</td></tr><tr><td>1000025385</td><td>33.59</td><td>11.52</td><td>36.19</td><td>3.56</td><td>1898129</td><td>Map(vectorType -> dense, length -> 3, values -> List(3.56, 33.59, 11.52))</td><td>1977930.318919987</td></tr><tr><td>1000025389</td><td>33.59</td><td>10.94</td><td>36.17</td><td>2.78</td><td>1630169</td><td>Map(vectorType -> dense, length -> 3, values -> List(2.78, 33.59, 10.94))</td><td>1697063.543254794</td></tr><tr><td>1000025391</td><td>35.86</td><td>11.73</td><td>36.88</td><td>3.42</td><td>2186227</td><td>Map(vectorType -> dense, length -> 3, values -> List(3.42, 35.86, 11.73))</td><td>2211141.4237071057</td></tr><tr><td>1000025398</td><td>34.01</td><td>12.91</td><td>36.05</td><td>3.49</td><td>2190840</td><td>Map(vectorType -> dense, length -> 3, values -> List(3.49, 34.01, 12.91))</td><td>2219635.797348579</td></tr><tr><td>1000025399</td><td>34.14</td><td>11.57</td><td>38.92</td><td>4.08</td><td>2151301</td><td>Map(vectorType -> dense, length -> 3, values -> List(4.08, 34.14, 11.57))</td><td>2169936.990339137</td></tr><tr><td>1000025410</td><td>32.09</td><td>11.91</td><td>35.19</td><td>4.35</td><td>2048663</td><td>Map(vectorType -> dense, length -> 3, values -> List(4.35, 32.09, 11.91))</td><td>2076549.9968471178</td></tr><tr><td>1000025418</td><td>32.22</td><td>12.22</td><td>36.95</td><td>2.91</td><td>1753671</td><td>Map(vectorType -> dense, length -> 3, values -> List(2.91, 32.22, 12.22))</td><td>1785426.6162013435</td></tr><tr><td>1000025421</td><td>33.22</td><td>12.14</td><td>37.14</td><td>5.84</td><td>2655215</td><td>Map(vectorType -> dense, length -> 3, values -> List(5.84, 33.22, 12.14))</td><td>2594002.695045915</td></tr><tr><td>1000025429</td><td>31.86</td><td>14.04</td><td>37.02</td><td>3.74</td><td>2225193</td><td>Map(vectorType -> dense, length -> 3, values -> List(3.74, 31.86, 14.04))</td><td>2233408.175703565</td></tr><tr><td>1000025434</td><td>34.28</td><td>11.82</td><td>36.31</td><td>2.12</td><td>1736577</td><td>Map(vectorType -> dense, length -> 3, values -> List(2.12, 34.28, 11.82))</td><td>1743219.755596451</td></tr><tr><td>1000025443</td><td>34.08</td><td>8.67</td><td>35.91</td><td>2.25</td><td>1234111</td><td>Map(vectorType -> dense, length -> 3, values -> List(2.25, 34.08, 8.67))</td><td>1266272.764121207</td></tr><tr><td>1000025454</td><td>33.68</td><td>10.97</td><td>37.72</td><td>3.63</td><td>1912732</td><td>Map(vectorType -> dense, length -> 3, values -> List(3.63, 33.68, 10.97))</td><td>1919166.3700661366</td></tr><tr><td>1000025460</td><td>33.98</td><td>11.66</td><td>37.43</td><td>2.09</td><td>1631506</td><td>Map(vectorType -> dense, length -> 3, values -> List(2.09, 33.98, 11.66))</td><td>1680031.1260683876</td></tr><tr><td>1000025463</td><td>33.5</td><td>11.23</td><td>37.21</td><td>2.32</td><td>1589682</td><td>Map(vectorType -> dense, length -> 3, values -> List(2.32, 33.5, 11.23))</td><td>1620042.4777604346</td></tr><tr><td>1000025475</td><td>33.7</td><td>13.47</td><td>37.07</td><td>2.38</td><td>1970227</td><td>Map(vectorType -> dense, length -> 3, values -> List(2.38, 33.7, 13.47))</td><td>2002514.0147098382</td></tr></tbody></table></div>"
      ]
     },
     "metadata": {
      "application/vnd.databricks.v1+output": {
       "addedWidgets": {},
       "aggData": [],
       "aggError": "",
       "aggOverflow": false,
       "aggSchema": [],
       "aggSeriesLimitReached": false,
       "aggType": "",
       "arguments": {},
       "columnCustomDisplayInfos": {},
       "data": [
        [
         1000025009,
         33.99,
         13.39,
         37.53,
         3.27,
         2280802,
         {
          "length": 3,
          "values": [
           3.27,
           33.99,
           13.39
          ],
          "vectorType": "dense"
         },
         2238068.3985620704
        ],
        [
         1000025012,
         33.88,
         11.58,
         37.09,
         3.71,
         2089350,
         {
          "length": 3,
          "values": [
           3.71,
           33.88,
           11.58
          ],
          "vectorType": "dense"
         },
         2053973.671328885
        ],
        [
         1000025014,
         33.19,
         12.96,
         36.14,
         3.92,
         2293663,
         {
          "length": 3,
          "values": [
           3.92,
           33.19,
           12.96
          ],
          "vectorType": "dense"
         },
         2247803.646432512
        ],
        [
         1000025022,
         33.5,
         12.88,
         37.44,
         1.56,
         1679755,
         {
          "length": 3,
          "values": [
           1.56,
           33.5,
           12.88
          ],
          "vectorType": "dense"
         },
         1689602.188066212
        ],
        [
         1000025024,
         32.9,
         11.66,
         36.77,
         3.92,
         2077364,
         {
          "length": 3,
          "values": [
           3.92,
           32.9,
           11.66
          ],
          "vectorType": "dense"
         },
         2016357.9505729289
        ],
        [
         1000025025,
         34.51,
         12.89,
         37.64,
         5.71,
         2803668,
         {
          "length": 3,
          "values": [
           5.71,
           34.51,
           12.89
          ],
          "vectorType": "dense"
         },
         2811899.236187983
        ],
        [
         1000025026,
         33.03,
         11.77,
         37.74,
         2.72,
         1692720,
         {
          "length": 3,
          "values": [
           2.72,
           33.03,
           11.77
          ],
          "vectorType": "dense"
         },
         1753014.0969441948
        ],
        [
         1000025028,
         32.34,
         13.01,
         37.85,
         3.0,
         1947356,
         {
          "length": 3,
          "values": [
           3.0,
           32.34,
           13.01
          ],
          "vectorType": "dense"
         },
         1942292.5284980745
        ],
        [
         1000025031,
         33.24,
         12.31,
         36.16,
         3.06,
         1990347,
         {
          "length": 3,
          "values": [
           3.06,
           33.24,
           12.31
          ],
          "vectorType": "dense"
         },
         1941676.3079156415
        ],
        [
         1000025035,
         32.82,
         11.63,
         35.37,
         4.12,
         2029767,
         {
          "length": 3,
          "values": [
           4.12,
           32.82,
           11.63
          ],
          "vectorType": "dense"
         },
         2052403.1550500724
        ],
        [
         1000025041,
         32.07,
         11.73,
         37.53,
         4.67,
         2131007,
         {
          "length": 3,
          "values": [
           4.67,
           32.07,
           11.73
          ],
          "vectorType": "dense"
         },
         2124947.919458248
        ],
        [
         1000025047,
         34.56,
         13.15,
         37.34,
         3.88,
         2375660,
         {
          "length": 3,
          "values": [
           3.88,
           34.56,
           13.15
          ],
          "vectorType": "dense"
         },
         2409249.130563215
        ],
        [
         1000025048,
         32.73,
         12.99,
         36.46,
         4.11,
         2254691,
         {
          "length": 3,
          "values": [
           4.11,
           32.73,
           12.99
          ],
          "vectorType": "dense"
         },
         2251365.3588772393
        ],
        [
         1000025051,
         33.26,
         13.86,
         37.78,
         5.98,
         2902339,
         {
          "length": 3,
          "values": [
           5.98,
           33.26,
           13.86
          ],
          "vectorType": "dense"
         },
         2898931.3360828743
        ],
        [
         1000025055,
         34.39,
         12.65,
         38.47,
         2.87,
         2089617,
         {
          "length": 3,
          "values": [
           2.87,
           34.39,
           12.65
          ],
          "vectorType": "dense"
         },
         2066862.3384219431
        ],
        [
         1000025063,
         32.23,
         13.73,
         38.0,
         4.8,
         2454397,
         {
          "length": 3,
          "values": [
           4.8,
           32.23,
           13.73
          ],
          "vectorType": "dense"
         },
         2483233.1720658788
        ],
        [
         1000025068,
         32.81,
         11.84,
         36.38,
         3.44,
         1877243,
         {
          "length": 3,
          "values": [
           3.44,
           32.81,
           11.84
          ],
          "vectorType": "dense"
         },
         1917395.458670855
        ],
        [
         1000025074,
         32.81,
         12.82,
         37.03,
         3.85,
         2139109,
         {
          "length": 3,
          "values": [
           3.85,
           32.81,
           12.82
          ],
          "vectorType": "dense"
         },
         2169638.826942624
        ],
        [
         1000025082,
         34.59,
         10.95,
         35.88,
         3.16,
         1851591,
         {
          "length": 3,
          "values": [
           3.16,
           34.59,
           10.95
          ],
          "vectorType": "dense"
         },
         1895167.4795191544
        ],
        [
         1000025083,
         33.5,
         13.9,
         37.06,
         4.13,
         2385721,
         {
          "length": 3,
          "values": [
           4.13,
           33.5,
           13.9
          ],
          "vectorType": "dense"
         },
         2476961.5398669955
        ],
        [
         1000025086,
         31.81,
         11.63,
         36.18,
         5.11,
         2147088,
         {
          "length": 3,
          "values": [
           5.11,
           31.81,
           11.63
          ],
          "vectorType": "dense"
         },
         2190284.87141977
        ],
        [
         1000025088,
         34.45,
         10.61,
         36.82,
         3.37,
         1894916,
         {
          "length": 3,
          "values": [
           3.37,
           34.45,
           10.61
          ],
          "vectorType": "dense"
         },
         1879417.942707351
        ],
        [
         1000025094,
         33.71,
         13.66,
         37.72,
         1.36,
         1756299,
         {
          "length": 3,
          "values": [
           1.36,
           33.71,
           13.66
          ],
          "vectorType": "dense"
         },
         1783221.8488586177
        ],
        [
         1000025111,
         31.85,
         12.15,
         37.33,
         3.36,
         1837140,
         {
          "length": 3,
          "values": [
           3.36,
           31.85,
           12.15
          ],
          "vectorType": "dense"
         },
         1846475.189891864
        ],
        [
         1000025120,
         33.89,
         13.07,
         37.54,
         3.8,
         2285230,
         {
          "length": 3,
          "values": [
           3.8,
           33.89,
           13.07
          ],
          "vectorType": "dense"
         },
         2307916.18469008
        ],
        [
         1000025126,
         31.58,
         12.58,
         37.09,
         4.53,
         2164906,
         {
          "length": 3,
          "values": [
           4.53,
           31.58,
           12.58
          ],
          "vectorType": "dense"
         },
         2171653.1120044985
        ],
        [
         1000025142,
         31.85,
         12.42,
         35.98,
         3.25,
         1891969,
         {
          "length": 3,
          "values": [
           3.25,
           31.85,
           12.42
          ],
          "vectorType": "dense"
         },
         1861374.90461068
        ],
        [
         1000025144,
         32.12,
         11.92,
         39.29,
         1.44,
         1400233,
         {
          "length": 3,
          "values": [
           1.44,
           32.12,
           11.92
          ],
          "vectorType": "dense"
         },
         1368634.2881555152
        ],
        [
         1000025146,
         33.48,
         12.49,
         36.52,
         3.35,
         2023085,
         {
          "length": 3,
          "values": [
           3.35,
           33.48,
           12.49
          ],
          "vectorType": "dense"
         },
         2065419.683211761
        ],
        [
         1000025157,
         32.29,
         12.44,
         37.33,
         5.08,
         2344623,
         {
          "length": 3,
          "values": [
           5.08,
           32.29,
           12.44
          ],
          "vectorType": "dense"
         },
         2358126.8201796194
        ],
        [
         1000025165,
         33.15,
         11.8,
         37.66,
         4.52,
         2200190,
         {
          "length": 3,
          "values": [
           4.52,
           33.15,
           11.8
          ],
          "vectorType": "dense"
         },
         2210848.0848078863
        ],
        [
         1000025167,
         33.63,
         12.04,
         38.92,
         2.87,
         1991248,
         {
          "length": 3,
          "values": [
           2.87,
           33.63,
           12.04
          ],
          "vectorType": "dense"
         },
         1893682.3232020312
        ],
        [
         1000025171,
         33.43,
         10.64,
         37.58,
         2.93,
         1687867,
         {
          "length": 3,
          "values": [
           2.93,
           33.43,
           10.64
          ],
          "vectorType": "dense"
         },
         1670749.5856052325
        ],
        [
         1000025181,
         32.23,
         11.08,
         37.96,
         4.72,
         2068661,
         {
          "length": 3,
          "values": [
           4.72,
           32.23,
           11.08
          ],
          "vectorType": "dense"
         },
         2053037.286418606
        ],
        [
         1000025182,
         34.14,
         13.18,
         38.86,
         3.23,
         2230117,
         {
          "length": 3,
          "values": [
           3.23,
           34.14,
           13.18
          ],
          "vectorType": "dense"
         },
         2211260.6129900455
        ],
        [
         1000025191,
         34.71,
         12.04,
         37.64,
         4.63,
         2449541,
         {
          "length": 3,
          "values": [
           4.63,
           34.71,
           12.04
          ],
          "vectorType": "dense"
         },
         2436437.0572425076
        ],
        [
         1000025198,
         32.41,
         13.81,
         37.43,
         5.04,
         2651844,
         {
          "length": 3,
          "values": [
           5.04,
           32.41,
           13.81
          ],
          "vectorType": "dense"
         },
         2573028.249568851
        ],
        [
         1000025203,
         31.53,
         11.34,
         37.04,
         3.81,
         1775863,
         {
          "length": 3,
          "values": [
           3.81,
           31.53,
           11.34
          ],
          "vectorType": "dense"
         },
         1798039.0874392972
        ],
        [
         1000025209,
         32.9,
         10.54,
         35.53,
         3.09,
         1648052,
         {
          "length": 3,
          "values": [
           3.09,
           32.9,
           10.54
          ],
          "vectorType": "dense"
         },
         1639576.9764430416
        ],
        [
         1000025213,
         33.3,
         12.38,
         38.76,
         3.84,
         2144524,
         {
          "length": 3,
          "values": [
           3.84,
           33.3,
           12.38
          ],
          "vectorType": "dense"
         },
         2149730.978112388
        ],
        [
         1000025216,
         33.61,
         13.69,
         34.89,
         2.69,
         2116227,
         {
          "length": 3,
          "values": [
           2.69,
           33.61,
           13.69
          ],
          "vectorType": "dense"
         },
         2103196.270903164
        ],
        [
         1000025218,
         32.12,
         11.44,
         36.22,
         4.85,
         2115734,
         {
          "length": 3,
          "values": [
           4.85,
           32.12,
           11.44
          ],
          "vectorType": "dense"
         },
         2129265.3582656537
        ],
        [
         1000025223,
         34.33,
         11.11,
         38.59,
         3.89,
         2009639,
         {
          "length": 3,
          "values": [
           3.89,
           34.33,
           11.11
          ],
          "vectorType": "dense"
         },
         2071802.4943373813
        ],
        [
         1000025224,
         34.81,
         12.11,
         36.29,
         4.39,
         2417339,
         {
          "length": 3,
          "values": [
           4.39,
           34.81,
           12.11
          ],
          "vectorType": "dense"
         },
         2398864.984736647
        ],
        [
         1000025227,
         32.3,
         12.17,
         37.07,
         4.4,
         2188444,
         {
          "length": 3,
          "values": [
           4.4,
           32.3,
           12.17
          ],
          "vectorType": "dense"
         },
         2150815.2293056003
        ],
        [
         1000025232,
         34.17,
         12.14,
         37.26,
         3.4,
         2050210,
         {
          "length": 3,
          "values": [
           3.4,
           34.17,
           12.14
          ],
          "vectorType": "dense"
         },
         2094849.9382832893
        ],
        [
         1000025233,
         32.98,
         13.91,
         37.79,
         4.3,
         2521691,
         {
          "length": 3,
          "values": [
           4.3,
           32.98,
           13.91
          ],
          "vectorType": "dense"
         },
         2466316.7025910546
        ],
        [
         1000025235,
         34.2,
         13.03,
         37.08,
         2.63,
         1972721,
         {
          "length": 3,
          "values": [
           2.63,
           34.2,
           13.03
          ],
          "vectorType": "dense"
         },
         2047307.2803851995
        ],
        [
         1000025237,
         32.69,
         12.6,
         37.37,
         3.47,
         2007713,
         {
          "length": 3,
          "values": [
           3.47,
           32.69,
           12.6
          ],
          "vectorType": "dense"
         },
         2030079.8515238552
        ],
        [
         1000025242,
         32.69,
         12.64,
         36.1,
         4.3,
         2285884,
         {
          "length": 3,
          "values": [
           4.3,
           32.69,
           12.64
          ],
          "vectorType": "dense"
         },
         2239519.3802158586
        ],
        [
         1000025246,
         32.98,
         11.2,
         37.69,
         2.41,
         1636282,
         {
          "length": 3,
          "values": [
           2.41,
           32.98,
           11.2
          ],
          "vectorType": "dense"
         },
         1583610.2479787762
        ],
        [
         1000025251,
         32.67,
         12.28,
         37.19,
         3.98,
         2094536,
         {
          "length": 3,
          "values": [
           3.98,
           32.67,
           12.28
          ],
          "vectorType": "dense"
         },
         2103310.5723750456
        ],
        [
         1000025252,
         32.73,
         10.13,
         34.85,
         3.29,
         1575429,
         {
          "length": 3,
          "values": [
           3.29,
           32.73,
           10.13
          ],
          "vectorType": "dense"
         },
         1607427.4178021331
        ],
        [
         1000025262,
         32.55,
         13.04,
         36.66,
         3.46,
         2056039,
         {
          "length": 3,
          "values": [
           3.46,
           32.55,
           13.04
          ],
          "vectorType": "dense"
         },
         2081316.7320247698
        ],
        [
         1000025266,
         33.9,
         11.67,
         37.34,
         4.26,
         2269900,
         {
          "length": 3,
          "values": [
           4.26,
           33.9,
           11.67
          ],
          "vectorType": "dense"
         },
         2204667.1062406874
        ],
        [
         1000025277,
         33.19,
         9.85,
         36.88,
         3.81,
         1693233,
         {
          "length": 3,
          "values": [
           3.81,
           33.19,
           9.85
          ],
          "vectorType": "dense"
         },
         1738986.615243875
        ],
        [
         1000025285,
         31.31,
         11.68,
         38.72,
         3.59,
         1854366,
         {
          "length": 3,
          "values": [
           3.59,
           31.31,
           11.68
          ],
          "vectorType": "dense"
         },
         1774078.4665052858
        ],
        [
         1000025288,
         33.91,
         12.91,
         39.07,
         1.48,
         1729888,
         {
          "length": 3,
          "values": [
           1.48,
           33.91,
           12.91
          ],
          "vectorType": "dense"
         },
         1717097.6660924838
        ],
        [
         1000025290,
         34.39,
         12.81,
         38.55,
         1.81,
         1869711,
         {
          "length": 3,
          "values": [
           1.81,
           34.39,
           12.81
          ],
          "vectorType": "dense"
         },
         1832091.9778620512
        ],
        [
         1000025293,
         33.37,
         11.14,
         35.95,
         5.45,
         2336873,
         {
          "length": 3,
          "values": [
           5.45,
           33.37,
           11.14
          ],
          "vectorType": "dense"
         },
         2359083.4108314677
        ],
        [
         1000025300,
         30.49,
         11.56,
         35.98,
         1.48,
         1129885,
         {
          "length": 3,
          "values": [
           1.48,
           30.49,
           11.56
          ],
          "vectorType": "dense"
         },
         1153936.9646268128
        ],
        [
         1000025302,
         33.03,
         13.19,
         38.07,
         2.9,
         1959632,
         {
          "length": 3,
          "values": [
           2.9,
           33.03,
           13.19
          ],
          "vectorType": "dense"
         },
         2017113.6212231587
        ],
        [
         1000025303,
         32.98,
         13.39,
         37.81,
         3.57,
         2167889,
         {
          "length": 3,
          "values": [
           3.57,
           32.98,
           13.39
          ],
          "vectorType": "dense"
         },
         2206990.1496403855
        ],
        [
         1000025309,
         32.64,
         12.64,
         36.52,
         5.23,
         2419365,
         {
          "length": 3,
          "values": [
           5.23,
           32.64,
           12.64
          ],
          "vectorType": "dense"
         },
         2462072.825948427
        ],
        [
         1000025311,
         33.25,
         11.66,
         36.55,
         3.36,
         1918459,
         {
          "length": 3,
          "values": [
           3.36,
           33.25,
           11.66
          ],
          "vectorType": "dense"
         },
         1915457.4441894828
        ],
        [
         1000025318,
         32.85,
         10.97,
         36.61,
         2.87,
         1619298,
         {
          "length": 3,
          "values": [
           2.87,
           32.85,
           10.97
          ],
          "vectorType": "dense"
         },
         1647157.1666328344
        ],
        [
         1000025319,
         33.53,
         13.67,
         36.9,
         3.52,
         2259164,
         {
          "length": 3,
          "values": [
           3.52,
           33.53,
           13.67
          ],
          "vectorType": "dense"
         },
         2295058.727604915
        ],
        [
         1000025326,
         33.79,
         13.04,
         36.31,
         2.02,
         1788751,
         {
          "length": 3,
          "values": [
           2.02,
           33.79,
           13.04
          ],
          "vectorType": "dense"
         },
         1857049.6683800588
        ],
        [
         1000025331,
         30.57,
         11.35,
         37.09,
         4.08,
         1768258,
         {
          "length": 3,
          "values": [
           4.08,
           30.57,
           11.35
          ],
          "vectorType": "dense"
         },
         1766339.4140367159
        ],
        [
         1000025336,
         32.13,
         11.61,
         39.25,
         3.35,
         1773767,
         {
          "length": 3,
          "values": [
           3.35,
           32.13,
           11.61
          ],
          "vectorType": "dense"
         },
         1789336.9095989554
        ],
        [
         1000025341,
         31.82,
         14.29,
         36.77,
         2.96,
         2004490,
         {
          "length": 3,
          "values": [
           2.96,
           31.82,
           14.29
          ],
          "vectorType": "dense"
         },
         2077006.2372623016
        ],
        [
         1000025346,
         33.89,
         10.61,
         37.98,
         3.54,
         1847164,
         {
          "length": 3,
          "values": [
           3.54,
           33.89,
           10.61
          ],
          "vectorType": "dense"
         },
         1863083.4850925417
        ],
        [
         1000025352,
         32.19,
         11.39,
         38.2,
         4.81,
         2133586,
         {
          "length": 3,
          "values": [
           4.81,
           32.19,
           11.39
          ],
          "vectorType": "dense"
         },
         2118968.572922206
        ],
        [
         1000025366,
         32.03,
         12.64,
         38.0,
         5.04,
         2377098,
         {
          "length": 3,
          "values": [
           5.04,
           32.03,
           12.64
          ],
          "vectorType": "dense"
         },
         2352410.1398257758
        ],
        [
         1000025369,
         34.39,
         12.73,
         36.23,
         5.71,
         2835741,
         {
          "length": 3,
          "values": [
           5.71,
           34.39,
           12.73
          ],
          "vectorType": "dense"
         },
         2774687.4234057046
        ],
        [
         1000025370,
         34.36,
         9.48,
         37.91,
         5.05,
         2127846,
         {
          "length": 3,
          "values": [
           5.05,
           34.36,
           9.48
          ],
          "vectorType": "dense"
         },
         2106394.627536936
        ],
        [
         1000025383,
         33.59,
         9.95,
         37.35,
         3.22,
         1642412,
         {
          "length": 3,
          "values": [
           3.22,
           33.59,
           9.95
          ],
          "vectorType": "dense"
         },
         1651409.804832688
        ],
        [
         1000025385,
         33.59,
         11.52,
         36.19,
         3.56,
         1898129,
         {
          "length": 3,
          "values": [
           3.56,
           33.59,
           11.52
          ],
          "vectorType": "dense"
         },
         1977930.318919987
        ],
        [
         1000025389,
         33.59,
         10.94,
         36.17,
         2.78,
         1630169,
         {
          "length": 3,
          "values": [
           2.78,
           33.59,
           10.94
          ],
          "vectorType": "dense"
         },
         1697063.543254794
        ],
        [
         1000025391,
         35.86,
         11.73,
         36.88,
         3.42,
         2186227,
         {
          "length": 3,
          "values": [
           3.42,
           35.86,
           11.73
          ],
          "vectorType": "dense"
         },
         2211141.4237071057
        ],
        [
         1000025398,
         34.01,
         12.91,
         36.05,
         3.49,
         2190840,
         {
          "length": 3,
          "values": [
           3.49,
           34.01,
           12.91
          ],
          "vectorType": "dense"
         },
         2219635.797348579
        ],
        [
         1000025399,
         34.14,
         11.57,
         38.92,
         4.08,
         2151301,
         {
          "length": 3,
          "values": [
           4.08,
           34.14,
           11.57
          ],
          "vectorType": "dense"
         },
         2169936.990339137
        ],
        [
         1000025410,
         32.09,
         11.91,
         35.19,
         4.35,
         2048663,
         {
          "length": 3,
          "values": [
           4.35,
           32.09,
           11.91
          ],
          "vectorType": "dense"
         },
         2076549.9968471178
        ],
        [
         1000025418,
         32.22,
         12.22,
         36.95,
         2.91,
         1753671,
         {
          "length": 3,
          "values": [
           2.91,
           32.22,
           12.22
          ],
          "vectorType": "dense"
         },
         1785426.6162013435
        ],
        [
         1000025421,
         33.22,
         12.14,
         37.14,
         5.84,
         2655215,
         {
          "length": 3,
          "values": [
           5.84,
           33.22,
           12.14
          ],
          "vectorType": "dense"
         },
         2594002.695045915
        ],
        [
         1000025429,
         31.86,
         14.04,
         37.02,
         3.74,
         2225193,
         {
          "length": 3,
          "values": [
           3.74,
           31.86,
           14.04
          ],
          "vectorType": "dense"
         },
         2233408.175703565
        ],
        [
         1000025434,
         34.28,
         11.82,
         36.31,
         2.12,
         1736577,
         {
          "length": 3,
          "values": [
           2.12,
           34.28,
           11.82
          ],
          "vectorType": "dense"
         },
         1743219.755596451
        ],
        [
         1000025443,
         34.08,
         8.67,
         35.91,
         2.25,
         1234111,
         {
          "length": 3,
          "values": [
           2.25,
           34.08,
           8.67
          ],
          "vectorType": "dense"
         },
         1266272.764121207
        ],
        [
         1000025454,
         33.68,
         10.97,
         37.72,
         3.63,
         1912732,
         {
          "length": 3,
          "values": [
           3.63,
           33.68,
           10.97
          ],
          "vectorType": "dense"
         },
         1919166.3700661366
        ],
        [
         1000025460,
         33.98,
         11.66,
         37.43,
         2.09,
         1631506,
         {
          "length": 3,
          "values": [
           2.09,
           33.98,
           11.66
          ],
          "vectorType": "dense"
         },
         1680031.1260683876
        ],
        [
         1000025463,
         33.5,
         11.23,
         37.21,
         2.32,
         1589682,
         {
          "length": 3,
          "values": [
           2.32,
           33.5,
           11.23
          ],
          "vectorType": "dense"
         },
         1620042.4777604346
        ],
        [
         1000025475,
         33.7,
         13.47,
         37.07,
         2.38,
         1970227,
         {
          "length": 3,
          "values": [
           2.38,
           33.7,
           13.47
          ],
          "vectorType": "dense"
         },
         2002514.0147098382
        ]
       ],
       "datasetInfos": [],
       "dbfsResultPath": null,
       "isJsonSchema": true,
       "metadata": {},
       "overflow": false,
       "plotOptions": {
        "customPlotOptions": {},
        "displayType": "table",
        "pivotAggregation": null,
        "pivotColumns": null,
        "xColumns": null,
        "yColumns": null
       },
       "removedWidgets": [],
       "schema": [
        {
         "metadata": "{}",
         "name": "Id_cliente",
         "type": "\"integer\""
        },
        {
         "metadata": "{}",
         "name": "min_promedio_sesion",
         "type": "\"double\""
        },
        {
         "metadata": "{}",
         "name": "min_en_app",
         "type": "\"double\""
        },
        {
         "metadata": "{}",
         "name": "min_en_web",
         "type": "\"double\""
        },
        {
         "metadata": "{}",
         "name": "anos_miembro",
         "type": "\"double\""
        },
        {
         "metadata": "{}",
         "name": "valor_compras_anuales_cop",
         "type": "\"integer\""
        },
        {
         "metadata": "{\"ml_attr\":{\"attrs\":{\"numeric\":[{\"idx\":0,\"name\":\"anos_miembro\"},{\"idx\":1,\"name\":\"min_promedio_sesion\"},{\"idx\":2,\"name\":\"min_en_app\"}]},\"num_attrs\":3}}",
         "name": "features",
         "type": "{\"type\":\"udt\",\"class\":\"org.apache.spark.ml.linalg.VectorUDT\",\"pyClass\":\"pyspark.ml.linalg.VectorUDT\",\"sqlType\":{\"type\":\"struct\",\"fields\":[{\"name\":\"type\",\"type\":\"byte\",\"nullable\":false,\"metadata\":{}},{\"name\":\"size\",\"type\":\"integer\",\"nullable\":true,\"metadata\":{}},{\"name\":\"indices\",\"type\":{\"type\":\"array\",\"elementType\":\"integer\",\"containsNull\":false},\"nullable\":true,\"metadata\":{}},{\"name\":\"values\",\"type\":{\"type\":\"array\",\"elementType\":\"double\",\"containsNull\":false},\"nullable\":true,\"metadata\":{}}]}}"
        },
        {
         "metadata": "{\"ml_attr\":{}}",
         "name": "prediction",
         "type": "\"double\""
        }
       ],
       "type": "table"
      }
     },
     "output_type": "display_data"
    }
   ],
   "source": [
    "loaded_model = mlflow.spark.load_model(f\"runs:/{run.info.run_uuid}/lrmodel_ecommerce\")\n",
    "display(loaded_model.transform(testDF))"
   ]
  },
  {
   "cell_type": "markdown",
   "metadata": {
    "application/vnd.databricks.v1+cell": {
     "cellMetadata": {},
     "inputWidgets": {},
     "nuid": "082cc652-5c35-43bb-a93c-9b141acdf928",
     "showTitle": false,
     "tableResultSettingsMap": {},
     "title": ""
    }
   },
   "source": [
    "**III. Despliegue del modelo como servicio REST usando MLflow en Databricks.**"
   ]
  },
  {
   "cell_type": "markdown",
   "metadata": {
    "application/vnd.databricks.v1+cell": {
     "cellMetadata": {},
     "inputWidgets": {},
     "nuid": "b8b8c158-072c-43da-9223-6d42579a9caa",
     "showTitle": false,
     "tableResultSettingsMap": {},
     "title": ""
    }
   },
   "source": [
    "3.1 Activar el endpoint de Model Serving en Databricks\n",
    "\n",
    "-En el menú lateral dar clic en 'Modelos', en los modelos registrados, dar clic en 'modelo_regresion_ecommerce'.\n",
    "\n",
    "![Imagen](https://raw.githubusercontent.com/DianaGarcesPortilla//Pipeline_pyspark-MLflow-Despliegue_API/main/image01.png)\n",
    "\n",
    "\n"
   ]
  },
  {
   "cell_type": "markdown",
   "metadata": {
    "application/vnd.databricks.v1+cell": {
     "cellMetadata": {},
     "inputWidgets": {},
     "nuid": "8a743cda-1806-4dc1-be64-22f25dfb0d23",
     "showTitle": false,
     "tableResultSettingsMap": {},
     "title": ""
    }
   },
   "source": [
    "-Seleccionar la versión del modelo si hay más de una, en este caso solo existe la versión 1, por lo tanto, dar clic directamente en el botón superior derecho 'Servir este modelo'. Al realizar esta acción se generará un endpoint REST automático, como el que se enmarca en el recuadro verde.\n",
    "\n",
    "![Imagen](https://raw.githubusercontent.com/DianaGarcesPortilla//Pipeline_pyspark-MLflow-Despliegue_API/main/image02.png)\n",
    "\n",
    "![Imagen](https://raw.githubusercontent.com/DianaGarcesPortilla//Pipeline_pyspark-MLflow-Despliegue_API/main/image03.png)"
   ]
  },
  {
   "cell_type": "markdown",
   "metadata": {
    "application/vnd.databricks.v1+cell": {
     "cellMetadata": {},
     "inputWidgets": {},
     "nuid": "07169881-18ad-4c21-b1d8-2c987da356fa",
     "showTitle": false,
     "tableResultSettingsMap": {},
     "title": ""
    }
   },
   "source": [
    "-Antes de utilizar el modelo desplegado, haciendo uso del endpoint creado anteriormente, para realizar predicciones con nuevos datos. Se Configura la tabla de inferencia para registrar automáticamente las entradas y salidas de un modelo en producción en Databricks Model Serving con MLflow."
   ]
  },
  {
   "cell_type": "code",
   "execution_count": 0,
   "metadata": {
    "application/vnd.databricks.v1+cell": {
     "cellMetadata": {
      "byteLimit": 2048000,
      "rowLimit": 10000
     },
     "inputWidgets": {},
     "nuid": "6a11448a-1e0c-4a20-9157-cfe6c48bd947",
     "showTitle": false,
     "tableResultSettingsMap": {},
     "title": ""
    }
   },
   "outputs": [],
   "source": [
    "from pyspark.sql.types import StructType, StructField, DoubleType, StringType, TimestampType\n",
    "\n",
    "schema = StructType([\n",
    "    StructField(\"input\", StructType([\n",
    "        StructField(\"anos_miembro\", DoubleType()),\n",
    "        StructField(\"min_promedio_sesion\", DoubleType()),\n",
    "        StructField(\"min_en_app\", DoubleType())\n",
    "    ])),\n",
    "    StructField(\"prediction\", DoubleType()),\n",
    "    StructField(\"model_version\", StringType()),\n",
    "    StructField(\"timestamp\", TimestampType())\n",
    "])\n",
    "\n",
    "\n",
    "# Definir el nombre completo con catálogo, base de datos y tabla\n",
    "full_table_name = \"databricks_dc_diana.default.inferenciasmodelo_LRecommerce\"\n",
    "\n",
    "# Crear la tabla Delta en el catálogo y base de datos deseados\n",
    "spark.createDataFrame([], schema).write.format(\"delta\").mode(\"ignore\").saveAsTable(full_table_name)\n",
    "\n"
   ]
  },
  {
   "cell_type": "markdown",
   "metadata": {
    "application/vnd.databricks.v1+cell": {
     "cellMetadata": {},
     "inputWidgets": {},
     "nuid": "f3e97da5-25da-4de5-ac1a-d91dc893598f",
     "showTitle": false,
     "tableResultSettingsMap": {},
     "title": ""
    }
   },
   "source": [
    "-Llamar el modelo desplegado en Databricks vía API REST usando Python, desde un notebook de Databricks con es este caso o también desdePython externo."
   ]
  },
  {
   "cell_type": "code",
   "execution_count": 0,
   "metadata": {
    "application/vnd.databricks.v1+cell": {
     "cellMetadata": {},
     "inputWidgets": {},
     "nuid": "f155969b-4f17-4130-927d-70335f0a2c9f",
     "showTitle": false,
     "tableResultSettingsMap": {},
     "title": ""
    }
   },
   "outputs": [],
   "source": [
    "import requests\n",
    "import json\n",
    "\n",
    "#URL del endpoint de predicción\n",
    "endpoint_url = \"https://adb-7478246240934.azuredatabricks.net/serving-endpoints/LRecommerce/invocations\"\n",
    "\n",
    "#Token de acceso personal (PAT)\n",
    "token = \"dapi500ea75c3d5\" \n",
    "\n",
    "#Datos de entrada (deben coincidir con las columnas del modelo)\n",
    "input_data = {\n",
    "    \"dataframe_split\": {\n",
    "        \"columns\": [\"anos_miembro\", \"min_promedio_sesion\", \"min_en_app\"],\n",
    "        \"data\": [\n",
    "            [5, 38.2, 14.0],\n",
    "            [3, 50.1, 20.5]\n",
    "        ]\n",
    "    }\n",
    "}\n",
    "\n",
    "#Cabeceras HTTP con token de autenticación\n",
    "headers = {\n",
    "    \"Authorization\": f\"Bearer {token}\",\n",
    "    \"Content-Type\": \"application/json\"\n",
    "}\n",
    "\n",
    "# Enviar solicitud POST\n",
    "response = requests.post(endpoint_url, headers=headers, json=input_data)\n",
    "\n",
    "#Mostrar la predicción\n",
    "if response.status_code == 200:\n",
    "    predictions = response.json()\n",
    "    print(\"Predicciones:\", predictions)\n",
    "else:\n",
    "    print(\"Error:\", response.status_code, response.text)\n"
   ]
  }
 ],
 "metadata": {
  "application/vnd.databricks.v1+notebook": {
   "computePreferences": null,
   "dashboards": [],
   "environmentMetadata": {
    "base_environment": "",
    "environment_version": "2"
   },
   "inputWidgetPreferences": null,
   "language": "python",
   "notebookMetadata": {
    "pythonIndentUnit": 4
   },
   "notebookName": "ml_Ecommerce",
   "widgets": {}
  },
  "language_info": {
   "name": "python"
  }
 },
 "nbformat": 4,
 "nbformat_minor": 0
}